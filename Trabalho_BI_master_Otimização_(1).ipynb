{
  "nbformat": 4,
  "nbformat_minor": 0,
  "metadata": {
    "colab": {
      "name": "Trabalho_BI_master_Otimização (1).ipynb",
      "provenance": [],
      "collapsed_sections": [],
      "include_colab_link": true
    },
    "kernelspec": {
      "name": "python3",
      "display_name": "Python 3"
    }
  },
  "cells": [
    {
      "cell_type": "markdown",
      "metadata": {
        "id": "view-in-github",
        "colab_type": "text"
      },
      "source": [
        "<a href=\"https://colab.research.google.com/github/DanielRZO/Algoritmo_Genetico_problema_de_ordem/blob/main/Trabalho_BI_master_Otimiza%C3%A7%C3%A3o_(1).ipynb\" target=\"_parent\"><img src=\"https://colab.research.google.com/assets/colab-badge.svg\" alt=\"Open In Colab\"/></a>"
      ]
    },
    {
      "cell_type": "markdown",
      "metadata": {
        "id": "6NQrqtei0k_E"
      },
      "source": [
        "## Distribuição de vacinas contra covid em postos de vacinação Zona Sul do Rio\n",
        "\n",
        "Imagine quem uma situação de emergência, chegaram vacinas no aeroporo Santos Dummont para distribuição em 20 pontos de vacinação da Zona Sul Rio de Janeiro. Por questões de Logistica as vacinas que chegaram no aeroporto Galeão serão distribuídas nas demais regiões da cidade.\n",
        "\n",
        "Assim o objetivo do trabalho é maximizar uma rota de distribuição para essas regiões.\n"
      ]
    },
    {
      "cell_type": "code",
      "metadata": {
        "colab": {
          "base_uri": "https://localhost:8080/"
        },
        "id": "NJoHL7EEEue3",
        "outputId": "ab2b6dbb-b77b-4f7c-e23d-4e942be7b24c"
      },
      "source": [
        "import folium\n",
        "!pip install openrouteservice \n",
        "from openrouteservice import client\n",
        "from shapely import wkt, geometry\n",
        "import json\n",
        "from pprint import pprint\n",
        "from scipy.spatial import distance_matrix\n",
        "import pandas as pd\n",
        "import random\n",
        "import numpy\n",
        "!pip install deap\n",
        "from deap import base\n",
        "from deap import creator\n",
        "from deap import tools\n",
        "from deap import algorithms\n",
        "import math"
      ],
      "execution_count": null,
      "outputs": [
        {
          "output_type": "stream",
          "text": [
            "Requirement already satisfied: openrouteservice in /usr/local/lib/python3.7/dist-packages (2.3.3)\n",
            "Requirement already satisfied: requests>=2.0 in /usr/local/lib/python3.7/dist-packages (from openrouteservice) (2.23.0)\n",
            "Requirement already satisfied: chardet<4,>=3.0.2 in /usr/local/lib/python3.7/dist-packages (from requests>=2.0->openrouteservice) (3.0.4)\n",
            "Requirement already satisfied: idna<3,>=2.5 in /usr/local/lib/python3.7/dist-packages (from requests>=2.0->openrouteservice) (2.10)\n",
            "Requirement already satisfied: urllib3!=1.25.0,!=1.25.1,<1.26,>=1.21.1 in /usr/local/lib/python3.7/dist-packages (from requests>=2.0->openrouteservice) (1.24.3)\n",
            "Requirement already satisfied: certifi>=2017.4.17 in /usr/local/lib/python3.7/dist-packages (from requests>=2.0->openrouteservice) (2021.5.30)\n"
          ],
          "name": "stdout"
        }
      ]
    },
    {
      "cell_type": "code",
      "metadata": {
        "colab": {
          "base_uri": "https://localhost:8080/",
          "height": 471
        },
        "id": "t2LUH6RJEzDZ",
        "outputId": "456dbda6-8c00-424c-c80e-634221b1973d"
      },
      "source": [
        "# chave de acesso para rotas, caso necessário\n",
        "api_key = 'your key' \n",
        "\n",
        "# dimensionamento da figura\n",
        "from branca.element import Figure\n",
        "fig=Figure(width=750,height=450)\n",
        "\n",
        "# inicialemnte visualizaremos um primeiro mapa da zona sul do Rio de Janeiro\n",
        "m=folium.Map(width=750,height=450, location=[-22.95710445596429, -43.18545729573689], zoom_start=13, min_zoom=8, max_zoom = 15) \n",
        "fig.add_child(m)\n",
        "m"
      ],
      "execution_count": null,
      "outputs": [
        {
          "output_type": "execute_result",
          "data": {
            "text/html": [
              "<iframe src=\"about:blank\" width=\"750\" height=\"450\"style=\"border:none !important;\" data-html=%3C%21DOCTYPE%20html%3E%0A%3Chead%3E%20%20%20%20%0A%20%20%20%20%3Cmeta%20http-equiv%3D%22content-type%22%20content%3D%22text/html%3B%20charset%3DUTF-8%22%20/%3E%0A%20%20%20%20%3Cscript%3EL_PREFER_CANVAS%3Dfalse%3B%20L_NO_TOUCH%3Dfalse%3B%20L_DISABLE_3D%3Dfalse%3B%3C/script%3E%0A%20%20%20%20%3Cscript%20src%3D%22https%3A//cdn.jsdelivr.net/npm/leaflet%401.4.0/dist/leaflet.js%22%3E%3C/script%3E%0A%20%20%20%20%3Cscript%20src%3D%22https%3A//code.jquery.com/jquery-1.12.4.min.js%22%3E%3C/script%3E%0A%20%20%20%20%3Cscript%20src%3D%22https%3A//maxcdn.bootstrapcdn.com/bootstrap/3.2.0/js/bootstrap.min.js%22%3E%3C/script%3E%0A%20%20%20%20%3Cscript%20src%3D%22https%3A//cdnjs.cloudflare.com/ajax/libs/Leaflet.awesome-markers/2.0.2/leaflet.awesome-markers.js%22%3E%3C/script%3E%0A%20%20%20%20%3Clink%20rel%3D%22stylesheet%22%20href%3D%22https%3A//cdn.jsdelivr.net/npm/leaflet%401.4.0/dist/leaflet.css%22/%3E%0A%20%20%20%20%3Clink%20rel%3D%22stylesheet%22%20href%3D%22https%3A//maxcdn.bootstrapcdn.com/bootstrap/3.2.0/css/bootstrap.min.css%22/%3E%0A%20%20%20%20%3Clink%20rel%3D%22stylesheet%22%20href%3D%22https%3A//maxcdn.bootstrapcdn.com/bootstrap/3.2.0/css/bootstrap-theme.min.css%22/%3E%0A%20%20%20%20%3Clink%20rel%3D%22stylesheet%22%20href%3D%22https%3A//maxcdn.bootstrapcdn.com/font-awesome/4.6.3/css/font-awesome.min.css%22/%3E%0A%20%20%20%20%3Clink%20rel%3D%22stylesheet%22%20href%3D%22https%3A//cdnjs.cloudflare.com/ajax/libs/Leaflet.awesome-markers/2.0.2/leaflet.awesome-markers.css%22/%3E%0A%20%20%20%20%3Clink%20rel%3D%22stylesheet%22%20href%3D%22https%3A//rawcdn.githack.com/python-visualization/folium/master/folium/templates/leaflet.awesome.rotate.css%22/%3E%0A%20%20%20%20%3Cstyle%3Ehtml%2C%20body%20%7Bwidth%3A%20100%25%3Bheight%3A%20100%25%3Bmargin%3A%200%3Bpadding%3A%200%3B%7D%3C/style%3E%0A%20%20%20%20%3Cstyle%3E%23map%20%7Bposition%3Aabsolute%3Btop%3A0%3Bbottom%3A0%3Bright%3A0%3Bleft%3A0%3B%7D%3C/style%3E%0A%20%20%20%20%0A%20%20%20%20%3Cmeta%20name%3D%22viewport%22%20content%3D%22width%3Ddevice-width%2C%0A%20%20%20%20%20%20%20%20initial-scale%3D1.0%2C%20maximum-scale%3D1.0%2C%20user-scalable%3Dno%22%20/%3E%0A%20%20%20%20%3Cstyle%3E%23map_bc409e4ab39546f9aa70f02923a75071%20%7B%0A%20%20%20%20%20%20%20%20position%3A%20relative%3B%0A%20%20%20%20%20%20%20%20width%3A%20750.0px%3B%0A%20%20%20%20%20%20%20%20height%3A%20450.0px%3B%0A%20%20%20%20%20%20%20%20left%3A%200.0%25%3B%0A%20%20%20%20%20%20%20%20top%3A%200.0%25%3B%0A%20%20%20%20%20%20%20%20%7D%0A%20%20%20%20%3C/style%3E%0A%3C/head%3E%0A%3Cbody%3E%20%20%20%20%0A%20%20%20%20%0A%20%20%20%20%3Cdiv%20class%3D%22folium-map%22%20id%3D%22map_bc409e4ab39546f9aa70f02923a75071%22%20%3E%3C/div%3E%0A%3C/body%3E%0A%3Cscript%3E%20%20%20%20%0A%20%20%20%20%0A%20%20%20%20%0A%20%20%20%20%20%20%20%20var%20bounds%20%3D%20null%3B%0A%20%20%20%20%0A%0A%20%20%20%20var%20map_bc409e4ab39546f9aa70f02923a75071%20%3D%20L.map%28%0A%20%20%20%20%20%20%20%20%27map_bc409e4ab39546f9aa70f02923a75071%27%2C%20%7B%0A%20%20%20%20%20%20%20%20center%3A%20%5B-22.95710445596429%2C%20-43.18545729573689%5D%2C%0A%20%20%20%20%20%20%20%20zoom%3A%2013%2C%0A%20%20%20%20%20%20%20%20maxBounds%3A%20bounds%2C%0A%20%20%20%20%20%20%20%20layers%3A%20%5B%5D%2C%0A%20%20%20%20%20%20%20%20worldCopyJump%3A%20false%2C%0A%20%20%20%20%20%20%20%20crs%3A%20L.CRS.EPSG3857%2C%0A%20%20%20%20%20%20%20%20zoomControl%3A%20true%2C%0A%20%20%20%20%20%20%20%20%7D%29%3B%0A%0A%0A%20%20%20%20%0A%20%20%20%20var%20tile_layer_ad339bea20cf423398ff68628fb97a14%20%3D%20L.tileLayer%28%0A%20%20%20%20%20%20%20%20%27https%3A//%7Bs%7D.tile.openstreetmap.org/%7Bz%7D/%7Bx%7D/%7By%7D.png%27%2C%0A%20%20%20%20%20%20%20%20%7B%0A%20%20%20%20%20%20%20%20%22attribution%22%3A%20null%2C%0A%20%20%20%20%20%20%20%20%22detectRetina%22%3A%20false%2C%0A%20%20%20%20%20%20%20%20%22maxNativeZoom%22%3A%2015%2C%0A%20%20%20%20%20%20%20%20%22maxZoom%22%3A%2015%2C%0A%20%20%20%20%20%20%20%20%22minZoom%22%3A%208%2C%0A%20%20%20%20%20%20%20%20%22noWrap%22%3A%20false%2C%0A%20%20%20%20%20%20%20%20%22opacity%22%3A%201%2C%0A%20%20%20%20%20%20%20%20%22subdomains%22%3A%20%22abc%22%2C%0A%20%20%20%20%20%20%20%20%22tms%22%3A%20false%0A%7D%29.addTo%28map_bc409e4ab39546f9aa70f02923a75071%29%3B%0A%3C/script%3E onload=\"this.contentDocument.open();this.contentDocument.write(    decodeURIComponent(this.getAttribute('data-html')));this.contentDocument.close();\" \"allowfullscreen\" \"webkitallowfullscreen\" \"mozallowfullscreen\"></iframe>"
            ],
            "text/plain": [
              "<folium.folium.Map at 0x7fca77fb9cd0>"
            ]
          },
          "metadata": {
            "tags": []
          },
          "execution_count": 113
        }
      ]
    },
    {
      "cell_type": "code",
      "metadata": {
        "colab": {
          "base_uri": "https://localhost:8080/",
          "height": 471
        },
        "id": "sF8GmV6OX-Kj",
        "outputId": "9c7db292-9d85-4fcc-c1dd-4ad84350c111"
      },
      "source": [
        "# aqui adicionaremos os 20 pontos de vacinação escolhidos pela secretaria de saúde, para distribuição das vacinas\n",
        "\n",
        "#obs.: SMS é posto de saúde\n",
        "\n",
        "#as marcações ficaram no mapa\n",
        "folium.Marker(location=[-22.90984609532672, -43.16453481901272],popup='Santos_Dumont',tooltip='Click here to see Popup').add_to(m) #0\n",
        "folium.Marker(location=[-22.961542179910733, -43.21865804016312],popup='ABBR',tooltip='Click here to see Popup').add_to(m) #1\n",
        "folium.Marker(location=[-22.980824138520926, -43.196170400227025],popup='SMS_Cantagalo',tooltip='Click here to see Popup').add_to(m) #2\n",
        "folium.Marker(location=[-22.982878611270564, -43.18999059077894],popup='Hotel_Fairmont',tooltip='Click here to see Popup').add_to(m) #3\n",
        "folium.Marker(location=[-22.993056213757274, -43.234514089931956],popup='SMS_Rodolpho',tooltip='Click here to see Popup').add_to(m) #4\n",
        "folium.Marker(location=[-22.976046350999486, -43.222677436582906],popup='SMS_Pad_Miguel',tooltip='Click here to see Popup').add_to(m) #5\n",
        "folium.Marker(location=[-22.97453236829065, -43.23068921451901],popup='Planetario',tooltip='Click here to see Popup').add_to(m) #6\n",
        "folium.Marker(location=[-22.966471836602683, -43.18743054810058],popup='SMS_JoaBarros',tooltip='Click here to see Popup').add_to(m) #7\n",
        "folium.Marker(location=[-22.9580946963788, -43.17163770179098],popup='SMS_ChapeuMang',tooltip='Click here to see Popup').add_to(m) #8\n",
        "folium.Marker(location=[-22.961615032735804, -43.16969176144102],popup='Paroquia_Rosario',tooltip='Click here to see Popup').add_to(m) #9\n",
        "folium.Marker(location=[-22.956908837230625, -43.19922559314023],popup='Bombeiro_Humaita',tooltip='Click here to see Popup').add_to(m) #10\n",
        "folium.Marker(location=[-22.949163404648825, -43.192959953005364],popup='SMS_DonaMarta',tooltip='Click here to see Popup').add_to(m) #11\n",
        "folium.Marker(location=[-22.951060286280853, -43.18635099012338],popup='SMS_DomHelter',tooltip='Click here to see Popup').add_to(m) #12\n",
        "folium.Marker(location=[-22.949479553434184, -43.189269233473865],popup='Casa_Firjan',tooltip='Click here to see Popup').add_to(m) #13\n",
        "folium.Marker(location=[-22.952482930053158, -43.17218892680484],popup='Inst_Benjamin',tooltip='Click here to see Popup').add_to(m) #14\n",
        "folium.Marker(location=[-22.9252634072209, -43.17883808757883],popup='SMS_Manoel',tooltip='Click here to see Popup').add_to(m) #15\n",
        "folium.Marker(location=[-22.92558945200113, -43.17631717131938],popup='Museu_Republica',tooltip='Click here to see Popup').add_to(m) #16\n",
        "folium.Marker(location=[-22.952991968665895, -43.17672013096345],popup='RochaMaia',tooltip='Click here to see Popup').add_to(m) #17\n",
        "folium.Marker(location=[-22.972828312011444, -43.22298287113733],popup='Jockey',tooltip='Click here to see Popup').add_to(m) #18\n",
        "folium.Marker(location=[-22.993072809149222, -43.24392819385125],popup='SMS_Rinaldo',tooltip='Click here to see Popup').add_to(m) #19\n",
        "m"
      ],
      "execution_count": null,
      "outputs": [
        {
          "output_type": "execute_result",
          "data": {
            "text/html": [
              "<iframe src=\"about:blank\" width=\"750\" height=\"450\"style=\"border:none !important;\" data-html=%3C%21DOCTYPE%20html%3E%0A%3Chead%3E%20%20%20%20%0A%20%20%20%20%3Cmeta%20http-equiv%3D%22content-type%22%20content%3D%22text/html%3B%20charset%3DUTF-8%22%20/%3E%0A%20%20%20%20%3Cscript%3EL_PREFER_CANVAS%3Dfalse%3B%20L_NO_TOUCH%3Dfalse%3B%20L_DISABLE_3D%3Dfalse%3B%3C/script%3E%0A%20%20%20%20%3Cscript%20src%3D%22https%3A//cdn.jsdelivr.net/npm/leaflet%401.4.0/dist/leaflet.js%22%3E%3C/script%3E%0A%20%20%20%20%3Cscript%20src%3D%22https%3A//code.jquery.com/jquery-1.12.4.min.js%22%3E%3C/script%3E%0A%20%20%20%20%3Cscript%20src%3D%22https%3A//maxcdn.bootstrapcdn.com/bootstrap/3.2.0/js/bootstrap.min.js%22%3E%3C/script%3E%0A%20%20%20%20%3Cscript%20src%3D%22https%3A//cdnjs.cloudflare.com/ajax/libs/Leaflet.awesome-markers/2.0.2/leaflet.awesome-markers.js%22%3E%3C/script%3E%0A%20%20%20%20%3Clink%20rel%3D%22stylesheet%22%20href%3D%22https%3A//cdn.jsdelivr.net/npm/leaflet%401.4.0/dist/leaflet.css%22/%3E%0A%20%20%20%20%3Clink%20rel%3D%22stylesheet%22%20href%3D%22https%3A//maxcdn.bootstrapcdn.com/bootstrap/3.2.0/css/bootstrap.min.css%22/%3E%0A%20%20%20%20%3Clink%20rel%3D%22stylesheet%22%20href%3D%22https%3A//maxcdn.bootstrapcdn.com/bootstrap/3.2.0/css/bootstrap-theme.min.css%22/%3E%0A%20%20%20%20%3Clink%20rel%3D%22stylesheet%22%20href%3D%22https%3A//maxcdn.bootstrapcdn.com/font-awesome/4.6.3/css/font-awesome.min.css%22/%3E%0A%20%20%20%20%3Clink%20rel%3D%22stylesheet%22%20href%3D%22https%3A//cdnjs.cloudflare.com/ajax/libs/Leaflet.awesome-markers/2.0.2/leaflet.awesome-markers.css%22/%3E%0A%20%20%20%20%3Clink%20rel%3D%22stylesheet%22%20href%3D%22https%3A//rawcdn.githack.com/python-visualization/folium/master/folium/templates/leaflet.awesome.rotate.css%22/%3E%0A%20%20%20%20%3Cstyle%3Ehtml%2C%20body%20%7Bwidth%3A%20100%25%3Bheight%3A%20100%25%3Bmargin%3A%200%3Bpadding%3A%200%3B%7D%3C/style%3E%0A%20%20%20%20%3Cstyle%3E%23map%20%7Bposition%3Aabsolute%3Btop%3A0%3Bbottom%3A0%3Bright%3A0%3Bleft%3A0%3B%7D%3C/style%3E%0A%20%20%20%20%0A%20%20%20%20%3Cmeta%20name%3D%22viewport%22%20content%3D%22width%3Ddevice-width%2C%0A%20%20%20%20%20%20%20%20initial-scale%3D1.0%2C%20maximum-scale%3D1.0%2C%20user-scalable%3Dno%22%20/%3E%0A%20%20%20%20%3Cstyle%3E%23map_bc409e4ab39546f9aa70f02923a75071%20%7B%0A%20%20%20%20%20%20%20%20position%3A%20relative%3B%0A%20%20%20%20%20%20%20%20width%3A%20750.0px%3B%0A%20%20%20%20%20%20%20%20height%3A%20450.0px%3B%0A%20%20%20%20%20%20%20%20left%3A%200.0%25%3B%0A%20%20%20%20%20%20%20%20top%3A%200.0%25%3B%0A%20%20%20%20%20%20%20%20%7D%0A%20%20%20%20%3C/style%3E%0A%3C/head%3E%0A%3Cbody%3E%20%20%20%20%0A%20%20%20%20%0A%20%20%20%20%3Cdiv%20class%3D%22folium-map%22%20id%3D%22map_bc409e4ab39546f9aa70f02923a75071%22%20%3E%3C/div%3E%0A%3C/body%3E%0A%3Cscript%3E%20%20%20%20%0A%20%20%20%20%0A%20%20%20%20%0A%20%20%20%20%20%20%20%20var%20bounds%20%3D%20null%3B%0A%20%20%20%20%0A%0A%20%20%20%20var%20map_bc409e4ab39546f9aa70f02923a75071%20%3D%20L.map%28%0A%20%20%20%20%20%20%20%20%27map_bc409e4ab39546f9aa70f02923a75071%27%2C%20%7B%0A%20%20%20%20%20%20%20%20center%3A%20%5B-22.95710445596429%2C%20-43.18545729573689%5D%2C%0A%20%20%20%20%20%20%20%20zoom%3A%2013%2C%0A%20%20%20%20%20%20%20%20maxBounds%3A%20bounds%2C%0A%20%20%20%20%20%20%20%20layers%3A%20%5B%5D%2C%0A%20%20%20%20%20%20%20%20worldCopyJump%3A%20false%2C%0A%20%20%20%20%20%20%20%20crs%3A%20L.CRS.EPSG3857%2C%0A%20%20%20%20%20%20%20%20zoomControl%3A%20true%2C%0A%20%20%20%20%20%20%20%20%7D%29%3B%0A%0A%0A%20%20%20%20%0A%20%20%20%20var%20tile_layer_ad339bea20cf423398ff68628fb97a14%20%3D%20L.tileLayer%28%0A%20%20%20%20%20%20%20%20%27https%3A//%7Bs%7D.tile.openstreetmap.org/%7Bz%7D/%7Bx%7D/%7By%7D.png%27%2C%0A%20%20%20%20%20%20%20%20%7B%0A%20%20%20%20%20%20%20%20%22attribution%22%3A%20null%2C%0A%20%20%20%20%20%20%20%20%22detectRetina%22%3A%20false%2C%0A%20%20%20%20%20%20%20%20%22maxNativeZoom%22%3A%2015%2C%0A%20%20%20%20%20%20%20%20%22maxZoom%22%3A%2015%2C%0A%20%20%20%20%20%20%20%20%22minZoom%22%3A%208%2C%0A%20%20%20%20%20%20%20%20%22noWrap%22%3A%20false%2C%0A%20%20%20%20%20%20%20%20%22opacity%22%3A%201%2C%0A%20%20%20%20%20%20%20%20%22subdomains%22%3A%20%22abc%22%2C%0A%20%20%20%20%20%20%20%20%22tms%22%3A%20false%0A%7D%29.addTo%28map_bc409e4ab39546f9aa70f02923a75071%29%3B%0A%20%20%20%20%0A%20%20%20%20%20%20%20%20var%20marker_b8d137e9b7424f3eb6ce95d3ceb37b36%20%3D%20L.marker%28%0A%20%20%20%20%20%20%20%20%20%20%20%20%5B-22.90984609532672%2C%20-43.16453481901272%5D%2C%0A%20%20%20%20%20%20%20%20%20%20%20%20%7B%0A%20%20%20%20%20%20%20%20%20%20%20%20%20%20%20%20icon%3A%20new%20L.Icon.Default%28%29%2C%0A%20%20%20%20%20%20%20%20%20%20%20%20%20%20%20%20%7D%0A%20%20%20%20%20%20%20%20%20%20%20%20%29.addTo%28map_bc409e4ab39546f9aa70f02923a75071%29%3B%0A%20%20%20%20%20%20%20%20%0A%20%20%20%20%0A%20%20%20%20%20%20%20%20%20%20%20%20var%20popup_4b25a042a5ee473f9951297073cd92f3%20%3D%20L.popup%28%7BmaxWidth%3A%20%27100%25%27%0A%20%20%20%20%20%20%20%20%20%20%20%20%0A%20%20%20%20%20%20%20%20%20%20%20%20%7D%29%3B%0A%0A%20%20%20%20%20%20%20%20%20%20%20%20%0A%20%20%20%20%20%20%20%20%20%20%20%20%20%20%20%20var%20html_89e4248146334da19ba86f62d2c77bd7%20%3D%20%24%28%60%3Cdiv%20id%3D%22html_89e4248146334da19ba86f62d2c77bd7%22%20style%3D%22width%3A%20100.0%25%3B%20height%3A%20100.0%25%3B%22%3ESantos_Dumont%3C/div%3E%60%29%5B0%5D%3B%0A%20%20%20%20%20%20%20%20%20%20%20%20%20%20%20%20popup_4b25a042a5ee473f9951297073cd92f3.setContent%28html_89e4248146334da19ba86f62d2c77bd7%29%3B%0A%20%20%20%20%20%20%20%20%20%20%20%20%0A%0A%20%20%20%20%20%20%20%20%20%20%20%20marker_b8d137e9b7424f3eb6ce95d3ceb37b36.bindPopup%28popup_4b25a042a5ee473f9951297073cd92f3%29%0A%20%20%20%20%20%20%20%20%20%20%20%20%3B%0A%0A%20%20%20%20%20%20%20%20%20%20%20%20%0A%20%20%20%20%20%20%20%20%0A%20%20%20%20%0A%20%20%20%20%20%20%20%20marker_b8d137e9b7424f3eb6ce95d3ceb37b36.bindTooltip%28%0A%20%20%20%20%20%20%20%20%20%20%20%20%60%3Cdiv%3E%60%0A%20%20%20%20%20%20%20%20%20%20%20%20%2B%20%60Click%20here%20to%20see%20Popup%60%20%2B%20%60%3C/div%3E%60%2C%0A%20%20%20%20%20%20%20%20%20%20%20%20%7B%22sticky%22%3A%20true%7D%0A%20%20%20%20%20%20%20%20%29%3B%0A%20%20%20%20%20%20%20%20%0A%20%20%20%20%0A%20%20%20%20%20%20%20%20var%20marker_b79c601f3e9d46a5be0f7e0796bb26d4%20%3D%20L.marker%28%0A%20%20%20%20%20%20%20%20%20%20%20%20%5B-22.961542179910733%2C%20-43.21865804016312%5D%2C%0A%20%20%20%20%20%20%20%20%20%20%20%20%7B%0A%20%20%20%20%20%20%20%20%20%20%20%20%20%20%20%20icon%3A%20new%20L.Icon.Default%28%29%2C%0A%20%20%20%20%20%20%20%20%20%20%20%20%20%20%20%20%7D%0A%20%20%20%20%20%20%20%20%20%20%20%20%29.addTo%28map_bc409e4ab39546f9aa70f02923a75071%29%3B%0A%20%20%20%20%20%20%20%20%0A%20%20%20%20%0A%20%20%20%20%20%20%20%20%20%20%20%20var%20popup_6f413ce741b74fe08d30fba3a94c2192%20%3D%20L.popup%28%7BmaxWidth%3A%20%27100%25%27%0A%20%20%20%20%20%20%20%20%20%20%20%20%0A%20%20%20%20%20%20%20%20%20%20%20%20%7D%29%3B%0A%0A%20%20%20%20%20%20%20%20%20%20%20%20%0A%20%20%20%20%20%20%20%20%20%20%20%20%20%20%20%20var%20html_9cada41bccfa4dec80f9123abfccd38b%20%3D%20%24%28%60%3Cdiv%20id%3D%22html_9cada41bccfa4dec80f9123abfccd38b%22%20style%3D%22width%3A%20100.0%25%3B%20height%3A%20100.0%25%3B%22%3EABBR%3C/div%3E%60%29%5B0%5D%3B%0A%20%20%20%20%20%20%20%20%20%20%20%20%20%20%20%20popup_6f413ce741b74fe08d30fba3a94c2192.setContent%28html_9cada41bccfa4dec80f9123abfccd38b%29%3B%0A%20%20%20%20%20%20%20%20%20%20%20%20%0A%0A%20%20%20%20%20%20%20%20%20%20%20%20marker_b79c601f3e9d46a5be0f7e0796bb26d4.bindPopup%28popup_6f413ce741b74fe08d30fba3a94c2192%29%0A%20%20%20%20%20%20%20%20%20%20%20%20%3B%0A%0A%20%20%20%20%20%20%20%20%20%20%20%20%0A%20%20%20%20%20%20%20%20%0A%20%20%20%20%0A%20%20%20%20%20%20%20%20marker_b79c601f3e9d46a5be0f7e0796bb26d4.bindTooltip%28%0A%20%20%20%20%20%20%20%20%20%20%20%20%60%3Cdiv%3E%60%0A%20%20%20%20%20%20%20%20%20%20%20%20%2B%20%60Click%20here%20to%20see%20Popup%60%20%2B%20%60%3C/div%3E%60%2C%0A%20%20%20%20%20%20%20%20%20%20%20%20%7B%22sticky%22%3A%20true%7D%0A%20%20%20%20%20%20%20%20%29%3B%0A%20%20%20%20%20%20%20%20%0A%20%20%20%20%0A%20%20%20%20%20%20%20%20var%20marker_1e7d8ddd3c8d45a190a6be595a88ce32%20%3D%20L.marker%28%0A%20%20%20%20%20%20%20%20%20%20%20%20%5B-22.980824138520926%2C%20-43.196170400227025%5D%2C%0A%20%20%20%20%20%20%20%20%20%20%20%20%7B%0A%20%20%20%20%20%20%20%20%20%20%20%20%20%20%20%20icon%3A%20new%20L.Icon.Default%28%29%2C%0A%20%20%20%20%20%20%20%20%20%20%20%20%20%20%20%20%7D%0A%20%20%20%20%20%20%20%20%20%20%20%20%29.addTo%28map_bc409e4ab39546f9aa70f02923a75071%29%3B%0A%20%20%20%20%20%20%20%20%0A%20%20%20%20%0A%20%20%20%20%20%20%20%20%20%20%20%20var%20popup_24f4d2a1c1064ef498022e645584cd4d%20%3D%20L.popup%28%7BmaxWidth%3A%20%27100%25%27%0A%20%20%20%20%20%20%20%20%20%20%20%20%0A%20%20%20%20%20%20%20%20%20%20%20%20%7D%29%3B%0A%0A%20%20%20%20%20%20%20%20%20%20%20%20%0A%20%20%20%20%20%20%20%20%20%20%20%20%20%20%20%20var%20html_07cbb556d7fa4235b6b171952013fb4a%20%3D%20%24%28%60%3Cdiv%20id%3D%22html_07cbb556d7fa4235b6b171952013fb4a%22%20style%3D%22width%3A%20100.0%25%3B%20height%3A%20100.0%25%3B%22%3ESMS_Cantagalo%3C/div%3E%60%29%5B0%5D%3B%0A%20%20%20%20%20%20%20%20%20%20%20%20%20%20%20%20popup_24f4d2a1c1064ef498022e645584cd4d.setContent%28html_07cbb556d7fa4235b6b171952013fb4a%29%3B%0A%20%20%20%20%20%20%20%20%20%20%20%20%0A%0A%20%20%20%20%20%20%20%20%20%20%20%20marker_1e7d8ddd3c8d45a190a6be595a88ce32.bindPopup%28popup_24f4d2a1c1064ef498022e645584cd4d%29%0A%20%20%20%20%20%20%20%20%20%20%20%20%3B%0A%0A%20%20%20%20%20%20%20%20%20%20%20%20%0A%20%20%20%20%20%20%20%20%0A%20%20%20%20%0A%20%20%20%20%20%20%20%20marker_1e7d8ddd3c8d45a190a6be595a88ce32.bindTooltip%28%0A%20%20%20%20%20%20%20%20%20%20%20%20%60%3Cdiv%3E%60%0A%20%20%20%20%20%20%20%20%20%20%20%20%2B%20%60Click%20here%20to%20see%20Popup%60%20%2B%20%60%3C/div%3E%60%2C%0A%20%20%20%20%20%20%20%20%20%20%20%20%7B%22sticky%22%3A%20true%7D%0A%20%20%20%20%20%20%20%20%29%3B%0A%20%20%20%20%20%20%20%20%0A%20%20%20%20%0A%20%20%20%20%20%20%20%20var%20marker_65ce16234f934dc39c58cc9d960849d4%20%3D%20L.marker%28%0A%20%20%20%20%20%20%20%20%20%20%20%20%5B-22.982878611270564%2C%20-43.18999059077894%5D%2C%0A%20%20%20%20%20%20%20%20%20%20%20%20%7B%0A%20%20%20%20%20%20%20%20%20%20%20%20%20%20%20%20icon%3A%20new%20L.Icon.Default%28%29%2C%0A%20%20%20%20%20%20%20%20%20%20%20%20%20%20%20%20%7D%0A%20%20%20%20%20%20%20%20%20%20%20%20%29.addTo%28map_bc409e4ab39546f9aa70f02923a75071%29%3B%0A%20%20%20%20%20%20%20%20%0A%20%20%20%20%0A%20%20%20%20%20%20%20%20%20%20%20%20var%20popup_b769e4ed9c334e7ba93e942b4bc5ad16%20%3D%20L.popup%28%7BmaxWidth%3A%20%27100%25%27%0A%20%20%20%20%20%20%20%20%20%20%20%20%0A%20%20%20%20%20%20%20%20%20%20%20%20%7D%29%3B%0A%0A%20%20%20%20%20%20%20%20%20%20%20%20%0A%20%20%20%20%20%20%20%20%20%20%20%20%20%20%20%20var%20html_ad0464335c174855a9eac7f226336a3f%20%3D%20%24%28%60%3Cdiv%20id%3D%22html_ad0464335c174855a9eac7f226336a3f%22%20style%3D%22width%3A%20100.0%25%3B%20height%3A%20100.0%25%3B%22%3EHotel_Fairmont%3C/div%3E%60%29%5B0%5D%3B%0A%20%20%20%20%20%20%20%20%20%20%20%20%20%20%20%20popup_b769e4ed9c334e7ba93e942b4bc5ad16.setContent%28html_ad0464335c174855a9eac7f226336a3f%29%3B%0A%20%20%20%20%20%20%20%20%20%20%20%20%0A%0A%20%20%20%20%20%20%20%20%20%20%20%20marker_65ce16234f934dc39c58cc9d960849d4.bindPopup%28popup_b769e4ed9c334e7ba93e942b4bc5ad16%29%0A%20%20%20%20%20%20%20%20%20%20%20%20%3B%0A%0A%20%20%20%20%20%20%20%20%20%20%20%20%0A%20%20%20%20%20%20%20%20%0A%20%20%20%20%0A%20%20%20%20%20%20%20%20marker_65ce16234f934dc39c58cc9d960849d4.bindTooltip%28%0A%20%20%20%20%20%20%20%20%20%20%20%20%60%3Cdiv%3E%60%0A%20%20%20%20%20%20%20%20%20%20%20%20%2B%20%60Click%20here%20to%20see%20Popup%60%20%2B%20%60%3C/div%3E%60%2C%0A%20%20%20%20%20%20%20%20%20%20%20%20%7B%22sticky%22%3A%20true%7D%0A%20%20%20%20%20%20%20%20%29%3B%0A%20%20%20%20%20%20%20%20%0A%20%20%20%20%0A%20%20%20%20%20%20%20%20var%20marker_7176d4af4a644ae4ada8f4fe4f71fc9b%20%3D%20L.marker%28%0A%20%20%20%20%20%20%20%20%20%20%20%20%5B-22.993056213757274%2C%20-43.234514089931956%5D%2C%0A%20%20%20%20%20%20%20%20%20%20%20%20%7B%0A%20%20%20%20%20%20%20%20%20%20%20%20%20%20%20%20icon%3A%20new%20L.Icon.Default%28%29%2C%0A%20%20%20%20%20%20%20%20%20%20%20%20%20%20%20%20%7D%0A%20%20%20%20%20%20%20%20%20%20%20%20%29.addTo%28map_bc409e4ab39546f9aa70f02923a75071%29%3B%0A%20%20%20%20%20%20%20%20%0A%20%20%20%20%0A%20%20%20%20%20%20%20%20%20%20%20%20var%20popup_bc896c00966b4295846bffcf08507da2%20%3D%20L.popup%28%7BmaxWidth%3A%20%27100%25%27%0A%20%20%20%20%20%20%20%20%20%20%20%20%0A%20%20%20%20%20%20%20%20%20%20%20%20%7D%29%3B%0A%0A%20%20%20%20%20%20%20%20%20%20%20%20%0A%20%20%20%20%20%20%20%20%20%20%20%20%20%20%20%20var%20html_875e62cd7dc14e72a5abcdff4af1efe4%20%3D%20%24%28%60%3Cdiv%20id%3D%22html_875e62cd7dc14e72a5abcdff4af1efe4%22%20style%3D%22width%3A%20100.0%25%3B%20height%3A%20100.0%25%3B%22%3ESMS_Rodolpho%3C/div%3E%60%29%5B0%5D%3B%0A%20%20%20%20%20%20%20%20%20%20%20%20%20%20%20%20popup_bc896c00966b4295846bffcf08507da2.setContent%28html_875e62cd7dc14e72a5abcdff4af1efe4%29%3B%0A%20%20%20%20%20%20%20%20%20%20%20%20%0A%0A%20%20%20%20%20%20%20%20%20%20%20%20marker_7176d4af4a644ae4ada8f4fe4f71fc9b.bindPopup%28popup_bc896c00966b4295846bffcf08507da2%29%0A%20%20%20%20%20%20%20%20%20%20%20%20%3B%0A%0A%20%20%20%20%20%20%20%20%20%20%20%20%0A%20%20%20%20%20%20%20%20%0A%20%20%20%20%0A%20%20%20%20%20%20%20%20marker_7176d4af4a644ae4ada8f4fe4f71fc9b.bindTooltip%28%0A%20%20%20%20%20%20%20%20%20%20%20%20%60%3Cdiv%3E%60%0A%20%20%20%20%20%20%20%20%20%20%20%20%2B%20%60Click%20here%20to%20see%20Popup%60%20%2B%20%60%3C/div%3E%60%2C%0A%20%20%20%20%20%20%20%20%20%20%20%20%7B%22sticky%22%3A%20true%7D%0A%20%20%20%20%20%20%20%20%29%3B%0A%20%20%20%20%20%20%20%20%0A%20%20%20%20%0A%20%20%20%20%20%20%20%20var%20marker_38b498f5f3dd42e69a811a3368d1e122%20%3D%20L.marker%28%0A%20%20%20%20%20%20%20%20%20%20%20%20%5B-22.976046350999486%2C%20-43.222677436582906%5D%2C%0A%20%20%20%20%20%20%20%20%20%20%20%20%7B%0A%20%20%20%20%20%20%20%20%20%20%20%20%20%20%20%20icon%3A%20new%20L.Icon.Default%28%29%2C%0A%20%20%20%20%20%20%20%20%20%20%20%20%20%20%20%20%7D%0A%20%20%20%20%20%20%20%20%20%20%20%20%29.addTo%28map_bc409e4ab39546f9aa70f02923a75071%29%3B%0A%20%20%20%20%20%20%20%20%0A%20%20%20%20%0A%20%20%20%20%20%20%20%20%20%20%20%20var%20popup_0ad27341427a435f9e37357ca3ef2451%20%3D%20L.popup%28%7BmaxWidth%3A%20%27100%25%27%0A%20%20%20%20%20%20%20%20%20%20%20%20%0A%20%20%20%20%20%20%20%20%20%20%20%20%7D%29%3B%0A%0A%20%20%20%20%20%20%20%20%20%20%20%20%0A%20%20%20%20%20%20%20%20%20%20%20%20%20%20%20%20var%20html_f7e8de0466ff47ff927507f1303ab202%20%3D%20%24%28%60%3Cdiv%20id%3D%22html_f7e8de0466ff47ff927507f1303ab202%22%20style%3D%22width%3A%20100.0%25%3B%20height%3A%20100.0%25%3B%22%3ESMS_Pad_Miguel%3C/div%3E%60%29%5B0%5D%3B%0A%20%20%20%20%20%20%20%20%20%20%20%20%20%20%20%20popup_0ad27341427a435f9e37357ca3ef2451.setContent%28html_f7e8de0466ff47ff927507f1303ab202%29%3B%0A%20%20%20%20%20%20%20%20%20%20%20%20%0A%0A%20%20%20%20%20%20%20%20%20%20%20%20marker_38b498f5f3dd42e69a811a3368d1e122.bindPopup%28popup_0ad27341427a435f9e37357ca3ef2451%29%0A%20%20%20%20%20%20%20%20%20%20%20%20%3B%0A%0A%20%20%20%20%20%20%20%20%20%20%20%20%0A%20%20%20%20%20%20%20%20%0A%20%20%20%20%0A%20%20%20%20%20%20%20%20marker_38b498f5f3dd42e69a811a3368d1e122.bindTooltip%28%0A%20%20%20%20%20%20%20%20%20%20%20%20%60%3Cdiv%3E%60%0A%20%20%20%20%20%20%20%20%20%20%20%20%2B%20%60Click%20here%20to%20see%20Popup%60%20%2B%20%60%3C/div%3E%60%2C%0A%20%20%20%20%20%20%20%20%20%20%20%20%7B%22sticky%22%3A%20true%7D%0A%20%20%20%20%20%20%20%20%29%3B%0A%20%20%20%20%20%20%20%20%0A%20%20%20%20%0A%20%20%20%20%20%20%20%20var%20marker_3870bda93f8e41899e09a07a93d94ae8%20%3D%20L.marker%28%0A%20%20%20%20%20%20%20%20%20%20%20%20%5B-22.97453236829065%2C%20-43.23068921451901%5D%2C%0A%20%20%20%20%20%20%20%20%20%20%20%20%7B%0A%20%20%20%20%20%20%20%20%20%20%20%20%20%20%20%20icon%3A%20new%20L.Icon.Default%28%29%2C%0A%20%20%20%20%20%20%20%20%20%20%20%20%20%20%20%20%7D%0A%20%20%20%20%20%20%20%20%20%20%20%20%29.addTo%28map_bc409e4ab39546f9aa70f02923a75071%29%3B%0A%20%20%20%20%20%20%20%20%0A%20%20%20%20%0A%20%20%20%20%20%20%20%20%20%20%20%20var%20popup_54a233c384a64404b96f785d590f4ec6%20%3D%20L.popup%28%7BmaxWidth%3A%20%27100%25%27%0A%20%20%20%20%20%20%20%20%20%20%20%20%0A%20%20%20%20%20%20%20%20%20%20%20%20%7D%29%3B%0A%0A%20%20%20%20%20%20%20%20%20%20%20%20%0A%20%20%20%20%20%20%20%20%20%20%20%20%20%20%20%20var%20html_c942ad3f84984a658522e4cfcc4f1751%20%3D%20%24%28%60%3Cdiv%20id%3D%22html_c942ad3f84984a658522e4cfcc4f1751%22%20style%3D%22width%3A%20100.0%25%3B%20height%3A%20100.0%25%3B%22%3EPlanetario%3C/div%3E%60%29%5B0%5D%3B%0A%20%20%20%20%20%20%20%20%20%20%20%20%20%20%20%20popup_54a233c384a64404b96f785d590f4ec6.setContent%28html_c942ad3f84984a658522e4cfcc4f1751%29%3B%0A%20%20%20%20%20%20%20%20%20%20%20%20%0A%0A%20%20%20%20%20%20%20%20%20%20%20%20marker_3870bda93f8e41899e09a07a93d94ae8.bindPopup%28popup_54a233c384a64404b96f785d590f4ec6%29%0A%20%20%20%20%20%20%20%20%20%20%20%20%3B%0A%0A%20%20%20%20%20%20%20%20%20%20%20%20%0A%20%20%20%20%20%20%20%20%0A%20%20%20%20%0A%20%20%20%20%20%20%20%20marker_3870bda93f8e41899e09a07a93d94ae8.bindTooltip%28%0A%20%20%20%20%20%20%20%20%20%20%20%20%60%3Cdiv%3E%60%0A%20%20%20%20%20%20%20%20%20%20%20%20%2B%20%60Click%20here%20to%20see%20Popup%60%20%2B%20%60%3C/div%3E%60%2C%0A%20%20%20%20%20%20%20%20%20%20%20%20%7B%22sticky%22%3A%20true%7D%0A%20%20%20%20%20%20%20%20%29%3B%0A%20%20%20%20%20%20%20%20%0A%20%20%20%20%0A%20%20%20%20%20%20%20%20var%20marker_fe88b0fc59394f7cb7f7ae387b4561a3%20%3D%20L.marker%28%0A%20%20%20%20%20%20%20%20%20%20%20%20%5B-22.966471836602683%2C%20-43.18743054810058%5D%2C%0A%20%20%20%20%20%20%20%20%20%20%20%20%7B%0A%20%20%20%20%20%20%20%20%20%20%20%20%20%20%20%20icon%3A%20new%20L.Icon.Default%28%29%2C%0A%20%20%20%20%20%20%20%20%20%20%20%20%20%20%20%20%7D%0A%20%20%20%20%20%20%20%20%20%20%20%20%29.addTo%28map_bc409e4ab39546f9aa70f02923a75071%29%3B%0A%20%20%20%20%20%20%20%20%0A%20%20%20%20%0A%20%20%20%20%20%20%20%20%20%20%20%20var%20popup_b985635058f547e384b446ad32f3e141%20%3D%20L.popup%28%7BmaxWidth%3A%20%27100%25%27%0A%20%20%20%20%20%20%20%20%20%20%20%20%0A%20%20%20%20%20%20%20%20%20%20%20%20%7D%29%3B%0A%0A%20%20%20%20%20%20%20%20%20%20%20%20%0A%20%20%20%20%20%20%20%20%20%20%20%20%20%20%20%20var%20html_b1bd6658389545a38731aa38ce3cd0a6%20%3D%20%24%28%60%3Cdiv%20id%3D%22html_b1bd6658389545a38731aa38ce3cd0a6%22%20style%3D%22width%3A%20100.0%25%3B%20height%3A%20100.0%25%3B%22%3ESMS_JoaBarros%3C/div%3E%60%29%5B0%5D%3B%0A%20%20%20%20%20%20%20%20%20%20%20%20%20%20%20%20popup_b985635058f547e384b446ad32f3e141.setContent%28html_b1bd6658389545a38731aa38ce3cd0a6%29%3B%0A%20%20%20%20%20%20%20%20%20%20%20%20%0A%0A%20%20%20%20%20%20%20%20%20%20%20%20marker_fe88b0fc59394f7cb7f7ae387b4561a3.bindPopup%28popup_b985635058f547e384b446ad32f3e141%29%0A%20%20%20%20%20%20%20%20%20%20%20%20%3B%0A%0A%20%20%20%20%20%20%20%20%20%20%20%20%0A%20%20%20%20%20%20%20%20%0A%20%20%20%20%0A%20%20%20%20%20%20%20%20marker_fe88b0fc59394f7cb7f7ae387b4561a3.bindTooltip%28%0A%20%20%20%20%20%20%20%20%20%20%20%20%60%3Cdiv%3E%60%0A%20%20%20%20%20%20%20%20%20%20%20%20%2B%20%60Click%20here%20to%20see%20Popup%60%20%2B%20%60%3C/div%3E%60%2C%0A%20%20%20%20%20%20%20%20%20%20%20%20%7B%22sticky%22%3A%20true%7D%0A%20%20%20%20%20%20%20%20%29%3B%0A%20%20%20%20%20%20%20%20%0A%20%20%20%20%0A%20%20%20%20%20%20%20%20var%20marker_6fe932a9919941cabcb34f5f8cda640e%20%3D%20L.marker%28%0A%20%20%20%20%20%20%20%20%20%20%20%20%5B-22.9580946963788%2C%20-43.17163770179098%5D%2C%0A%20%20%20%20%20%20%20%20%20%20%20%20%7B%0A%20%20%20%20%20%20%20%20%20%20%20%20%20%20%20%20icon%3A%20new%20L.Icon.Default%28%29%2C%0A%20%20%20%20%20%20%20%20%20%20%20%20%20%20%20%20%7D%0A%20%20%20%20%20%20%20%20%20%20%20%20%29.addTo%28map_bc409e4ab39546f9aa70f02923a75071%29%3B%0A%20%20%20%20%20%20%20%20%0A%20%20%20%20%0A%20%20%20%20%20%20%20%20%20%20%20%20var%20popup_a9809c9278e44a05bf6c5130aa8c16ac%20%3D%20L.popup%28%7BmaxWidth%3A%20%27100%25%27%0A%20%20%20%20%20%20%20%20%20%20%20%20%0A%20%20%20%20%20%20%20%20%20%20%20%20%7D%29%3B%0A%0A%20%20%20%20%20%20%20%20%20%20%20%20%0A%20%20%20%20%20%20%20%20%20%20%20%20%20%20%20%20var%20html_025621a1d72e4122ad6f687e09436374%20%3D%20%24%28%60%3Cdiv%20id%3D%22html_025621a1d72e4122ad6f687e09436374%22%20style%3D%22width%3A%20100.0%25%3B%20height%3A%20100.0%25%3B%22%3ESMS_ChapeuMang%3C/div%3E%60%29%5B0%5D%3B%0A%20%20%20%20%20%20%20%20%20%20%20%20%20%20%20%20popup_a9809c9278e44a05bf6c5130aa8c16ac.setContent%28html_025621a1d72e4122ad6f687e09436374%29%3B%0A%20%20%20%20%20%20%20%20%20%20%20%20%0A%0A%20%20%20%20%20%20%20%20%20%20%20%20marker_6fe932a9919941cabcb34f5f8cda640e.bindPopup%28popup_a9809c9278e44a05bf6c5130aa8c16ac%29%0A%20%20%20%20%20%20%20%20%20%20%20%20%3B%0A%0A%20%20%20%20%20%20%20%20%20%20%20%20%0A%20%20%20%20%20%20%20%20%0A%20%20%20%20%0A%20%20%20%20%20%20%20%20marker_6fe932a9919941cabcb34f5f8cda640e.bindTooltip%28%0A%20%20%20%20%20%20%20%20%20%20%20%20%60%3Cdiv%3E%60%0A%20%20%20%20%20%20%20%20%20%20%20%20%2B%20%60Click%20here%20to%20see%20Popup%60%20%2B%20%60%3C/div%3E%60%2C%0A%20%20%20%20%20%20%20%20%20%20%20%20%7B%22sticky%22%3A%20true%7D%0A%20%20%20%20%20%20%20%20%29%3B%0A%20%20%20%20%20%20%20%20%0A%20%20%20%20%0A%20%20%20%20%20%20%20%20var%20marker_e624a0ab48b742808ed5c83caddd6dda%20%3D%20L.marker%28%0A%20%20%20%20%20%20%20%20%20%20%20%20%5B-22.961615032735804%2C%20-43.16969176144102%5D%2C%0A%20%20%20%20%20%20%20%20%20%20%20%20%7B%0A%20%20%20%20%20%20%20%20%20%20%20%20%20%20%20%20icon%3A%20new%20L.Icon.Default%28%29%2C%0A%20%20%20%20%20%20%20%20%20%20%20%20%20%20%20%20%7D%0A%20%20%20%20%20%20%20%20%20%20%20%20%29.addTo%28map_bc409e4ab39546f9aa70f02923a75071%29%3B%0A%20%20%20%20%20%20%20%20%0A%20%20%20%20%0A%20%20%20%20%20%20%20%20%20%20%20%20var%20popup_5faa30261c6f4976ad49f5f492959ae7%20%3D%20L.popup%28%7BmaxWidth%3A%20%27100%25%27%0A%20%20%20%20%20%20%20%20%20%20%20%20%0A%20%20%20%20%20%20%20%20%20%20%20%20%7D%29%3B%0A%0A%20%20%20%20%20%20%20%20%20%20%20%20%0A%20%20%20%20%20%20%20%20%20%20%20%20%20%20%20%20var%20html_78297b96ccac4588bcba2c0143240c1a%20%3D%20%24%28%60%3Cdiv%20id%3D%22html_78297b96ccac4588bcba2c0143240c1a%22%20style%3D%22width%3A%20100.0%25%3B%20height%3A%20100.0%25%3B%22%3EParoquia_Rosario%3C/div%3E%60%29%5B0%5D%3B%0A%20%20%20%20%20%20%20%20%20%20%20%20%20%20%20%20popup_5faa30261c6f4976ad49f5f492959ae7.setContent%28html_78297b96ccac4588bcba2c0143240c1a%29%3B%0A%20%20%20%20%20%20%20%20%20%20%20%20%0A%0A%20%20%20%20%20%20%20%20%20%20%20%20marker_e624a0ab48b742808ed5c83caddd6dda.bindPopup%28popup_5faa30261c6f4976ad49f5f492959ae7%29%0A%20%20%20%20%20%20%20%20%20%20%20%20%3B%0A%0A%20%20%20%20%20%20%20%20%20%20%20%20%0A%20%20%20%20%20%20%20%20%0A%20%20%20%20%0A%20%20%20%20%20%20%20%20marker_e624a0ab48b742808ed5c83caddd6dda.bindTooltip%28%0A%20%20%20%20%20%20%20%20%20%20%20%20%60%3Cdiv%3E%60%0A%20%20%20%20%20%20%20%20%20%20%20%20%2B%20%60Click%20here%20to%20see%20Popup%60%20%2B%20%60%3C/div%3E%60%2C%0A%20%20%20%20%20%20%20%20%20%20%20%20%7B%22sticky%22%3A%20true%7D%0A%20%20%20%20%20%20%20%20%29%3B%0A%20%20%20%20%20%20%20%20%0A%20%20%20%20%0A%20%20%20%20%20%20%20%20var%20marker_90518d841ff7457e86cb7c45ec4fc0f2%20%3D%20L.marker%28%0A%20%20%20%20%20%20%20%20%20%20%20%20%5B-22.956908837230625%2C%20-43.19922559314023%5D%2C%0A%20%20%20%20%20%20%20%20%20%20%20%20%7B%0A%20%20%20%20%20%20%20%20%20%20%20%20%20%20%20%20icon%3A%20new%20L.Icon.Default%28%29%2C%0A%20%20%20%20%20%20%20%20%20%20%20%20%20%20%20%20%7D%0A%20%20%20%20%20%20%20%20%20%20%20%20%29.addTo%28map_bc409e4ab39546f9aa70f02923a75071%29%3B%0A%20%20%20%20%20%20%20%20%0A%20%20%20%20%0A%20%20%20%20%20%20%20%20%20%20%20%20var%20popup_a1188287b1b446c9b1af3912fd41be87%20%3D%20L.popup%28%7BmaxWidth%3A%20%27100%25%27%0A%20%20%20%20%20%20%20%20%20%20%20%20%0A%20%20%20%20%20%20%20%20%20%20%20%20%7D%29%3B%0A%0A%20%20%20%20%20%20%20%20%20%20%20%20%0A%20%20%20%20%20%20%20%20%20%20%20%20%20%20%20%20var%20html_d4671245f08f462c87f784015a69894f%20%3D%20%24%28%60%3Cdiv%20id%3D%22html_d4671245f08f462c87f784015a69894f%22%20style%3D%22width%3A%20100.0%25%3B%20height%3A%20100.0%25%3B%22%3EBombeiro_Humaita%3C/div%3E%60%29%5B0%5D%3B%0A%20%20%20%20%20%20%20%20%20%20%20%20%20%20%20%20popup_a1188287b1b446c9b1af3912fd41be87.setContent%28html_d4671245f08f462c87f784015a69894f%29%3B%0A%20%20%20%20%20%20%20%20%20%20%20%20%0A%0A%20%20%20%20%20%20%20%20%20%20%20%20marker_90518d841ff7457e86cb7c45ec4fc0f2.bindPopup%28popup_a1188287b1b446c9b1af3912fd41be87%29%0A%20%20%20%20%20%20%20%20%20%20%20%20%3B%0A%0A%20%20%20%20%20%20%20%20%20%20%20%20%0A%20%20%20%20%20%20%20%20%0A%20%20%20%20%0A%20%20%20%20%20%20%20%20marker_90518d841ff7457e86cb7c45ec4fc0f2.bindTooltip%28%0A%20%20%20%20%20%20%20%20%20%20%20%20%60%3Cdiv%3E%60%0A%20%20%20%20%20%20%20%20%20%20%20%20%2B%20%60Click%20here%20to%20see%20Popup%60%20%2B%20%60%3C/div%3E%60%2C%0A%20%20%20%20%20%20%20%20%20%20%20%20%7B%22sticky%22%3A%20true%7D%0A%20%20%20%20%20%20%20%20%29%3B%0A%20%20%20%20%20%20%20%20%0A%20%20%20%20%0A%20%20%20%20%20%20%20%20var%20marker_642d3c54d2b745a0b5714c6939a1aed2%20%3D%20L.marker%28%0A%20%20%20%20%20%20%20%20%20%20%20%20%5B-22.949163404648825%2C%20-43.192959953005364%5D%2C%0A%20%20%20%20%20%20%20%20%20%20%20%20%7B%0A%20%20%20%20%20%20%20%20%20%20%20%20%20%20%20%20icon%3A%20new%20L.Icon.Default%28%29%2C%0A%20%20%20%20%20%20%20%20%20%20%20%20%20%20%20%20%7D%0A%20%20%20%20%20%20%20%20%20%20%20%20%29.addTo%28map_bc409e4ab39546f9aa70f02923a75071%29%3B%0A%20%20%20%20%20%20%20%20%0A%20%20%20%20%0A%20%20%20%20%20%20%20%20%20%20%20%20var%20popup_ac9d779612dd4cffb6b06397a602ba76%20%3D%20L.popup%28%7BmaxWidth%3A%20%27100%25%27%0A%20%20%20%20%20%20%20%20%20%20%20%20%0A%20%20%20%20%20%20%20%20%20%20%20%20%7D%29%3B%0A%0A%20%20%20%20%20%20%20%20%20%20%20%20%0A%20%20%20%20%20%20%20%20%20%20%20%20%20%20%20%20var%20html_f13bbee6c235404e882b48448aded750%20%3D%20%24%28%60%3Cdiv%20id%3D%22html_f13bbee6c235404e882b48448aded750%22%20style%3D%22width%3A%20100.0%25%3B%20height%3A%20100.0%25%3B%22%3ESMS_DonaMarta%3C/div%3E%60%29%5B0%5D%3B%0A%20%20%20%20%20%20%20%20%20%20%20%20%20%20%20%20popup_ac9d779612dd4cffb6b06397a602ba76.setContent%28html_f13bbee6c235404e882b48448aded750%29%3B%0A%20%20%20%20%20%20%20%20%20%20%20%20%0A%0A%20%20%20%20%20%20%20%20%20%20%20%20marker_642d3c54d2b745a0b5714c6939a1aed2.bindPopup%28popup_ac9d779612dd4cffb6b06397a602ba76%29%0A%20%20%20%20%20%20%20%20%20%20%20%20%3B%0A%0A%20%20%20%20%20%20%20%20%20%20%20%20%0A%20%20%20%20%20%20%20%20%0A%20%20%20%20%0A%20%20%20%20%20%20%20%20marker_642d3c54d2b745a0b5714c6939a1aed2.bindTooltip%28%0A%20%20%20%20%20%20%20%20%20%20%20%20%60%3Cdiv%3E%60%0A%20%20%20%20%20%20%20%20%20%20%20%20%2B%20%60Click%20here%20to%20see%20Popup%60%20%2B%20%60%3C/div%3E%60%2C%0A%20%20%20%20%20%20%20%20%20%20%20%20%7B%22sticky%22%3A%20true%7D%0A%20%20%20%20%20%20%20%20%29%3B%0A%20%20%20%20%20%20%20%20%0A%20%20%20%20%0A%20%20%20%20%20%20%20%20var%20marker_60be5b9f8731439caa00c7769b56fb34%20%3D%20L.marker%28%0A%20%20%20%20%20%20%20%20%20%20%20%20%5B-22.951060286280853%2C%20-43.18635099012338%5D%2C%0A%20%20%20%20%20%20%20%20%20%20%20%20%7B%0A%20%20%20%20%20%20%20%20%20%20%20%20%20%20%20%20icon%3A%20new%20L.Icon.Default%28%29%2C%0A%20%20%20%20%20%20%20%20%20%20%20%20%20%20%20%20%7D%0A%20%20%20%20%20%20%20%20%20%20%20%20%29.addTo%28map_bc409e4ab39546f9aa70f02923a75071%29%3B%0A%20%20%20%20%20%20%20%20%0A%20%20%20%20%0A%20%20%20%20%20%20%20%20%20%20%20%20var%20popup_10506c6b6a474370b1073c3ab092b2e0%20%3D%20L.popup%28%7BmaxWidth%3A%20%27100%25%27%0A%20%20%20%20%20%20%20%20%20%20%20%20%0A%20%20%20%20%20%20%20%20%20%20%20%20%7D%29%3B%0A%0A%20%20%20%20%20%20%20%20%20%20%20%20%0A%20%20%20%20%20%20%20%20%20%20%20%20%20%20%20%20var%20html_09fc6960ad53481898941820a255b3af%20%3D%20%24%28%60%3Cdiv%20id%3D%22html_09fc6960ad53481898941820a255b3af%22%20style%3D%22width%3A%20100.0%25%3B%20height%3A%20100.0%25%3B%22%3ESMS_DomHelter%3C/div%3E%60%29%5B0%5D%3B%0A%20%20%20%20%20%20%20%20%20%20%20%20%20%20%20%20popup_10506c6b6a474370b1073c3ab092b2e0.setContent%28html_09fc6960ad53481898941820a255b3af%29%3B%0A%20%20%20%20%20%20%20%20%20%20%20%20%0A%0A%20%20%20%20%20%20%20%20%20%20%20%20marker_60be5b9f8731439caa00c7769b56fb34.bindPopup%28popup_10506c6b6a474370b1073c3ab092b2e0%29%0A%20%20%20%20%20%20%20%20%20%20%20%20%3B%0A%0A%20%20%20%20%20%20%20%20%20%20%20%20%0A%20%20%20%20%20%20%20%20%0A%20%20%20%20%0A%20%20%20%20%20%20%20%20marker_60be5b9f8731439caa00c7769b56fb34.bindTooltip%28%0A%20%20%20%20%20%20%20%20%20%20%20%20%60%3Cdiv%3E%60%0A%20%20%20%20%20%20%20%20%20%20%20%20%2B%20%60Click%20here%20to%20see%20Popup%60%20%2B%20%60%3C/div%3E%60%2C%0A%20%20%20%20%20%20%20%20%20%20%20%20%7B%22sticky%22%3A%20true%7D%0A%20%20%20%20%20%20%20%20%29%3B%0A%20%20%20%20%20%20%20%20%0A%20%20%20%20%0A%20%20%20%20%20%20%20%20var%20marker_c936e5df4a3b4c8f894aca787640254f%20%3D%20L.marker%28%0A%20%20%20%20%20%20%20%20%20%20%20%20%5B-22.949479553434184%2C%20-43.189269233473865%5D%2C%0A%20%20%20%20%20%20%20%20%20%20%20%20%7B%0A%20%20%20%20%20%20%20%20%20%20%20%20%20%20%20%20icon%3A%20new%20L.Icon.Default%28%29%2C%0A%20%20%20%20%20%20%20%20%20%20%20%20%20%20%20%20%7D%0A%20%20%20%20%20%20%20%20%20%20%20%20%29.addTo%28map_bc409e4ab39546f9aa70f02923a75071%29%3B%0A%20%20%20%20%20%20%20%20%0A%20%20%20%20%0A%20%20%20%20%20%20%20%20%20%20%20%20var%20popup_02fc5bbfba454bfcabccd2e0d1264767%20%3D%20L.popup%28%7BmaxWidth%3A%20%27100%25%27%0A%20%20%20%20%20%20%20%20%20%20%20%20%0A%20%20%20%20%20%20%20%20%20%20%20%20%7D%29%3B%0A%0A%20%20%20%20%20%20%20%20%20%20%20%20%0A%20%20%20%20%20%20%20%20%20%20%20%20%20%20%20%20var%20html_701c0fb3168648db8036d99b9555d839%20%3D%20%24%28%60%3Cdiv%20id%3D%22html_701c0fb3168648db8036d99b9555d839%22%20style%3D%22width%3A%20100.0%25%3B%20height%3A%20100.0%25%3B%22%3ECasa_Firjan%3C/div%3E%60%29%5B0%5D%3B%0A%20%20%20%20%20%20%20%20%20%20%20%20%20%20%20%20popup_02fc5bbfba454bfcabccd2e0d1264767.setContent%28html_701c0fb3168648db8036d99b9555d839%29%3B%0A%20%20%20%20%20%20%20%20%20%20%20%20%0A%0A%20%20%20%20%20%20%20%20%20%20%20%20marker_c936e5df4a3b4c8f894aca787640254f.bindPopup%28popup_02fc5bbfba454bfcabccd2e0d1264767%29%0A%20%20%20%20%20%20%20%20%20%20%20%20%3B%0A%0A%20%20%20%20%20%20%20%20%20%20%20%20%0A%20%20%20%20%20%20%20%20%0A%20%20%20%20%0A%20%20%20%20%20%20%20%20marker_c936e5df4a3b4c8f894aca787640254f.bindTooltip%28%0A%20%20%20%20%20%20%20%20%20%20%20%20%60%3Cdiv%3E%60%0A%20%20%20%20%20%20%20%20%20%20%20%20%2B%20%60Click%20here%20to%20see%20Popup%60%20%2B%20%60%3C/div%3E%60%2C%0A%20%20%20%20%20%20%20%20%20%20%20%20%7B%22sticky%22%3A%20true%7D%0A%20%20%20%20%20%20%20%20%29%3B%0A%20%20%20%20%20%20%20%20%0A%20%20%20%20%0A%20%20%20%20%20%20%20%20var%20marker_0e501e4be33b482c984dda18bc657475%20%3D%20L.marker%28%0A%20%20%20%20%20%20%20%20%20%20%20%20%5B-22.952482930053158%2C%20-43.17218892680484%5D%2C%0A%20%20%20%20%20%20%20%20%20%20%20%20%7B%0A%20%20%20%20%20%20%20%20%20%20%20%20%20%20%20%20icon%3A%20new%20L.Icon.Default%28%29%2C%0A%20%20%20%20%20%20%20%20%20%20%20%20%20%20%20%20%7D%0A%20%20%20%20%20%20%20%20%20%20%20%20%29.addTo%28map_bc409e4ab39546f9aa70f02923a75071%29%3B%0A%20%20%20%20%20%20%20%20%0A%20%20%20%20%0A%20%20%20%20%20%20%20%20%20%20%20%20var%20popup_f02a75bbe3f04acbb76962a7b0233327%20%3D%20L.popup%28%7BmaxWidth%3A%20%27100%25%27%0A%20%20%20%20%20%20%20%20%20%20%20%20%0A%20%20%20%20%20%20%20%20%20%20%20%20%7D%29%3B%0A%0A%20%20%20%20%20%20%20%20%20%20%20%20%0A%20%20%20%20%20%20%20%20%20%20%20%20%20%20%20%20var%20html_ad4af3831bde41bd8d56fd4c8aba6ce8%20%3D%20%24%28%60%3Cdiv%20id%3D%22html_ad4af3831bde41bd8d56fd4c8aba6ce8%22%20style%3D%22width%3A%20100.0%25%3B%20height%3A%20100.0%25%3B%22%3EInst_Benjamin%3C/div%3E%60%29%5B0%5D%3B%0A%20%20%20%20%20%20%20%20%20%20%20%20%20%20%20%20popup_f02a75bbe3f04acbb76962a7b0233327.setContent%28html_ad4af3831bde41bd8d56fd4c8aba6ce8%29%3B%0A%20%20%20%20%20%20%20%20%20%20%20%20%0A%0A%20%20%20%20%20%20%20%20%20%20%20%20marker_0e501e4be33b482c984dda18bc657475.bindPopup%28popup_f02a75bbe3f04acbb76962a7b0233327%29%0A%20%20%20%20%20%20%20%20%20%20%20%20%3B%0A%0A%20%20%20%20%20%20%20%20%20%20%20%20%0A%20%20%20%20%20%20%20%20%0A%20%20%20%20%0A%20%20%20%20%20%20%20%20marker_0e501e4be33b482c984dda18bc657475.bindTooltip%28%0A%20%20%20%20%20%20%20%20%20%20%20%20%60%3Cdiv%3E%60%0A%20%20%20%20%20%20%20%20%20%20%20%20%2B%20%60Click%20here%20to%20see%20Popup%60%20%2B%20%60%3C/div%3E%60%2C%0A%20%20%20%20%20%20%20%20%20%20%20%20%7B%22sticky%22%3A%20true%7D%0A%20%20%20%20%20%20%20%20%29%3B%0A%20%20%20%20%20%20%20%20%0A%20%20%20%20%0A%20%20%20%20%20%20%20%20var%20marker_c1f206efd149445b8b2f3f5406fc0f6e%20%3D%20L.marker%28%0A%20%20%20%20%20%20%20%20%20%20%20%20%5B-22.9252634072209%2C%20-43.17883808757883%5D%2C%0A%20%20%20%20%20%20%20%20%20%20%20%20%7B%0A%20%20%20%20%20%20%20%20%20%20%20%20%20%20%20%20icon%3A%20new%20L.Icon.Default%28%29%2C%0A%20%20%20%20%20%20%20%20%20%20%20%20%20%20%20%20%7D%0A%20%20%20%20%20%20%20%20%20%20%20%20%29.addTo%28map_bc409e4ab39546f9aa70f02923a75071%29%3B%0A%20%20%20%20%20%20%20%20%0A%20%20%20%20%0A%20%20%20%20%20%20%20%20%20%20%20%20var%20popup_b3099e5130b647d39461d7881ed3e1fb%20%3D%20L.popup%28%7BmaxWidth%3A%20%27100%25%27%0A%20%20%20%20%20%20%20%20%20%20%20%20%0A%20%20%20%20%20%20%20%20%20%20%20%20%7D%29%3B%0A%0A%20%20%20%20%20%20%20%20%20%20%20%20%0A%20%20%20%20%20%20%20%20%20%20%20%20%20%20%20%20var%20html_16c702764c1741b7a2973946ea548135%20%3D%20%24%28%60%3Cdiv%20id%3D%22html_16c702764c1741b7a2973946ea548135%22%20style%3D%22width%3A%20100.0%25%3B%20height%3A%20100.0%25%3B%22%3ESMS_Manoel%3C/div%3E%60%29%5B0%5D%3B%0A%20%20%20%20%20%20%20%20%20%20%20%20%20%20%20%20popup_b3099e5130b647d39461d7881ed3e1fb.setContent%28html_16c702764c1741b7a2973946ea548135%29%3B%0A%20%20%20%20%20%20%20%20%20%20%20%20%0A%0A%20%20%20%20%20%20%20%20%20%20%20%20marker_c1f206efd149445b8b2f3f5406fc0f6e.bindPopup%28popup_b3099e5130b647d39461d7881ed3e1fb%29%0A%20%20%20%20%20%20%20%20%20%20%20%20%3B%0A%0A%20%20%20%20%20%20%20%20%20%20%20%20%0A%20%20%20%20%20%20%20%20%0A%20%20%20%20%0A%20%20%20%20%20%20%20%20marker_c1f206efd149445b8b2f3f5406fc0f6e.bindTooltip%28%0A%20%20%20%20%20%20%20%20%20%20%20%20%60%3Cdiv%3E%60%0A%20%20%20%20%20%20%20%20%20%20%20%20%2B%20%60Click%20here%20to%20see%20Popup%60%20%2B%20%60%3C/div%3E%60%2C%0A%20%20%20%20%20%20%20%20%20%20%20%20%7B%22sticky%22%3A%20true%7D%0A%20%20%20%20%20%20%20%20%29%3B%0A%20%20%20%20%20%20%20%20%0A%20%20%20%20%0A%20%20%20%20%20%20%20%20var%20marker_653f9548aa4a4452ad26db6aed20a515%20%3D%20L.marker%28%0A%20%20%20%20%20%20%20%20%20%20%20%20%5B-22.92558945200113%2C%20-43.17631717131938%5D%2C%0A%20%20%20%20%20%20%20%20%20%20%20%20%7B%0A%20%20%20%20%20%20%20%20%20%20%20%20%20%20%20%20icon%3A%20new%20L.Icon.Default%28%29%2C%0A%20%20%20%20%20%20%20%20%20%20%20%20%20%20%20%20%7D%0A%20%20%20%20%20%20%20%20%20%20%20%20%29.addTo%28map_bc409e4ab39546f9aa70f02923a75071%29%3B%0A%20%20%20%20%20%20%20%20%0A%20%20%20%20%0A%20%20%20%20%20%20%20%20%20%20%20%20var%20popup_e61dfa34a4054e17a1477f4ef0f14284%20%3D%20L.popup%28%7BmaxWidth%3A%20%27100%25%27%0A%20%20%20%20%20%20%20%20%20%20%20%20%0A%20%20%20%20%20%20%20%20%20%20%20%20%7D%29%3B%0A%0A%20%20%20%20%20%20%20%20%20%20%20%20%0A%20%20%20%20%20%20%20%20%20%20%20%20%20%20%20%20var%20html_751070d96cef43459a79d82a42f68660%20%3D%20%24%28%60%3Cdiv%20id%3D%22html_751070d96cef43459a79d82a42f68660%22%20style%3D%22width%3A%20100.0%25%3B%20height%3A%20100.0%25%3B%22%3EMuseu_Republica%3C/div%3E%60%29%5B0%5D%3B%0A%20%20%20%20%20%20%20%20%20%20%20%20%20%20%20%20popup_e61dfa34a4054e17a1477f4ef0f14284.setContent%28html_751070d96cef43459a79d82a42f68660%29%3B%0A%20%20%20%20%20%20%20%20%20%20%20%20%0A%0A%20%20%20%20%20%20%20%20%20%20%20%20marker_653f9548aa4a4452ad26db6aed20a515.bindPopup%28popup_e61dfa34a4054e17a1477f4ef0f14284%29%0A%20%20%20%20%20%20%20%20%20%20%20%20%3B%0A%0A%20%20%20%20%20%20%20%20%20%20%20%20%0A%20%20%20%20%20%20%20%20%0A%20%20%20%20%0A%20%20%20%20%20%20%20%20marker_653f9548aa4a4452ad26db6aed20a515.bindTooltip%28%0A%20%20%20%20%20%20%20%20%20%20%20%20%60%3Cdiv%3E%60%0A%20%20%20%20%20%20%20%20%20%20%20%20%2B%20%60Click%20here%20to%20see%20Popup%60%20%2B%20%60%3C/div%3E%60%2C%0A%20%20%20%20%20%20%20%20%20%20%20%20%7B%22sticky%22%3A%20true%7D%0A%20%20%20%20%20%20%20%20%29%3B%0A%20%20%20%20%20%20%20%20%0A%20%20%20%20%0A%20%20%20%20%20%20%20%20var%20marker_4542049ee04b41a1ad4122d8ba75dd61%20%3D%20L.marker%28%0A%20%20%20%20%20%20%20%20%20%20%20%20%5B-22.952991968665895%2C%20-43.17672013096345%5D%2C%0A%20%20%20%20%20%20%20%20%20%20%20%20%7B%0A%20%20%20%20%20%20%20%20%20%20%20%20%20%20%20%20icon%3A%20new%20L.Icon.Default%28%29%2C%0A%20%20%20%20%20%20%20%20%20%20%20%20%20%20%20%20%7D%0A%20%20%20%20%20%20%20%20%20%20%20%20%29.addTo%28map_bc409e4ab39546f9aa70f02923a75071%29%3B%0A%20%20%20%20%20%20%20%20%0A%20%20%20%20%0A%20%20%20%20%20%20%20%20%20%20%20%20var%20popup_304e903b47f74d3491b90f7b7ea089d5%20%3D%20L.popup%28%7BmaxWidth%3A%20%27100%25%27%0A%20%20%20%20%20%20%20%20%20%20%20%20%0A%20%20%20%20%20%20%20%20%20%20%20%20%7D%29%3B%0A%0A%20%20%20%20%20%20%20%20%20%20%20%20%0A%20%20%20%20%20%20%20%20%20%20%20%20%20%20%20%20var%20html_f26923b437f44e3c97e173e42278a1be%20%3D%20%24%28%60%3Cdiv%20id%3D%22html_f26923b437f44e3c97e173e42278a1be%22%20style%3D%22width%3A%20100.0%25%3B%20height%3A%20100.0%25%3B%22%3ERochaMaia%3C/div%3E%60%29%5B0%5D%3B%0A%20%20%20%20%20%20%20%20%20%20%20%20%20%20%20%20popup_304e903b47f74d3491b90f7b7ea089d5.setContent%28html_f26923b437f44e3c97e173e42278a1be%29%3B%0A%20%20%20%20%20%20%20%20%20%20%20%20%0A%0A%20%20%20%20%20%20%20%20%20%20%20%20marker_4542049ee04b41a1ad4122d8ba75dd61.bindPopup%28popup_304e903b47f74d3491b90f7b7ea089d5%29%0A%20%20%20%20%20%20%20%20%20%20%20%20%3B%0A%0A%20%20%20%20%20%20%20%20%20%20%20%20%0A%20%20%20%20%20%20%20%20%0A%20%20%20%20%0A%20%20%20%20%20%20%20%20marker_4542049ee04b41a1ad4122d8ba75dd61.bindTooltip%28%0A%20%20%20%20%20%20%20%20%20%20%20%20%60%3Cdiv%3E%60%0A%20%20%20%20%20%20%20%20%20%20%20%20%2B%20%60Click%20here%20to%20see%20Popup%60%20%2B%20%60%3C/div%3E%60%2C%0A%20%20%20%20%20%20%20%20%20%20%20%20%7B%22sticky%22%3A%20true%7D%0A%20%20%20%20%20%20%20%20%29%3B%0A%20%20%20%20%20%20%20%20%0A%20%20%20%20%0A%20%20%20%20%20%20%20%20var%20marker_99a68c4993004e83aa1e94659ef938b7%20%3D%20L.marker%28%0A%20%20%20%20%20%20%20%20%20%20%20%20%5B-22.972828312011444%2C%20-43.22298287113733%5D%2C%0A%20%20%20%20%20%20%20%20%20%20%20%20%7B%0A%20%20%20%20%20%20%20%20%20%20%20%20%20%20%20%20icon%3A%20new%20L.Icon.Default%28%29%2C%0A%20%20%20%20%20%20%20%20%20%20%20%20%20%20%20%20%7D%0A%20%20%20%20%20%20%20%20%20%20%20%20%29.addTo%28map_bc409e4ab39546f9aa70f02923a75071%29%3B%0A%20%20%20%20%20%20%20%20%0A%20%20%20%20%0A%20%20%20%20%20%20%20%20%20%20%20%20var%20popup_2e27b5e38a3f4534af91bce6ac1b74dc%20%3D%20L.popup%28%7BmaxWidth%3A%20%27100%25%27%0A%20%20%20%20%20%20%20%20%20%20%20%20%0A%20%20%20%20%20%20%20%20%20%20%20%20%7D%29%3B%0A%0A%20%20%20%20%20%20%20%20%20%20%20%20%0A%20%20%20%20%20%20%20%20%20%20%20%20%20%20%20%20var%20html_8ce977e0a1e843d587d8625725dc1822%20%3D%20%24%28%60%3Cdiv%20id%3D%22html_8ce977e0a1e843d587d8625725dc1822%22%20style%3D%22width%3A%20100.0%25%3B%20height%3A%20100.0%25%3B%22%3EJockey%3C/div%3E%60%29%5B0%5D%3B%0A%20%20%20%20%20%20%20%20%20%20%20%20%20%20%20%20popup_2e27b5e38a3f4534af91bce6ac1b74dc.setContent%28html_8ce977e0a1e843d587d8625725dc1822%29%3B%0A%20%20%20%20%20%20%20%20%20%20%20%20%0A%0A%20%20%20%20%20%20%20%20%20%20%20%20marker_99a68c4993004e83aa1e94659ef938b7.bindPopup%28popup_2e27b5e38a3f4534af91bce6ac1b74dc%29%0A%20%20%20%20%20%20%20%20%20%20%20%20%3B%0A%0A%20%20%20%20%20%20%20%20%20%20%20%20%0A%20%20%20%20%20%20%20%20%0A%20%20%20%20%0A%20%20%20%20%20%20%20%20marker_99a68c4993004e83aa1e94659ef938b7.bindTooltip%28%0A%20%20%20%20%20%20%20%20%20%20%20%20%60%3Cdiv%3E%60%0A%20%20%20%20%20%20%20%20%20%20%20%20%2B%20%60Click%20here%20to%20see%20Popup%60%20%2B%20%60%3C/div%3E%60%2C%0A%20%20%20%20%20%20%20%20%20%20%20%20%7B%22sticky%22%3A%20true%7D%0A%20%20%20%20%20%20%20%20%29%3B%0A%20%20%20%20%20%20%20%20%0A%20%20%20%20%0A%20%20%20%20%20%20%20%20var%20marker_443c0211453d4ebd85f2dfa6dd3b6738%20%3D%20L.marker%28%0A%20%20%20%20%20%20%20%20%20%20%20%20%5B-22.993072809149222%2C%20-43.24392819385125%5D%2C%0A%20%20%20%20%20%20%20%20%20%20%20%20%7B%0A%20%20%20%20%20%20%20%20%20%20%20%20%20%20%20%20icon%3A%20new%20L.Icon.Default%28%29%2C%0A%20%20%20%20%20%20%20%20%20%20%20%20%20%20%20%20%7D%0A%20%20%20%20%20%20%20%20%20%20%20%20%29.addTo%28map_bc409e4ab39546f9aa70f02923a75071%29%3B%0A%20%20%20%20%20%20%20%20%0A%20%20%20%20%0A%20%20%20%20%20%20%20%20%20%20%20%20var%20popup_831884a989864b06b0234e2c2bb7bdbc%20%3D%20L.popup%28%7BmaxWidth%3A%20%27100%25%27%0A%20%20%20%20%20%20%20%20%20%20%20%20%0A%20%20%20%20%20%20%20%20%20%20%20%20%7D%29%3B%0A%0A%20%20%20%20%20%20%20%20%20%20%20%20%0A%20%20%20%20%20%20%20%20%20%20%20%20%20%20%20%20var%20html_32658083978f4879ba6f78bfe1bcbf2c%20%3D%20%24%28%60%3Cdiv%20id%3D%22html_32658083978f4879ba6f78bfe1bcbf2c%22%20style%3D%22width%3A%20100.0%25%3B%20height%3A%20100.0%25%3B%22%3ESMS_Rinaldo%3C/div%3E%60%29%5B0%5D%3B%0A%20%20%20%20%20%20%20%20%20%20%20%20%20%20%20%20popup_831884a989864b06b0234e2c2bb7bdbc.setContent%28html_32658083978f4879ba6f78bfe1bcbf2c%29%3B%0A%20%20%20%20%20%20%20%20%20%20%20%20%0A%0A%20%20%20%20%20%20%20%20%20%20%20%20marker_443c0211453d4ebd85f2dfa6dd3b6738.bindPopup%28popup_831884a989864b06b0234e2c2bb7bdbc%29%0A%20%20%20%20%20%20%20%20%20%20%20%20%3B%0A%0A%20%20%20%20%20%20%20%20%20%20%20%20%0A%20%20%20%20%20%20%20%20%0A%20%20%20%20%0A%20%20%20%20%20%20%20%20marker_443c0211453d4ebd85f2dfa6dd3b6738.bindTooltip%28%0A%20%20%20%20%20%20%20%20%20%20%20%20%60%3Cdiv%3E%60%0A%20%20%20%20%20%20%20%20%20%20%20%20%2B%20%60Click%20here%20to%20see%20Popup%60%20%2B%20%60%3C/div%3E%60%2C%0A%20%20%20%20%20%20%20%20%20%20%20%20%7B%22sticky%22%3A%20true%7D%0A%20%20%20%20%20%20%20%20%29%3B%0A%20%20%20%20%20%20%20%20%0A%3C/script%3E onload=\"this.contentDocument.open();this.contentDocument.write(    decodeURIComponent(this.getAttribute('data-html')));this.contentDocument.close();\" \"allowfullscreen\" \"webkitallowfullscreen\" \"mozallowfullscreen\"></iframe>"
            ],
            "text/plain": [
              "<folium.folium.Map at 0x7fca77fb9cd0>"
            ]
          },
          "metadata": {
            "tags": []
          },
          "execution_count": 114
        }
      ]
    },
    {
      "cell_type": "code",
      "metadata": {
        "colab": {
          "base_uri": "https://localhost:8080/",
          "height": 669
        },
        "id": "Jp33aXjEqS3X",
        "outputId": "2b0c7f87-c76c-4e73-88e4-94fd5216ea69"
      },
      "source": [
        "# criando a base para otimizar a rota\n",
        "\n",
        "latlong = [[-22.90984609532672, -43.16453481901272], [-22.961542179910733, -43.21865804016312], [-22.980824138520926, -43.196170400227025],\n",
        "           [-22.982878611270564, -43.18999059077894], [-22.993056213757274, -43.234514089931956], [-22.976046350999486, -43.222677436582906],\n",
        "           [-22.97453236829065, -43.23068921451901], [-22.966471836602683, -43.18743054810058], [-22.9580946963788, -43.17163770179098], \n",
        "           [-22.961615032735804, -43.16969176144102], [-22.956908837230625, -43.19922559314023], [-22.949163404648825, -43.192959953005364],\n",
        "           [-22.951060286280853, -43.18635099012338], [-22.949479553434184, -43.189269233473865], [-22.952482930053158, -43.17218892680484],\n",
        "           [-22.9252634072209, -43.17883808757883], [-22.92558945200113, -43.17631717131938], [-22.952991968665895, -43.17672013096345],\n",
        "           [-22.972828312011444, -43.22298287113733], [-22.993072809149222, -43.24392819385125]]\n",
        "\n",
        "postos = ['Santos_Dumont', 'ABBR', 'SMS_Cantagalo', 'Hotel_Fairmont', 'SMS_Rodolpho', 'SMS_Pad_Miguel', 'Planetario', 'SMS_JoaBarros', 'SMS_ChapeuMang',\n",
        "          'Paroquia_Rosario', 'Bombeiro_Humaita', 'SMS_DonaMarta', 'SMS_DomHelter', 'Casa_Firjan', 'Inst_Benjamin', 'SMS_Manoel', 'Museu_Republica',\n",
        "          'RochaMaia', 'Jockey', 'SMS_Rinaldo' ]\n",
        "\n",
        "df = pd.DataFrame(latlong, columns=['xcord', 'ycord'], index=postos)\n",
        "\n",
        "df\n"
      ],
      "execution_count": null,
      "outputs": [
        {
          "output_type": "execute_result",
          "data": {
            "text/html": [
              "<div>\n",
              "<style scoped>\n",
              "    .dataframe tbody tr th:only-of-type {\n",
              "        vertical-align: middle;\n",
              "    }\n",
              "\n",
              "    .dataframe tbody tr th {\n",
              "        vertical-align: top;\n",
              "    }\n",
              "\n",
              "    .dataframe thead th {\n",
              "        text-align: right;\n",
              "    }\n",
              "</style>\n",
              "<table border=\"1\" class=\"dataframe\">\n",
              "  <thead>\n",
              "    <tr style=\"text-align: right;\">\n",
              "      <th></th>\n",
              "      <th>xcord</th>\n",
              "      <th>ycord</th>\n",
              "    </tr>\n",
              "  </thead>\n",
              "  <tbody>\n",
              "    <tr>\n",
              "      <th>Santos_Dumont</th>\n",
              "      <td>-22.909846</td>\n",
              "      <td>-43.164535</td>\n",
              "    </tr>\n",
              "    <tr>\n",
              "      <th>ABBR</th>\n",
              "      <td>-22.961542</td>\n",
              "      <td>-43.218658</td>\n",
              "    </tr>\n",
              "    <tr>\n",
              "      <th>SMS_Cantagalo</th>\n",
              "      <td>-22.980824</td>\n",
              "      <td>-43.196170</td>\n",
              "    </tr>\n",
              "    <tr>\n",
              "      <th>Hotel_Fairmont</th>\n",
              "      <td>-22.982879</td>\n",
              "      <td>-43.189991</td>\n",
              "    </tr>\n",
              "    <tr>\n",
              "      <th>SMS_Rodolpho</th>\n",
              "      <td>-22.993056</td>\n",
              "      <td>-43.234514</td>\n",
              "    </tr>\n",
              "    <tr>\n",
              "      <th>SMS_Pad_Miguel</th>\n",
              "      <td>-22.976046</td>\n",
              "      <td>-43.222677</td>\n",
              "    </tr>\n",
              "    <tr>\n",
              "      <th>Planetario</th>\n",
              "      <td>-22.974532</td>\n",
              "      <td>-43.230689</td>\n",
              "    </tr>\n",
              "    <tr>\n",
              "      <th>SMS_JoaBarros</th>\n",
              "      <td>-22.966472</td>\n",
              "      <td>-43.187431</td>\n",
              "    </tr>\n",
              "    <tr>\n",
              "      <th>SMS_ChapeuMang</th>\n",
              "      <td>-22.958095</td>\n",
              "      <td>-43.171638</td>\n",
              "    </tr>\n",
              "    <tr>\n",
              "      <th>Paroquia_Rosario</th>\n",
              "      <td>-22.961615</td>\n",
              "      <td>-43.169692</td>\n",
              "    </tr>\n",
              "    <tr>\n",
              "      <th>Bombeiro_Humaita</th>\n",
              "      <td>-22.956909</td>\n",
              "      <td>-43.199226</td>\n",
              "    </tr>\n",
              "    <tr>\n",
              "      <th>SMS_DonaMarta</th>\n",
              "      <td>-22.949163</td>\n",
              "      <td>-43.192960</td>\n",
              "    </tr>\n",
              "    <tr>\n",
              "      <th>SMS_DomHelter</th>\n",
              "      <td>-22.951060</td>\n",
              "      <td>-43.186351</td>\n",
              "    </tr>\n",
              "    <tr>\n",
              "      <th>Casa_Firjan</th>\n",
              "      <td>-22.949480</td>\n",
              "      <td>-43.189269</td>\n",
              "    </tr>\n",
              "    <tr>\n",
              "      <th>Inst_Benjamin</th>\n",
              "      <td>-22.952483</td>\n",
              "      <td>-43.172189</td>\n",
              "    </tr>\n",
              "    <tr>\n",
              "      <th>SMS_Manoel</th>\n",
              "      <td>-22.925263</td>\n",
              "      <td>-43.178838</td>\n",
              "    </tr>\n",
              "    <tr>\n",
              "      <th>Museu_Republica</th>\n",
              "      <td>-22.925589</td>\n",
              "      <td>-43.176317</td>\n",
              "    </tr>\n",
              "    <tr>\n",
              "      <th>RochaMaia</th>\n",
              "      <td>-22.952992</td>\n",
              "      <td>-43.176720</td>\n",
              "    </tr>\n",
              "    <tr>\n",
              "      <th>Jockey</th>\n",
              "      <td>-22.972828</td>\n",
              "      <td>-43.222983</td>\n",
              "    </tr>\n",
              "    <tr>\n",
              "      <th>SMS_Rinaldo</th>\n",
              "      <td>-22.993073</td>\n",
              "      <td>-43.243928</td>\n",
              "    </tr>\n",
              "  </tbody>\n",
              "</table>\n",
              "</div>"
            ],
            "text/plain": [
              "                      xcord      ycord\n",
              "Santos_Dumont    -22.909846 -43.164535\n",
              "ABBR             -22.961542 -43.218658\n",
              "SMS_Cantagalo    -22.980824 -43.196170\n",
              "Hotel_Fairmont   -22.982879 -43.189991\n",
              "SMS_Rodolpho     -22.993056 -43.234514\n",
              "SMS_Pad_Miguel   -22.976046 -43.222677\n",
              "Planetario       -22.974532 -43.230689\n",
              "SMS_JoaBarros    -22.966472 -43.187431\n",
              "SMS_ChapeuMang   -22.958095 -43.171638\n",
              "Paroquia_Rosario -22.961615 -43.169692\n",
              "Bombeiro_Humaita -22.956909 -43.199226\n",
              "SMS_DonaMarta    -22.949163 -43.192960\n",
              "SMS_DomHelter    -22.951060 -43.186351\n",
              "Casa_Firjan      -22.949480 -43.189269\n",
              "Inst_Benjamin    -22.952483 -43.172189\n",
              "SMS_Manoel       -22.925263 -43.178838\n",
              "Museu_Republica  -22.925589 -43.176317\n",
              "RochaMaia        -22.952992 -43.176720\n",
              "Jockey           -22.972828 -43.222983\n",
              "SMS_Rinaldo      -22.993073 -43.243928"
            ]
          },
          "metadata": {
            "tags": []
          },
          "execution_count": 74
        }
      ]
    },
    {
      "cell_type": "code",
      "metadata": {
        "colab": {
          "base_uri": "https://localhost:8080/",
          "height": 689
        },
        "id": "TchQa2bpz2um",
        "outputId": "f42b25cb-8ccc-4118-b521-627b0fcddf79"
      },
      "source": [
        "# criando a matriz de distancias \n",
        "\n",
        "cities = pd.DataFrame(distance_matrix(df.values, df.values), index=df.index, columns=df.index)\n",
        "cities"
      ],
      "execution_count": null,
      "outputs": [
        {
          "output_type": "execute_result",
          "data": {
            "text/html": [
              "<div>\n",
              "<style scoped>\n",
              "    .dataframe tbody tr th:only-of-type {\n",
              "        vertical-align: middle;\n",
              "    }\n",
              "\n",
              "    .dataframe tbody tr th {\n",
              "        vertical-align: top;\n",
              "    }\n",
              "\n",
              "    .dataframe thead th {\n",
              "        text-align: right;\n",
              "    }\n",
              "</style>\n",
              "<table border=\"1\" class=\"dataframe\">\n",
              "  <thead>\n",
              "    <tr style=\"text-align: right;\">\n",
              "      <th></th>\n",
              "      <th>Santos_Dumont</th>\n",
              "      <th>ABBR</th>\n",
              "      <th>SMS_Cantagalo</th>\n",
              "      <th>Hotel_Fairmont</th>\n",
              "      <th>SMS_Rodolpho</th>\n",
              "      <th>SMS_Pad_Miguel</th>\n",
              "      <th>Planetario</th>\n",
              "      <th>SMS_JoaBarros</th>\n",
              "      <th>SMS_ChapeuMang</th>\n",
              "      <th>Paroquia_Rosario</th>\n",
              "      <th>Bombeiro_Humaita</th>\n",
              "      <th>SMS_DonaMarta</th>\n",
              "      <th>SMS_DomHelter</th>\n",
              "      <th>Casa_Firjan</th>\n",
              "      <th>Inst_Benjamin</th>\n",
              "      <th>SMS_Manoel</th>\n",
              "      <th>Museu_Republica</th>\n",
              "      <th>RochaMaia</th>\n",
              "      <th>Jockey</th>\n",
              "      <th>SMS_Rinaldo</th>\n",
              "    </tr>\n",
              "  </thead>\n",
              "  <tbody>\n",
              "    <tr>\n",
              "      <th>Santos_Dumont</th>\n",
              "      <td>0.000000</td>\n",
              "      <td>0.074845</td>\n",
              "      <td>0.077709</td>\n",
              "      <td>0.077342</td>\n",
              "      <td>0.108725</td>\n",
              "      <td>0.088108</td>\n",
              "      <td>0.092524</td>\n",
              "      <td>0.061079</td>\n",
              "      <td>0.048769</td>\n",
              "      <td>0.052025</td>\n",
              "      <td>0.058467</td>\n",
              "      <td>0.048516</td>\n",
              "      <td>0.046632</td>\n",
              "      <td>0.046718</td>\n",
              "      <td>0.043318</td>\n",
              "      <td>0.021030</td>\n",
              "      <td>0.019664</td>\n",
              "      <td>0.044834</td>\n",
              "      <td>0.085924</td>\n",
              "      <td>0.115022</td>\n",
              "    </tr>\n",
              "    <tr>\n",
              "      <th>ABBR</th>\n",
              "      <td>0.074845</td>\n",
              "      <td>0.000000</td>\n",
              "      <td>0.029622</td>\n",
              "      <td>0.035736</td>\n",
              "      <td>0.035278</td>\n",
              "      <td>0.015051</td>\n",
              "      <td>0.017706</td>\n",
              "      <td>0.031614</td>\n",
              "      <td>0.047147</td>\n",
              "      <td>0.048966</td>\n",
              "      <td>0.019977</td>\n",
              "      <td>0.028524</td>\n",
              "      <td>0.033965</td>\n",
              "      <td>0.031768</td>\n",
              "      <td>0.047344</td>\n",
              "      <td>0.053868</td>\n",
              "      <td>0.055546</td>\n",
              "      <td>0.042801</td>\n",
              "      <td>0.012086</td>\n",
              "      <td>0.040407</td>\n",
              "    </tr>\n",
              "    <tr>\n",
              "      <th>SMS_Cantagalo</th>\n",
              "      <td>0.077709</td>\n",
              "      <td>0.029622</td>\n",
              "      <td>0.000000</td>\n",
              "      <td>0.006512</td>\n",
              "      <td>0.040248</td>\n",
              "      <td>0.026934</td>\n",
              "      <td>0.035088</td>\n",
              "      <td>0.016804</td>\n",
              "      <td>0.033444</td>\n",
              "      <td>0.032713</td>\n",
              "      <td>0.024110</td>\n",
              "      <td>0.031823</td>\n",
              "      <td>0.031342</td>\n",
              "      <td>0.032095</td>\n",
              "      <td>0.037126</td>\n",
              "      <td>0.058201</td>\n",
              "      <td>0.058694</td>\n",
              "      <td>0.033955</td>\n",
              "      <td>0.027979</td>\n",
              "      <td>0.049304</td>\n",
              "    </tr>\n",
              "    <tr>\n",
              "      <th>Hotel_Fairmont</th>\n",
              "      <td>0.077342</td>\n",
              "      <td>0.035736</td>\n",
              "      <td>0.006512</td>\n",
              "      <td>0.000000</td>\n",
              "      <td>0.045672</td>\n",
              "      <td>0.033393</td>\n",
              "      <td>0.041546</td>\n",
              "      <td>0.016605</td>\n",
              "      <td>0.030839</td>\n",
              "      <td>0.029397</td>\n",
              "      <td>0.027563</td>\n",
              "      <td>0.033846</td>\n",
              "      <td>0.032026</td>\n",
              "      <td>0.033407</td>\n",
              "      <td>0.035225</td>\n",
              "      <td>0.058685</td>\n",
              "      <td>0.058898</td>\n",
              "      <td>0.032700</td>\n",
              "      <td>0.034489</td>\n",
              "      <td>0.054893</td>\n",
              "    </tr>\n",
              "    <tr>\n",
              "      <th>SMS_Rodolpho</th>\n",
              "      <td>0.108725</td>\n",
              "      <td>0.035278</td>\n",
              "      <td>0.040248</td>\n",
              "      <td>0.045672</td>\n",
              "      <td>0.000000</td>\n",
              "      <td>0.020723</td>\n",
              "      <td>0.018915</td>\n",
              "      <td>0.054070</td>\n",
              "      <td>0.071943</td>\n",
              "      <td>0.072045</td>\n",
              "      <td>0.050516</td>\n",
              "      <td>0.060443</td>\n",
              "      <td>0.063901</td>\n",
              "      <td>0.062817</td>\n",
              "      <td>0.074368</td>\n",
              "      <td>0.087725</td>\n",
              "      <td>0.089099</td>\n",
              "      <td>0.070323</td>\n",
              "      <td>0.023284</td>\n",
              "      <td>0.009414</td>\n",
              "    </tr>\n",
              "    <tr>\n",
              "      <th>SMS_Pad_Miguel</th>\n",
              "      <td>0.088108</td>\n",
              "      <td>0.015051</td>\n",
              "      <td>0.026934</td>\n",
              "      <td>0.033393</td>\n",
              "      <td>0.020723</td>\n",
              "      <td>0.000000</td>\n",
              "      <td>0.008154</td>\n",
              "      <td>0.036524</td>\n",
              "      <td>0.054105</td>\n",
              "      <td>0.054916</td>\n",
              "      <td>0.030269</td>\n",
              "      <td>0.040073</td>\n",
              "      <td>0.044090</td>\n",
              "      <td>0.042684</td>\n",
              "      <td>0.055716</td>\n",
              "      <td>0.067088</td>\n",
              "      <td>0.068521</td>\n",
              "      <td>0.051416</td>\n",
              "      <td>0.003233</td>\n",
              "      <td>0.027230</td>\n",
              "    </tr>\n",
              "    <tr>\n",
              "      <th>Planetario</th>\n",
              "      <td>0.092524</td>\n",
              "      <td>0.017706</td>\n",
              "      <td>0.035088</td>\n",
              "      <td>0.041546</td>\n",
              "      <td>0.018915</td>\n",
              "      <td>0.008154</td>\n",
              "      <td>0.000000</td>\n",
              "      <td>0.044003</td>\n",
              "      <td>0.061297</td>\n",
              "      <td>0.062350</td>\n",
              "      <td>0.036063</td>\n",
              "      <td>0.045465</td>\n",
              "      <td>0.050168</td>\n",
              "      <td>0.048407</td>\n",
              "      <td>0.062518</td>\n",
              "      <td>0.071526</td>\n",
              "      <td>0.073156</td>\n",
              "      <td>0.058109</td>\n",
              "      <td>0.007892</td>\n",
              "      <td>0.022782</td>\n",
              "    </tr>\n",
              "    <tr>\n",
              "      <th>SMS_JoaBarros</th>\n",
              "      <td>0.061079</td>\n",
              "      <td>0.031614</td>\n",
              "      <td>0.016804</td>\n",
              "      <td>0.016605</td>\n",
              "      <td>0.054070</td>\n",
              "      <td>0.036524</td>\n",
              "      <td>0.044003</td>\n",
              "      <td>0.000000</td>\n",
              "      <td>0.017877</td>\n",
              "      <td>0.018392</td>\n",
              "      <td>0.015185</td>\n",
              "      <td>0.018170</td>\n",
              "      <td>0.015449</td>\n",
              "      <td>0.017091</td>\n",
              "      <td>0.020688</td>\n",
              "      <td>0.042095</td>\n",
              "      <td>0.042366</td>\n",
              "      <td>0.017217</td>\n",
              "      <td>0.036116</td>\n",
              "      <td>0.062447</td>\n",
              "    </tr>\n",
              "    <tr>\n",
              "      <th>SMS_ChapeuMang</th>\n",
              "      <td>0.048769</td>\n",
              "      <td>0.047147</td>\n",
              "      <td>0.033444</td>\n",
              "      <td>0.030839</td>\n",
              "      <td>0.071943</td>\n",
              "      <td>0.054105</td>\n",
              "      <td>0.061297</td>\n",
              "      <td>0.017877</td>\n",
              "      <td>0.000000</td>\n",
              "      <td>0.004022</td>\n",
              "      <td>0.027613</td>\n",
              "      <td>0.023117</td>\n",
              "      <td>0.016308</td>\n",
              "      <td>0.019624</td>\n",
              "      <td>0.005639</td>\n",
              "      <td>0.033612</td>\n",
              "      <td>0.032840</td>\n",
              "      <td>0.007202</td>\n",
              "      <td>0.053417</td>\n",
              "      <td>0.080308</td>\n",
              "    </tr>\n",
              "    <tr>\n",
              "      <th>Paroquia_Rosario</th>\n",
              "      <td>0.052025</td>\n",
              "      <td>0.048966</td>\n",
              "      <td>0.032713</td>\n",
              "      <td>0.029397</td>\n",
              "      <td>0.072045</td>\n",
              "      <td>0.054916</td>\n",
              "      <td>0.062350</td>\n",
              "      <td>0.018392</td>\n",
              "      <td>0.004022</td>\n",
              "      <td>0.000000</td>\n",
              "      <td>0.029906</td>\n",
              "      <td>0.026390</td>\n",
              "      <td>0.019721</td>\n",
              "      <td>0.023034</td>\n",
              "      <td>0.009467</td>\n",
              "      <td>0.037485</td>\n",
              "      <td>0.036630</td>\n",
              "      <td>0.011125</td>\n",
              "      <td>0.054458</td>\n",
              "      <td>0.080627</td>\n",
              "    </tr>\n",
              "    <tr>\n",
              "      <th>Bombeiro_Humaita</th>\n",
              "      <td>0.058467</td>\n",
              "      <td>0.019977</td>\n",
              "      <td>0.024110</td>\n",
              "      <td>0.027563</td>\n",
              "      <td>0.050516</td>\n",
              "      <td>0.030269</td>\n",
              "      <td>0.036063</td>\n",
              "      <td>0.015185</td>\n",
              "      <td>0.027613</td>\n",
              "      <td>0.029906</td>\n",
              "      <td>0.000000</td>\n",
              "      <td>0.009962</td>\n",
              "      <td>0.014141</td>\n",
              "      <td>0.012423</td>\n",
              "      <td>0.027397</td>\n",
              "      <td>0.037644</td>\n",
              "      <td>0.038803</td>\n",
              "      <td>0.022844</td>\n",
              "      <td>0.028598</td>\n",
              "      <td>0.057499</td>\n",
              "    </tr>\n",
              "    <tr>\n",
              "      <th>SMS_DonaMarta</th>\n",
              "      <td>0.048516</td>\n",
              "      <td>0.028524</td>\n",
              "      <td>0.031823</td>\n",
              "      <td>0.033846</td>\n",
              "      <td>0.060443</td>\n",
              "      <td>0.040073</td>\n",
              "      <td>0.045465</td>\n",
              "      <td>0.018170</td>\n",
              "      <td>0.023117</td>\n",
              "      <td>0.026390</td>\n",
              "      <td>0.009962</td>\n",
              "      <td>0.000000</td>\n",
              "      <td>0.006876</td>\n",
              "      <td>0.003704</td>\n",
              "      <td>0.021035</td>\n",
              "      <td>0.027760</td>\n",
              "      <td>0.028857</td>\n",
              "      <td>0.016685</td>\n",
              "      <td>0.038228</td>\n",
              "      <td>0.067274</td>\n",
              "    </tr>\n",
              "    <tr>\n",
              "      <th>SMS_DomHelter</th>\n",
              "      <td>0.046632</td>\n",
              "      <td>0.033965</td>\n",
              "      <td>0.031342</td>\n",
              "      <td>0.032026</td>\n",
              "      <td>0.063901</td>\n",
              "      <td>0.044090</td>\n",
              "      <td>0.050168</td>\n",
              "      <td>0.015449</td>\n",
              "      <td>0.016308</td>\n",
              "      <td>0.019721</td>\n",
              "      <td>0.014141</td>\n",
              "      <td>0.006876</td>\n",
              "      <td>0.000000</td>\n",
              "      <td>0.003319</td>\n",
              "      <td>0.014233</td>\n",
              "      <td>0.026869</td>\n",
              "      <td>0.027376</td>\n",
              "      <td>0.009823</td>\n",
              "      <td>0.042612</td>\n",
              "      <td>0.071275</td>\n",
              "    </tr>\n",
              "    <tr>\n",
              "      <th>Casa_Firjan</th>\n",
              "      <td>0.046718</td>\n",
              "      <td>0.031768</td>\n",
              "      <td>0.032095</td>\n",
              "      <td>0.033407</td>\n",
              "      <td>0.062817</td>\n",
              "      <td>0.042684</td>\n",
              "      <td>0.048407</td>\n",
              "      <td>0.017091</td>\n",
              "      <td>0.019624</td>\n",
              "      <td>0.023034</td>\n",
              "      <td>0.012423</td>\n",
              "      <td>0.003704</td>\n",
              "      <td>0.003319</td>\n",
              "      <td>0.000000</td>\n",
              "      <td>0.017342</td>\n",
              "      <td>0.026367</td>\n",
              "      <td>0.027175</td>\n",
              "      <td>0.013031</td>\n",
              "      <td>0.041009</td>\n",
              "      <td>0.069914</td>\n",
              "    </tr>\n",
              "    <tr>\n",
              "      <th>Inst_Benjamin</th>\n",
              "      <td>0.043318</td>\n",
              "      <td>0.047344</td>\n",
              "      <td>0.037126</td>\n",
              "      <td>0.035225</td>\n",
              "      <td>0.074368</td>\n",
              "      <td>0.055716</td>\n",
              "      <td>0.062518</td>\n",
              "      <td>0.020688</td>\n",
              "      <td>0.005639</td>\n",
              "      <td>0.009467</td>\n",
              "      <td>0.027397</td>\n",
              "      <td>0.021035</td>\n",
              "      <td>0.014233</td>\n",
              "      <td>0.017342</td>\n",
              "      <td>0.000000</td>\n",
              "      <td>0.028020</td>\n",
              "      <td>0.027208</td>\n",
              "      <td>0.004560</td>\n",
              "      <td>0.054717</td>\n",
              "      <td>0.082426</td>\n",
              "    </tr>\n",
              "    <tr>\n",
              "      <th>SMS_Manoel</th>\n",
              "      <td>0.021030</td>\n",
              "      <td>0.053868</td>\n",
              "      <td>0.058201</td>\n",
              "      <td>0.058685</td>\n",
              "      <td>0.087725</td>\n",
              "      <td>0.067088</td>\n",
              "      <td>0.071526</td>\n",
              "      <td>0.042095</td>\n",
              "      <td>0.033612</td>\n",
              "      <td>0.037485</td>\n",
              "      <td>0.037644</td>\n",
              "      <td>0.027760</td>\n",
              "      <td>0.026869</td>\n",
              "      <td>0.026367</td>\n",
              "      <td>0.028020</td>\n",
              "      <td>0.000000</td>\n",
              "      <td>0.002542</td>\n",
              "      <td>0.027809</td>\n",
              "      <td>0.064894</td>\n",
              "      <td>0.093994</td>\n",
              "    </tr>\n",
              "    <tr>\n",
              "      <th>Museu_Republica</th>\n",
              "      <td>0.019664</td>\n",
              "      <td>0.055546</td>\n",
              "      <td>0.058694</td>\n",
              "      <td>0.058898</td>\n",
              "      <td>0.089099</td>\n",
              "      <td>0.068521</td>\n",
              "      <td>0.073156</td>\n",
              "      <td>0.042366</td>\n",
              "      <td>0.032840</td>\n",
              "      <td>0.036630</td>\n",
              "      <td>0.038803</td>\n",
              "      <td>0.028857</td>\n",
              "      <td>0.027376</td>\n",
              "      <td>0.027175</td>\n",
              "      <td>0.027208</td>\n",
              "      <td>0.002542</td>\n",
              "      <td>0.000000</td>\n",
              "      <td>0.027405</td>\n",
              "      <td>0.066402</td>\n",
              "      <td>0.095526</td>\n",
              "    </tr>\n",
              "    <tr>\n",
              "      <th>RochaMaia</th>\n",
              "      <td>0.044834</td>\n",
              "      <td>0.042801</td>\n",
              "      <td>0.033955</td>\n",
              "      <td>0.032700</td>\n",
              "      <td>0.070323</td>\n",
              "      <td>0.051416</td>\n",
              "      <td>0.058109</td>\n",
              "      <td>0.017217</td>\n",
              "      <td>0.007202</td>\n",
              "      <td>0.011125</td>\n",
              "      <td>0.022844</td>\n",
              "      <td>0.016685</td>\n",
              "      <td>0.009823</td>\n",
              "      <td>0.013031</td>\n",
              "      <td>0.004560</td>\n",
              "      <td>0.027809</td>\n",
              "      <td>0.027405</td>\n",
              "      <td>0.000000</td>\n",
              "      <td>0.050336</td>\n",
              "      <td>0.078252</td>\n",
              "    </tr>\n",
              "    <tr>\n",
              "      <th>Jockey</th>\n",
              "      <td>0.085924</td>\n",
              "      <td>0.012086</td>\n",
              "      <td>0.027979</td>\n",
              "      <td>0.034489</td>\n",
              "      <td>0.023284</td>\n",
              "      <td>0.003233</td>\n",
              "      <td>0.007892</td>\n",
              "      <td>0.036116</td>\n",
              "      <td>0.053417</td>\n",
              "      <td>0.054458</td>\n",
              "      <td>0.028598</td>\n",
              "      <td>0.038228</td>\n",
              "      <td>0.042612</td>\n",
              "      <td>0.041009</td>\n",
              "      <td>0.054717</td>\n",
              "      <td>0.064894</td>\n",
              "      <td>0.066402</td>\n",
              "      <td>0.050336</td>\n",
              "      <td>0.000000</td>\n",
              "      <td>0.029130</td>\n",
              "    </tr>\n",
              "    <tr>\n",
              "      <th>SMS_Rinaldo</th>\n",
              "      <td>0.115022</td>\n",
              "      <td>0.040407</td>\n",
              "      <td>0.049304</td>\n",
              "      <td>0.054893</td>\n",
              "      <td>0.009414</td>\n",
              "      <td>0.027230</td>\n",
              "      <td>0.022782</td>\n",
              "      <td>0.062447</td>\n",
              "      <td>0.080308</td>\n",
              "      <td>0.080627</td>\n",
              "      <td>0.057499</td>\n",
              "      <td>0.067274</td>\n",
              "      <td>0.071275</td>\n",
              "      <td>0.069914</td>\n",
              "      <td>0.082426</td>\n",
              "      <td>0.093994</td>\n",
              "      <td>0.095526</td>\n",
              "      <td>0.078252</td>\n",
              "      <td>0.029130</td>\n",
              "      <td>0.000000</td>\n",
              "    </tr>\n",
              "  </tbody>\n",
              "</table>\n",
              "</div>"
            ],
            "text/plain": [
              "                  Santos_Dumont      ABBR  ...    Jockey  SMS_Rinaldo\n",
              "Santos_Dumont          0.000000  0.074845  ...  0.085924     0.115022\n",
              "ABBR                   0.074845  0.000000  ...  0.012086     0.040407\n",
              "SMS_Cantagalo          0.077709  0.029622  ...  0.027979     0.049304\n",
              "Hotel_Fairmont         0.077342  0.035736  ...  0.034489     0.054893\n",
              "SMS_Rodolpho           0.108725  0.035278  ...  0.023284     0.009414\n",
              "SMS_Pad_Miguel         0.088108  0.015051  ...  0.003233     0.027230\n",
              "Planetario             0.092524  0.017706  ...  0.007892     0.022782\n",
              "SMS_JoaBarros          0.061079  0.031614  ...  0.036116     0.062447\n",
              "SMS_ChapeuMang         0.048769  0.047147  ...  0.053417     0.080308\n",
              "Paroquia_Rosario       0.052025  0.048966  ...  0.054458     0.080627\n",
              "Bombeiro_Humaita       0.058467  0.019977  ...  0.028598     0.057499\n",
              "SMS_DonaMarta          0.048516  0.028524  ...  0.038228     0.067274\n",
              "SMS_DomHelter          0.046632  0.033965  ...  0.042612     0.071275\n",
              "Casa_Firjan            0.046718  0.031768  ...  0.041009     0.069914\n",
              "Inst_Benjamin          0.043318  0.047344  ...  0.054717     0.082426\n",
              "SMS_Manoel             0.021030  0.053868  ...  0.064894     0.093994\n",
              "Museu_Republica        0.019664  0.055546  ...  0.066402     0.095526\n",
              "RochaMaia              0.044834  0.042801  ...  0.050336     0.078252\n",
              "Jockey                 0.085924  0.012086  ...  0.000000     0.029130\n",
              "SMS_Rinaldo            0.115022  0.040407  ...  0.029130     0.000000\n",
              "\n",
              "[20 rows x 20 columns]"
            ]
          },
          "metadata": {
            "tags": []
          },
          "execution_count": 77
        }
      ]
    },
    {
      "cell_type": "markdown",
      "metadata": {
        "id": "vukKHLlYtNYa"
      },
      "source": [
        "### Declaração das funções auxiliares que devem conter as informações do problema"
      ]
    },
    {
      "cell_type": "code",
      "metadata": {
        "colab": {
          "base_uri": "https://localhost:8080/"
        },
        "id": "G5Mm1DW3Wn7V",
        "outputId": "29ac3896-09a4-40dc-c786-dc6f2dfc50f5"
      },
      "source": [
        "random.sample(range(0,10),10)"
      ],
      "execution_count": null,
      "outputs": [
        {
          "output_type": "execute_result",
          "data": {
            "text/plain": [
              "[8, 1, 2, 4, 7, 6, 0, 9, 5, 3]"
            ]
          },
          "metadata": {
            "tags": []
          },
          "execution_count": 80
        }
      ]
    },
    {
      "cell_type": "code",
      "metadata": {
        "id": "JmepN1Nd2es2"
      },
      "source": [
        "# Função Objetivo -> Repare que o único parametro que a função deve receber é um individuo\n",
        "def DistanciaCidades(individual):\n",
        "  totalCidades = len(individual)\n",
        "  distanciaTotal = 0\n",
        "  for index,cidade in enumerate(individual):\n",
        "    # Verificar a distancia de uma cidade para a outra\n",
        "    cidadeOrigem = cidade\n",
        "    cidadeDestino = individual[index+1]\n",
        "    distanciaTotal = distanciaTotal + cities.iloc[cidadeOrigem,cidadeDestino]\n",
        "    # Para um problema circular deve-se alterar a validação abaixo\n",
        "    if index == len(individual) -2: # Tamanho total da lista -1 é o valor que a variavel index alcança, e -1 novamente para não rodar no loop de novo\n",
        "      cidadeDestino = individual[index+0]  # para problema circular - voltar para o mesmo lugar\n",
        "      distanciaTotal = distanciaTotal + cities.iloc[cidadeOrigem,cidadeDestino]\n",
        "      break\n",
        "  return distanciaTotal,"
      ],
      "execution_count": null,
      "outputs": []
    },
    {
      "cell_type": "markdown",
      "metadata": {
        "id": "v0Xc3Sh10R8M"
      },
      "source": [
        "### Declaração dos pacotes referentes a biblioteca do GA: \n",
        "\n"
      ]
    },
    {
      "cell_type": "code",
      "metadata": {
        "id": "-qkFcI9M07DK",
        "colab": {
          "base_uri": "https://localhost:8080/"
        },
        "outputId": "68523f00-bd36-4e74-c73b-ee2fbec8f702"
      },
      "source": [
        "creator.create(\"FitnessMin\", base.Fitness, weights=(-1.0,))\n",
        "creator.create(\"Individual\", list, fitness=creator.FitnessMin)"
      ],
      "execution_count": null,
      "outputs": [
        {
          "output_type": "stream",
          "text": [
            "/usr/local/lib/python3.7/dist-packages/deap/creator.py:141: RuntimeWarning: A class named 'FitnessMin' has already been created and it will be overwritten. Consider deleting previous creation of that class or rename it.\n",
            "  RuntimeWarning)\n",
            "/usr/local/lib/python3.7/dist-packages/deap/creator.py:141: RuntimeWarning: A class named 'Individual' has already been created and it will be overwritten. Consider deleting previous creation of that class or rename it.\n",
            "  RuntimeWarning)\n"
          ],
          "name": "stderr"
        }
      ]
    },
    {
      "cell_type": "code",
      "metadata": {
        "id": "CQ23CH1D2fmb"
      },
      "source": [
        "toolbox = base.Toolbox()\n",
        "# Definir o gerador de numeros aleatórios únicos de numeros inteiros de (0 a 20)\n",
        "toolbox.register(\"random_unique_int\", random.sample, range(0,20), 20) # range é o vetor de possibilidades\n",
        "# Inicialização do cromossomo (quantos genes o cromossomo deve possuir)\n",
        "toolbox.register(\"individual\", tools.initIterate, creator.Individual, toolbox.random_unique_int)\n",
        "# Registro do individuo na população\n",
        "toolbox.register(\"population\", tools.initRepeat, list, toolbox.individual)\n",
        "# Registro do nome da função objetivo\n",
        "toolbox.register(\"evaluate\", DistanciaCidades)\n",
        "\n",
        "#################################### OPERADORES ####################################\n",
        "# Registro de qual o tipo de cruzamento deve ser utilizado (Recomendado para problema de Ordem)\n",
        "toolbox.register(\"mate\", tools.cxOrdered)\n",
        "# Registro de qual tipo de mutação deve ser utilizado (Recomendado para problema de Ordem) (probabilidade de um individuo sofrer mutação)\n",
        "toolbox.register(\"mutate\", tools.mutShuffleIndexes, indpb=0.1)\n",
        "# Registro de qual o tipo do método de seleção que será utilizado\n",
        "toolbox.register(\"select\", tools.selTournament, tournsize=5) #cuidado com o metodo de seleção de roleta no metodo de minimização"
      ],
      "execution_count": null,
      "outputs": []
    },
    {
      "cell_type": "markdown",
      "metadata": {
        "id": "Stxu97PT0y1U"
      },
      "source": [
        "## Chamada efetiva do GA para resolução"
      ]
    },
    {
      "cell_type": "code",
      "metadata": {
        "id": "T9wHuwvDeavT"
      },
      "source": [
        "pop = toolbox.population(n=400)                           # inicialização da pop\n",
        "hof = tools.HallOfFame(1)                                 # melhor indivíduo\n",
        "stats = tools.Statistics(lambda ind: ind.fitness.values)  # estatísticas\n",
        "stats.register(\"avg\", numpy.mean)\n",
        "stats.register(\"std\", numpy.std)\n",
        "stats.register(\"min\", numpy.min)\n",
        "stats.register(\"max\", numpy.max)"
      ],
      "execution_count": null,
      "outputs": []
    },
    {
      "cell_type": "code",
      "metadata": {
        "id": "eB-D6v2HecUi",
        "colab": {
          "base_uri": "https://localhost:8080/"
        },
        "outputId": "b22694ab-6dbb-42a3-e072-8c3a9dc7a879"
      },
      "source": [
        "pop, log = algorithms.eaSimple(pop, toolbox, cxpb=0.7, mutpb=0.3, ngen=80, stats=stats, halloffame=hof, verbose=True) #aumentei mut = 0.7"
      ],
      "execution_count": null,
      "outputs": [
        {
          "output_type": "stream",
          "text": [
            "gen\tnevals\tavg     \tstd     \tmin     \tmax     \n",
            "0  \t400   \t0.756438\t0.079443\t0.501245\t0.969483\n",
            "1  \t314   \t0.682763\t0.0679521\t0.501245\t0.901505\n",
            "2  \t317   \t0.645256\t0.0718538\t0.419974\t0.90366 \n",
            "3  \t314   \t0.609325\t0.0721905\t0.419974\t0.853318\n",
            "4  \t322   \t0.579289\t0.074994 \t0.419974\t0.801174\n",
            "5  \t279   \t0.548519\t0.08035  \t0.394188\t0.964948\n",
            "6  \t313   \t0.531955\t0.0779443\t0.377381\t0.794464\n",
            "7  \t315   \t0.519157\t0.0846294\t0.366049\t0.853755\n",
            "8  \t310   \t0.507686\t0.0897062\t0.372837\t0.822189\n",
            "9  \t325   \t0.483644\t0.0813493\t0.353619\t0.839754\n",
            "10 \t320   \t0.480427\t0.096502 \t0.345778\t0.830089\n",
            "11 \t296   \t0.457471\t0.0871041\t0.336112\t0.819544\n",
            "12 \t322   \t0.447296\t0.0908806\t0.331413\t0.863383\n",
            "13 \t325   \t0.434619\t0.0854659\t0.32633 \t0.88235 \n",
            "14 \t298   \t0.429589\t0.0963711\t0.318451\t0.802032\n",
            "15 \t315   \t0.417705\t0.0871876\t0.318451\t0.839377\n",
            "16 \t313   \t0.417221\t0.0902503\t0.31868 \t0.86268 \n",
            "17 \t309   \t0.411349\t0.0925457\t0.298181\t0.775318\n",
            "18 \t306   \t0.408519\t0.096091 \t0.298181\t0.809872\n",
            "19 \t304   \t0.404092\t0.0937127\t0.298181\t0.773007\n",
            "20 \t306   \t0.402314\t0.102946 \t0.287714\t0.927152\n",
            "21 \t314   \t0.40395 \t0.103107 \t0.284028\t0.847392\n",
            "22 \t307   \t0.389869\t0.0977821\t0.262354\t0.768318\n",
            "23 \t328   \t0.388807\t0.0986721\t0.262354\t0.833035\n",
            "24 \t332   \t0.382248\t0.101586 \t0.25965 \t0.828104\n",
            "25 \t312   \t0.382251\t0.112297 \t0.25965 \t0.775906\n",
            "26 \t307   \t0.360241\t0.105999 \t0.243057\t0.75688 \n",
            "27 \t301   \t0.343303\t0.112776 \t0.243057\t0.762652\n",
            "28 \t322   \t0.323471\t0.105263 \t0.240354\t0.77258 \n",
            "29 \t313   \t0.314733\t0.107514 \t0.240354\t0.856049\n",
            "30 \t319   \t0.312654\t0.110193 \t0.240354\t0.823357\n",
            "31 \t301   \t0.303923\t0.104964 \t0.240354\t0.809359\n",
            "32 \t315   \t0.303419\t0.109231 \t0.240354\t0.830308\n",
            "33 \t315   \t0.291793\t0.104884 \t0.240354\t0.816794\n",
            "34 \t326   \t0.297455\t0.105472 \t0.240354\t0.710381\n",
            "35 \t309   \t0.287257\t0.103035 \t0.240354\t0.762818\n",
            "36 \t307   \t0.281526\t0.0949686\t0.240354\t0.805523\n",
            "37 \t298   \t0.286038\t0.0981828\t0.237684\t0.740494\n",
            "38 \t315   \t0.2989  \t0.110617 \t0.237684\t0.882734\n",
            "39 \t317   \t0.299842\t0.114997 \t0.237684\t0.777178\n",
            "40 \t326   \t0.303553\t0.118362 \t0.237684\t0.769382\n",
            "41 \t315   \t0.294863\t0.107243 \t0.237684\t0.762147\n",
            "42 \t328   \t0.295155\t0.108489 \t0.237684\t0.688794\n",
            "43 \t327   \t0.308213\t0.124672 \t0.237684\t0.775676\n",
            "44 \t328   \t0.290044\t0.107882 \t0.237684\t0.724286\n",
            "45 \t315   \t0.294254\t0.108821 \t0.237684\t0.766109\n",
            "46 \t320   \t0.28709 \t0.103251 \t0.237684\t0.705675\n",
            "47 \t318   \t0.289207\t0.107034 \t0.237684\t0.797554\n",
            "48 \t321   \t0.288123\t0.102367 \t0.237684\t0.847185\n",
            "49 \t321   \t0.295019\t0.115937 \t0.237684\t0.800609\n",
            "50 \t291   \t0.284702\t0.0984938\t0.237684\t0.767861\n",
            "51 \t313   \t0.292127\t0.111591 \t0.237684\t0.79221 \n",
            "52 \t309   \t0.279491\t0.0973144\t0.237684\t0.807056\n",
            "53 \t301   \t0.28643 \t0.10349  \t0.237684\t0.72206 \n",
            "54 \t320   \t0.286729\t0.103012 \t0.237684\t0.822291\n",
            "55 \t326   \t0.299988\t0.121468 \t0.237684\t0.773493\n",
            "56 \t327   \t0.290955\t0.108179 \t0.237684\t0.712139\n",
            "57 \t317   \t0.289019\t0.103388 \t0.237684\t0.692806\n",
            "58 \t298   \t0.282871\t0.0987995\t0.237684\t0.680691\n",
            "59 \t321   \t0.284408\t0.100974 \t0.237684\t0.775352\n",
            "60 \t312   \t0.289608\t0.104084 \t0.237684\t0.71218 \n",
            "61 \t308   \t0.284603\t0.0989226\t0.237684\t0.807782\n",
            "62 \t319   \t0.295168\t0.106107 \t0.237684\t0.694757\n",
            "63 \t317   \t0.286085\t0.10442  \t0.237684\t0.868055\n",
            "64 \t325   \t0.286706\t0.100457 \t0.237684\t0.746835\n",
            "65 \t316   \t0.286217\t0.100581 \t0.237684\t0.729916\n",
            "66 \t314   \t0.299213\t0.12483  \t0.237684\t0.842926\n",
            "67 \t326   \t0.295768\t0.11414  \t0.237684\t0.799119\n",
            "68 \t309   \t0.293676\t0.110475 \t0.237684\t0.74738 \n",
            "69 \t299   \t0.281137\t0.0994776\t0.237684\t0.799112\n",
            "70 \t330   \t0.29282 \t0.114642 \t0.237684\t0.810023\n",
            "71 \t319   \t0.275971\t0.0828583\t0.237684\t0.664876\n",
            "72 \t322   \t0.294441\t0.112686 \t0.237684\t0.748812\n",
            "73 \t318   \t0.293043\t0.112626 \t0.237684\t0.828125\n",
            "74 \t318   \t0.288135\t0.104013 \t0.237684\t0.778434\n",
            "75 \t332   \t0.284369\t0.0973371\t0.237684\t0.663837\n",
            "76 \t314   \t0.290588\t0.105204 \t0.237684\t0.723174\n",
            "77 \t298   \t0.289346\t0.107535 \t0.237684\t0.782695\n",
            "78 \t322   \t0.290086\t0.107171 \t0.237684\t0.765527\n",
            "79 \t307   \t0.301867\t0.119611 \t0.237684\t0.769132\n",
            "80 \t313   \t0.286733\t0.101055 \t0.237684\t0.785091\n"
          ],
          "name": "stdout"
        }
      ]
    },
    {
      "cell_type": "markdown",
      "metadata": {
        "id": "6igXZchj1TtX"
      },
      "source": [
        "## Resultados"
      ]
    },
    {
      "cell_type": "code",
      "metadata": {
        "id": "tB2d-NNfWPTi",
        "colab": {
          "base_uri": "https://localhost:8080/"
        },
        "outputId": "caac4bea-6f10-48ed-f336-debc6cf19040"
      },
      "source": [
        "# Melhor solução\n",
        "print(\"Melhor Indivíduo:\")\n",
        "print(hof[0])\n",
        "\n",
        "# Melhor resultado da função objetivo\n",
        "print(\"Melhor Resultado da Função Objetivo:\")\n",
        "DistanciaCidades(hof[0])"
      ],
      "execution_count": null,
      "outputs": [
        {
          "output_type": "stream",
          "text": [
            "Melhor Indivíduo:\n",
            "[17, 14, 8, 9, 7, 3, 2, 4, 19, 6, 5, 18, 1, 10, 11, 13, 12, 15, 16, 0]\n",
            "Melhor Resultado da Função Objetivo:\n"
          ],
          "name": "stdout"
        },
        {
          "output_type": "execute_result",
          "data": {
            "text/plain": [
              "(0.23768360323780074,)"
            ]
          },
          "metadata": {
            "tags": []
          },
          "execution_count": 95
        }
      ]
    },
    {
      "cell_type": "code",
      "metadata": {
        "id": "3-rdpbtesXWp",
        "colab": {
          "base_uri": "https://localhost:8080/",
          "height": 265
        },
        "outputId": "6d7a0556-16a1-4109-9082-c66184bdf883"
      },
      "source": [
        "import matplotlib.pyplot as plt\n",
        "gen, minVal = log.select(\"gen\", \"min\")\n",
        "plt.plot(gen, minVal)\n",
        "plt.ylabel('Menor valor da função de aptidão')\n",
        "plt.show()"
      ],
      "execution_count": null,
      "outputs": [
        {
          "output_type": "display_data",
          "data": {
            "image/png": "[encoded data removed]",
            "text/plain": [
              "<Figure size 432x288 with 1 Axes>"
            ]
          },
          "metadata": {
            "tags": []
          }
        }
      ]
    },
    {
      "cell_type": "code",
      "metadata": {
        "id": "WY5MKATxQJTH",
        "colab": {
          "base_uri": "https://localhost:8080/",
          "height": 471
        },
        "outputId": "e95ab23f-65b6-49f3-d693-d2a5a01838a8"
      },
      "source": [
        "# após encontrarmos o melhor resultado, imprimiremos o gráfico dela\n",
        "#[17, 14, 8, 9, 7, 3, 2, 4, 19, 6, 5, 18, 1, 10, 11, 13, 12, 15, 16, 0]\n",
        "\n",
        "# sequencia\n",
        "#Santos_Dumont -> RochaMaia -> Inst_Benjamin -> SMS_ChapeuMang -> Paroquia_Rosario -> SMS_JoaBarros -> Hotel_Fairmont -> SMS_Cantagalo ->\n",
        "#SMS_Rodolpho -> SMS_Rinaldo -> Planetario -> SMS_Pad_Miguel -> Jockey -> ABBR -> Bombeiro_Humaita -> SMS_DonaMarta -> Casa_Firjan ->\n",
        "#SMS_DomHelter -> SMS_Manoel -> Museu_Republica -> Santos_Dumont\n",
        "\n",
        "\n",
        "coords = [[-22.90984609532672, -43.16453481901272],\n",
        "         [-22.952991968665895, -43.17672013096345], [-22.952482930053158, -43.17218892680484], [-22.9580946963788, -43.17163770179098],\n",
        "         [-22.961615032735804, -43.16969176144102], [-22.966471836602683, -43.18743054810058], [-22.982878611270564, -43.18999059077894],\n",
        "         [-22.980824138520926, -43.196170400227025], [-22.982878611270564, -43.18999059077894], [-22.993072809149222, -43.24392819385125],\n",
        "         [-22.97453236829065, -43.23068921451901], [-22.976046350999486, -43.222677436582906], [-22.972828312011444, -43.22298287113733],\n",
        "         [-22.961542179910733, -43.21865804016312], [-22.956908837230625, -43.19922559314023], [-22.949163404648825, -43.192959953005364],\n",
        "         [-22.949479553434184, -43.189269233473865], [-22.951060286280853, -43.18635099012338], [-22.9252634072209, -43.17883808757883],\n",
        "         [-22.92558945200113, -43.17631717131938], [-22.90984609532672, -43.16453481901272]]\n",
        "\n",
        "\n",
        "# vizualição do mapa com pontos e rotas\n",
        "folium.PolyLine(coords,\n",
        "                color='red',\n",
        "                weight=5,\n",
        "                opacity=0.3).add_to(m)\n",
        "m\n"
      ],
      "execution_count": null,
      "outputs": [
        {
          "output_type": "execute_result",
          "data": {
            "text/html": [
              "<iframe src=\"about:blank\" width=\"750\" height=\"450\"style=\"border:none !important;\" data-html=%3C%21DOCTYPE%20html%3E%0A%3Chead%3E%20%20%20%20%0A%20%20%20%20%3Cmeta%20http-equiv%3D%22content-type%22%20content%3D%22text/html%3B%20charset%3DUTF-8%22%20/%3E%0A%20%20%20%20%3Cscript%3EL_PREFER_CANVAS%3Dfalse%3B%20L_NO_TOUCH%3Dfalse%3B%20L_DISABLE_3D%3Dfalse%3B%3C/script%3E%0A%20%20%20%20%3Cscript%20src%3D%22https%3A//cdn.jsdelivr.net/npm/leaflet%401.4.0/dist/leaflet.js%22%3E%3C/script%3E%0A%20%20%20%20%3Cscript%20src%3D%22https%3A//code.jquery.com/jquery-1.12.4.min.js%22%3E%3C/script%3E%0A%20%20%20%20%3Cscript%20src%3D%22https%3A//maxcdn.bootstrapcdn.com/bootstrap/3.2.0/js/bootstrap.min.js%22%3E%3C/script%3E%0A%20%20%20%20%3Cscript%20src%3D%22https%3A//cdnjs.cloudflare.com/ajax/libs/Leaflet.awesome-markers/2.0.2/leaflet.awesome-markers.js%22%3E%3C/script%3E%0A%20%20%20%20%3Clink%20rel%3D%22stylesheet%22%20href%3D%22https%3A//cdn.jsdelivr.net/npm/leaflet%401.4.0/dist/leaflet.css%22/%3E%0A%20%20%20%20%3Clink%20rel%3D%22stylesheet%22%20href%3D%22https%3A//maxcdn.bootstrapcdn.com/bootstrap/3.2.0/css/bootstrap.min.css%22/%3E%0A%20%20%20%20%3Clink%20rel%3D%22stylesheet%22%20href%3D%22https%3A//maxcdn.bootstrapcdn.com/bootstrap/3.2.0/css/bootstrap-theme.min.css%22/%3E%0A%20%20%20%20%3Clink%20rel%3D%22stylesheet%22%20href%3D%22https%3A//maxcdn.bootstrapcdn.com/font-awesome/4.6.3/css/font-awesome.min.css%22/%3E%0A%20%20%20%20%3Clink%20rel%3D%22stylesheet%22%20href%3D%22https%3A//cdnjs.cloudflare.com/ajax/libs/Leaflet.awesome-markers/2.0.2/leaflet.awesome-markers.css%22/%3E%0A%20%20%20%20%3Clink%20rel%3D%22stylesheet%22%20href%3D%22https%3A//rawcdn.githack.com/python-visualization/folium/master/folium/templates/leaflet.awesome.rotate.css%22/%3E%0A%20%20%20%20%3Cstyle%3Ehtml%2C%20body%20%7Bwidth%3A%20100%25%3Bheight%3A%20100%25%3Bmargin%3A%200%3Bpadding%3A%200%3B%7D%3C/style%3E%0A%20%20%20%20%3Cstyle%3E%23map%20%7Bposition%3Aabsolute%3Btop%3A0%3Bbottom%3A0%3Bright%3A0%3Bleft%3A0%3B%7D%3C/style%3E%0A%20%20%20%20%0A%20%20%20%20%3Cmeta%20name%3D%22viewport%22%20content%3D%22width%3Ddevice-width%2C%0A%20%20%20%20%20%20%20%20initial-scale%3D1.0%2C%20maximum-scale%3D1.0%2C%20user-scalable%3Dno%22%20/%3E%0A%20%20%20%20%3Cstyle%3E%23map_bc409e4ab39546f9aa70f02923a75071%20%7B%0A%20%20%20%20%20%20%20%20position%3A%20relative%3B%0A%20%20%20%20%20%20%20%20width%3A%20750.0px%3B%0A%20%20%20%20%20%20%20%20height%3A%20450.0px%3B%0A%20%20%20%20%20%20%20%20left%3A%200.0%25%3B%0A%20%20%20%20%20%20%20%20top%3A%200.0%25%3B%0A%20%20%20%20%20%20%20%20%7D%0A%20%20%20%20%3C/style%3E%0A%3C/head%3E%0A%3Cbody%3E%20%20%20%20%0A%20%20%20%20%0A%20%20%20%20%3Cdiv%20class%3D%22folium-map%22%20id%3D%22map_bc409e4ab39546f9aa70f02923a75071%22%20%3E%3C/div%3E%0A%3C/body%3E%0A%3Cscript%3E%20%20%20%20%0A%20%20%20%20%0A%20%20%20%20%0A%20%20%20%20%20%20%20%20var%20bounds%20%3D%20null%3B%0A%20%20%20%20%0A%0A%20%20%20%20var%20map_bc409e4ab39546f9aa70f02923a75071%20%3D%20L.map%28%0A%20%20%20%20%20%20%20%20%27map_bc409e4ab39546f9aa70f02923a75071%27%2C%20%7B%0A%20%20%20%20%20%20%20%20center%3A%20%5B-22.95710445596429%2C%20-43.18545729573689%5D%2C%0A%20%20%20%20%20%20%20%20zoom%3A%2013%2C%0A%20%20%20%20%20%20%20%20maxBounds%3A%20bounds%2C%0A%20%20%20%20%20%20%20%20layers%3A%20%5B%5D%2C%0A%20%20%20%20%20%20%20%20worldCopyJump%3A%20false%2C%0A%20%20%20%20%20%20%20%20crs%3A%20L.CRS.EPSG3857%2C%0A%20%20%20%20%20%20%20%20zoomControl%3A%20true%2C%0A%20%20%20%20%20%20%20%20%7D%29%3B%0A%0A%0A%20%20%20%20%0A%20%20%20%20var%20tile_layer_ad339bea20cf423398ff68628fb97a14%20%3D%20L.tileLayer%28%0A%20%20%20%20%20%20%20%20%27https%3A//%7Bs%7D.tile.openstreetmap.org/%7Bz%7D/%7Bx%7D/%7By%7D.png%27%2C%0A%20%20%20%20%20%20%20%20%7B%0A%20%20%20%20%20%20%20%20%22attribution%22%3A%20null%2C%0A%20%20%20%20%20%20%20%20%22detectRetina%22%3A%20false%2C%0A%20%20%20%20%20%20%20%20%22maxNativeZoom%22%3A%2015%2C%0A%20%20%20%20%20%20%20%20%22maxZoom%22%3A%2015%2C%0A%20%20%20%20%20%20%20%20%22minZoom%22%3A%208%2C%0A%20%20%20%20%20%20%20%20%22noWrap%22%3A%20false%2C%0A%20%20%20%20%20%20%20%20%22opacity%22%3A%201%2C%0A%20%20%20%20%20%20%20%20%22subdomains%22%3A%20%22abc%22%2C%0A%20%20%20%20%20%20%20%20%22tms%22%3A%20false%0A%7D%29.addTo%28map_bc409e4ab39546f9aa70f02923a75071%29%3B%0A%20%20%20%20%0A%20%20%20%20%20%20%20%20var%20marker_b8d137e9b7424f3eb6ce95d3ceb37b36%20%3D%20L.marker%28%0A%20%20%20%20%20%20%20%20%20%20%20%20%5B-22.90984609532672%2C%20-43.16453481901272%5D%2C%0A%20%20%20%20%20%20%20%20%20%20%20%20%7B%0A%20%20%20%20%20%20%20%20%20%20%20%20%20%20%20%20icon%3A%20new%20L.Icon.Default%28%29%2C%0A%20%20%20%20%20%20%20%20%20%20%20%20%20%20%20%20%7D%0A%20%20%20%20%20%20%20%20%20%20%20%20%29.addTo%28map_bc409e4ab39546f9aa70f02923a75071%29%3B%0A%20%20%20%20%20%20%20%20%0A%20%20%20%20%0A%20%20%20%20%20%20%20%20%20%20%20%20var%20popup_4b25a042a5ee473f9951297073cd92f3%20%3D%20L.popup%28%7BmaxWidth%3A%20%27100%25%27%0A%20%20%20%20%20%20%20%20%20%20%20%20%0A%20%20%20%20%20%20%20%20%20%20%20%20%7D%29%3B%0A%0A%20%20%20%20%20%20%20%20%20%20%20%20%0A%20%20%20%20%20%20%20%20%20%20%20%20%20%20%20%20var%20html_89e4248146334da19ba86f62d2c77bd7%20%3D%20%24%28%60%3Cdiv%20id%3D%22html_89e4248146334da19ba86f62d2c77bd7%22%20style%3D%22width%3A%20100.0%25%3B%20height%3A%20100.0%25%3B%22%3ESantos_Dumont%3C/div%3E%60%29%5B0%5D%3B%0A%20%20%20%20%20%20%20%20%20%20%20%20%20%20%20%20popup_4b25a042a5ee473f9951297073cd92f3.setContent%28html_89e4248146334da19ba86f62d2c77bd7%29%3B%0A%20%20%20%20%20%20%20%20%20%20%20%20%0A%0A%20%20%20%20%20%20%20%20%20%20%20%20marker_b8d137e9b7424f3eb6ce95d3ceb37b36.bindPopup%28popup_4b25a042a5ee473f9951297073cd92f3%29%0A%20%20%20%20%20%20%20%20%20%20%20%20%3B%0A%0A%20%20%20%20%20%20%20%20%20%20%20%20%0A%20%20%20%20%20%20%20%20%0A%20%20%20%20%0A%20%20%20%20%20%20%20%20marker_b8d137e9b7424f3eb6ce95d3ceb37b36.bindTooltip%28%0A%20%20%20%20%20%20%20%20%20%20%20%20%60%3Cdiv%3E%60%0A%20%20%20%20%20%20%20%20%20%20%20%20%2B%20%60Click%20here%20to%20see%20Popup%60%20%2B%20%60%3C/div%3E%60%2C%0A%20%20%20%20%20%20%20%20%20%20%20%20%7B%22sticky%22%3A%20true%7D%0A%20%20%20%20%20%20%20%20%29%3B%0A%20%20%20%20%20%20%20%20%0A%20%20%20%20%0A%20%20%20%20%20%20%20%20var%20marker_b79c601f3e9d46a5be0f7e0796bb26d4%20%3D%20L.marker%28%0A%20%20%20%20%20%20%20%20%20%20%20%20%5B-22.961542179910733%2C%20-43.21865804016312%5D%2C%0A%20%20%20%20%20%20%20%20%20%20%20%20%7B%0A%20%20%20%20%20%20%20%20%20%20%20%20%20%20%20%20icon%3A%20new%20L.Icon.Default%28%29%2C%0A%20%20%20%20%20%20%20%20%20%20%20%20%20%20%20%20%7D%0A%20%20%20%20%20%20%20%20%20%20%20%20%29.addTo%28map_bc409e4ab39546f9aa70f02923a75071%29%3B%0A%20%20%20%20%20%20%20%20%0A%20%20%20%20%0A%20%20%20%20%20%20%20%20%20%20%20%20var%20popup_6f413ce741b74fe08d30fba3a94c2192%20%3D%20L.popup%28%7BmaxWidth%3A%20%27100%25%27%0A%20%20%20%20%20%20%20%20%20%20%20%20%0A%20%20%20%20%20%20%20%20%20%20%20%20%7D%29%3B%0A%0A%20%20%20%20%20%20%20%20%20%20%20%20%0A%20%20%20%20%20%20%20%20%20%20%20%20%20%20%20%20var%20html_9cada41bccfa4dec80f9123abfccd38b%20%3D%20%24%28%60%3Cdiv%20id%3D%22html_9cada41bccfa4dec80f9123abfccd38b%22%20style%3D%22width%3A%20100.0%25%3B%20height%3A%20100.0%25%3B%22%3EABBR%3C/div%3E%60%29%5B0%5D%3B%0A%20%20%20%20%20%20%20%20%20%20%20%20%20%20%20%20popup_6f413ce741b74fe08d30fba3a94c2192.setContent%28html_9cada41bccfa4dec80f9123abfccd38b%29%3B%0A%20%20%20%20%20%20%20%20%20%20%20%20%0A%0A%20%20%20%20%20%20%20%20%20%20%20%20marker_b79c601f3e9d46a5be0f7e0796bb26d4.bindPopup%28popup_6f413ce741b74fe08d30fba3a94c2192%29%0A%20%20%20%20%20%20%20%20%20%20%20%20%3B%0A%0A%20%20%20%20%20%20%20%20%20%20%20%20%0A%20%20%20%20%20%20%20%20%0A%20%20%20%20%0A%20%20%20%20%20%20%20%20marker_b79c601f3e9d46a5be0f7e0796bb26d4.bindTooltip%28%0A%20%20%20%20%20%20%20%20%20%20%20%20%60%3Cdiv%3E%60%0A%20%20%20%20%20%20%20%20%20%20%20%20%2B%20%60Click%20here%20to%20see%20Popup%60%20%2B%20%60%3C/div%3E%60%2C%0A%20%20%20%20%20%20%20%20%20%20%20%20%7B%22sticky%22%3A%20true%7D%0A%20%20%20%20%20%20%20%20%29%3B%0A%20%20%20%20%20%20%20%20%0A%20%20%20%20%0A%20%20%20%20%20%20%20%20var%20marker_1e7d8ddd3c8d45a190a6be595a88ce32%20%3D%20L.marker%28%0A%20%20%20%20%20%20%20%20%20%20%20%20%5B-22.980824138520926%2C%20-43.196170400227025%5D%2C%0A%20%20%20%20%20%20%20%20%20%20%20%20%7B%0A%20%20%20%20%20%20%20%20%20%20%20%20%20%20%20%20icon%3A%20new%20L.Icon.Default%28%29%2C%0A%20%20%20%20%20%20%20%20%20%20%20%20%20%20%20%20%7D%0A%20%20%20%20%20%20%20%20%20%20%20%20%29.addTo%28map_bc409e4ab39546f9aa70f02923a75071%29%3B%0A%20%20%20%20%20%20%20%20%0A%20%20%20%20%0A%20%20%20%20%20%20%20%20%20%20%20%20var%20popup_24f4d2a1c1064ef498022e645584cd4d%20%3D%20L.popup%28%7BmaxWidth%3A%20%27100%25%27%0A%20%20%20%20%20%20%20%20%20%20%20%20%0A%20%20%20%20%20%20%20%20%20%20%20%20%7D%29%3B%0A%0A%20%20%20%20%20%20%20%20%20%20%20%20%0A%20%20%20%20%20%20%20%20%20%20%20%20%20%20%20%20var%20html_07cbb556d7fa4235b6b171952013fb4a%20%3D%20%24%28%60%3Cdiv%20id%3D%22html_07cbb556d7fa4235b6b171952013fb4a%22%20style%3D%22width%3A%20100.0%25%3B%20height%3A%20100.0%25%3B%22%3ESMS_Cantagalo%3C/div%3E%60%29%5B0%5D%3B%0A%20%20%20%20%20%20%20%20%20%20%20%20%20%20%20%20popup_24f4d2a1c1064ef498022e645584cd4d.setContent%28html_07cbb556d7fa4235b6b171952013fb4a%29%3B%0A%20%20%20%20%20%20%20%20%20%20%20%20%0A%0A%20%20%20%20%20%20%20%20%20%20%20%20marker_1e7d8ddd3c8d45a190a6be595a88ce32.bindPopup%28popup_24f4d2a1c1064ef498022e645584cd4d%29%0A%20%20%20%20%20%20%20%20%20%20%20%20%3B%0A%0A%20%20%20%20%20%20%20%20%20%20%20%20%0A%20%20%20%20%20%20%20%20%0A%20%20%20%20%0A%20%20%20%20%20%20%20%20marker_1e7d8ddd3c8d45a190a6be595a88ce32.bindTooltip%28%0A%20%20%20%20%20%20%20%20%20%20%20%20%60%3Cdiv%3E%60%0A%20%20%20%20%20%20%20%20%20%20%20%20%2B%20%60Click%20here%20to%20see%20Popup%60%20%2B%20%60%3C/div%3E%60%2C%0A%20%20%20%20%20%20%20%20%20%20%20%20%7B%22sticky%22%3A%20true%7D%0A%20%20%20%20%20%20%20%20%29%3B%0A%20%20%20%20%20%20%20%20%0A%20%20%20%20%0A%20%20%20%20%20%20%20%20var%20marker_65ce16234f934dc39c58cc9d960849d4%20%3D%20L.marker%28%0A%20%20%20%20%20%20%20%20%20%20%20%20%5B-22.982878611270564%2C%20-43.18999059077894%5D%2C%0A%20%20%20%20%20%20%20%20%20%20%20%20%7B%0A%20%20%20%20%20%20%20%20%20%20%20%20%20%20%20%20icon%3A%20new%20L.Icon.Default%28%29%2C%0A%20%20%20%20%20%20%20%20%20%20%20%20%20%20%20%20%7D%0A%20%20%20%20%20%20%20%20%20%20%20%20%29.addTo%28map_bc409e4ab39546f9aa70f02923a75071%29%3B%0A%20%20%20%20%20%20%20%20%0A%20%20%20%20%0A%20%20%20%20%20%20%20%20%20%20%20%20var%20popup_b769e4ed9c334e7ba93e942b4bc5ad16%20%3D%20L.popup%28%7BmaxWidth%3A%20%27100%25%27%0A%20%20%20%20%20%20%20%20%20%20%20%20%0A%20%20%20%20%20%20%20%20%20%20%20%20%7D%29%3B%0A%0A%20%20%20%20%20%20%20%20%20%20%20%20%0A%20%20%20%20%20%20%20%20%20%20%20%20%20%20%20%20var%20html_ad0464335c174855a9eac7f226336a3f%20%3D%20%24%28%60%3Cdiv%20id%3D%22html_ad0464335c174855a9eac7f226336a3f%22%20style%3D%22width%3A%20100.0%25%3B%20height%3A%20100.0%25%3B%22%3EHotel_Fairmont%3C/div%3E%60%29%5B0%5D%3B%0A%20%20%20%20%20%20%20%20%20%20%20%20%20%20%20%20popup_b769e4ed9c334e7ba93e942b4bc5ad16.setContent%28html_ad0464335c174855a9eac7f226336a3f%29%3B%0A%20%20%20%20%20%20%20%20%20%20%20%20%0A%0A%20%20%20%20%20%20%20%20%20%20%20%20marker_65ce16234f934dc39c58cc9d960849d4.bindPopup%28popup_b769e4ed9c334e7ba93e942b4bc5ad16%29%0A%20%20%20%20%20%20%20%20%20%20%20%20%3B%0A%0A%20%20%20%20%20%20%20%20%20%20%20%20%0A%20%20%20%20%20%20%20%20%0A%20%20%20%20%0A%20%20%20%20%20%20%20%20marker_65ce16234f934dc39c58cc9d960849d4.bindTooltip%28%0A%20%20%20%20%20%20%20%20%20%20%20%20%60%3Cdiv%3E%60%0A%20%20%20%20%20%20%20%20%20%20%20%20%2B%20%60Click%20here%20to%20see%20Popup%60%20%2B%20%60%3C/div%3E%60%2C%0A%20%20%20%20%20%20%20%20%20%20%20%20%7B%22sticky%22%3A%20true%7D%0A%20%20%20%20%20%20%20%20%29%3B%0A%20%20%20%20%20%20%20%20%0A%20%20%20%20%0A%20%20%20%20%20%20%20%20var%20marker_7176d4af4a644ae4ada8f4fe4f71fc9b%20%3D%20L.marker%28%0A%20%20%20%20%20%20%20%20%20%20%20%20%5B-22.993056213757274%2C%20-43.234514089931956%5D%2C%0A%20%20%20%20%20%20%20%20%20%20%20%20%7B%0A%20%20%20%20%20%20%20%20%20%20%20%20%20%20%20%20icon%3A%20new%20L.Icon.Default%28%29%2C%0A%20%20%20%20%20%20%20%20%20%20%20%20%20%20%20%20%7D%0A%20%20%20%20%20%20%20%20%20%20%20%20%29.addTo%28map_bc409e4ab39546f9aa70f02923a75071%29%3B%0A%20%20%20%20%20%20%20%20%0A%20%20%20%20%0A%20%20%20%20%20%20%20%20%20%20%20%20var%20popup_bc896c00966b4295846bffcf08507da2%20%3D%20L.popup%28%7BmaxWidth%3A%20%27100%25%27%0A%20%20%20%20%20%20%20%20%20%20%20%20%0A%20%20%20%20%20%20%20%20%20%20%20%20%7D%29%3B%0A%0A%20%20%20%20%20%20%20%20%20%20%20%20%0A%20%20%20%20%20%20%20%20%20%20%20%20%20%20%20%20var%20html_875e62cd7dc14e72a5abcdff4af1efe4%20%3D%20%24%28%60%3Cdiv%20id%3D%22html_875e62cd7dc14e72a5abcdff4af1efe4%22%20style%3D%22width%3A%20100.0%25%3B%20height%3A%20100.0%25%3B%22%3ESMS_Rodolpho%3C/div%3E%60%29%5B0%5D%3B%0A%20%20%20%20%20%20%20%20%20%20%20%20%20%20%20%20popup_bc896c00966b4295846bffcf08507da2.setContent%28html_875e62cd7dc14e72a5abcdff4af1efe4%29%3B%0A%20%20%20%20%20%20%20%20%20%20%20%20%0A%0A%20%20%20%20%20%20%20%20%20%20%20%20marker_7176d4af4a644ae4ada8f4fe4f71fc9b.bindPopup%28popup_bc896c00966b4295846bffcf08507da2%29%0A%20%20%20%20%20%20%20%20%20%20%20%20%3B%0A%0A%20%20%20%20%20%20%20%20%20%20%20%20%0A%20%20%20%20%20%20%20%20%0A%20%20%20%20%0A%20%20%20%20%20%20%20%20marker_7176d4af4a644ae4ada8f4fe4f71fc9b.bindTooltip%28%0A%20%20%20%20%20%20%20%20%20%20%20%20%60%3Cdiv%3E%60%0A%20%20%20%20%20%20%20%20%20%20%20%20%2B%20%60Click%20here%20to%20see%20Popup%60%20%2B%20%60%3C/div%3E%60%2C%0A%20%20%20%20%20%20%20%20%20%20%20%20%7B%22sticky%22%3A%20true%7D%0A%20%20%20%20%20%20%20%20%29%3B%0A%20%20%20%20%20%20%20%20%0A%20%20%20%20%0A%20%20%20%20%20%20%20%20var%20marker_38b498f5f3dd42e69a811a3368d1e122%20%3D%20L.marker%28%0A%20%20%20%20%20%20%20%20%20%20%20%20%5B-22.976046350999486%2C%20-43.222677436582906%5D%2C%0A%20%20%20%20%20%20%20%20%20%20%20%20%7B%0A%20%20%20%20%20%20%20%20%20%20%20%20%20%20%20%20icon%3A%20new%20L.Icon.Default%28%29%2C%0A%20%20%20%20%20%20%20%20%20%20%20%20%20%20%20%20%7D%0A%20%20%20%20%20%20%20%20%20%20%20%20%29.addTo%28map_bc409e4ab39546f9aa70f02923a75071%29%3B%0A%20%20%20%20%20%20%20%20%0A%20%20%20%20%0A%20%20%20%20%20%20%20%20%20%20%20%20var%20popup_0ad27341427a435f9e37357ca3ef2451%20%3D%20L.popup%28%7BmaxWidth%3A%20%27100%25%27%0A%20%20%20%20%20%20%20%20%20%20%20%20%0A%20%20%20%20%20%20%20%20%20%20%20%20%7D%29%3B%0A%0A%20%20%20%20%20%20%20%20%20%20%20%20%0A%20%20%20%20%20%20%20%20%20%20%20%20%20%20%20%20var%20html_f7e8de0466ff47ff927507f1303ab202%20%3D%20%24%28%60%3Cdiv%20id%3D%22html_f7e8de0466ff47ff927507f1303ab202%22%20style%3D%22width%3A%20100.0%25%3B%20height%3A%20100.0%25%3B%22%3ESMS_Pad_Miguel%3C/div%3E%60%29%5B0%5D%3B%0A%20%20%20%20%20%20%20%20%20%20%20%20%20%20%20%20popup_0ad27341427a435f9e37357ca3ef2451.setContent%28html_f7e8de0466ff47ff927507f1303ab202%29%3B%0A%20%20%20%20%20%20%20%20%20%20%20%20%0A%0A%20%20%20%20%20%20%20%20%20%20%20%20marker_38b498f5f3dd42e69a811a3368d1e122.bindPopup%28popup_0ad27341427a435f9e37357ca3ef2451%29%0A%20%20%20%20%20%20%20%20%20%20%20%20%3B%0A%0A%20%20%20%20%20%20%20%20%20%20%20%20%0A%20%20%20%20%20%20%20%20%0A%20%20%20%20%0A%20%20%20%20%20%20%20%20marker_38b498f5f3dd42e69a811a3368d1e122.bindTooltip%28%0A%20%20%20%20%20%20%20%20%20%20%20%20%60%3Cdiv%3E%60%0A%20%20%20%20%20%20%20%20%20%20%20%20%2B%20%60Click%20here%20to%20see%20Popup%60%20%2B%20%60%3C/div%3E%60%2C%0A%20%20%20%20%20%20%20%20%20%20%20%20%7B%22sticky%22%3A%20true%7D%0A%20%20%20%20%20%20%20%20%29%3B%0A%20%20%20%20%20%20%20%20%0A%20%20%20%20%0A%20%20%20%20%20%20%20%20var%20marker_3870bda93f8e41899e09a07a93d94ae8%20%3D%20L.marker%28%0A%20%20%20%20%20%20%20%20%20%20%20%20%5B-22.97453236829065%2C%20-43.23068921451901%5D%2C%0A%20%20%20%20%20%20%20%20%20%20%20%20%7B%0A%20%20%20%20%20%20%20%20%20%20%20%20%20%20%20%20icon%3A%20new%20L.Icon.Default%28%29%2C%0A%20%20%20%20%20%20%20%20%20%20%20%20%20%20%20%20%7D%0A%20%20%20%20%20%20%20%20%20%20%20%20%29.addTo%28map_bc409e4ab39546f9aa70f02923a75071%29%3B%0A%20%20%20%20%20%20%20%20%0A%20%20%20%20%0A%20%20%20%20%20%20%20%20%20%20%20%20var%20popup_54a233c384a64404b96f785d590f4ec6%20%3D%20L.popup%28%7BmaxWidth%3A%20%27100%25%27%0A%20%20%20%20%20%20%20%20%20%20%20%20%0A%20%20%20%20%20%20%20%20%20%20%20%20%7D%29%3B%0A%0A%20%20%20%20%20%20%20%20%20%20%20%20%0A%20%20%20%20%20%20%20%20%20%20%20%20%20%20%20%20var%20html_c942ad3f84984a658522e4cfcc4f1751%20%3D%20%24%28%60%3Cdiv%20id%3D%22html_c942ad3f84984a658522e4cfcc4f1751%22%20style%3D%22width%3A%20100.0%25%3B%20height%3A%20100.0%25%3B%22%3EPlanetario%3C/div%3E%60%29%5B0%5D%3B%0A%20%20%20%20%20%20%20%20%20%20%20%20%20%20%20%20popup_54a233c384a64404b96f785d590f4ec6.setContent%28html_c942ad3f84984a658522e4cfcc4f1751%29%3B%0A%20%20%20%20%20%20%20%20%20%20%20%20%0A%0A%20%20%20%20%20%20%20%20%20%20%20%20marker_3870bda93f8e41899e09a07a93d94ae8.bindPopup%28popup_54a233c384a64404b96f785d590f4ec6%29%0A%20%20%20%20%20%20%20%20%20%20%20%20%3B%0A%0A%20%20%20%20%20%20%20%20%20%20%20%20%0A%20%20%20%20%20%20%20%20%0A%20%20%20%20%0A%20%20%20%20%20%20%20%20marker_3870bda93f8e41899e09a07a93d94ae8.bindTooltip%28%0A%20%20%20%20%20%20%20%20%20%20%20%20%60%3Cdiv%3E%60%0A%20%20%20%20%20%20%20%20%20%20%20%20%2B%20%60Click%20here%20to%20see%20Popup%60%20%2B%20%60%3C/div%3E%60%2C%0A%20%20%20%20%20%20%20%20%20%20%20%20%7B%22sticky%22%3A%20true%7D%0A%20%20%20%20%20%20%20%20%29%3B%0A%20%20%20%20%20%20%20%20%0A%20%20%20%20%0A%20%20%20%20%20%20%20%20var%20marker_fe88b0fc59394f7cb7f7ae387b4561a3%20%3D%20L.marker%28%0A%20%20%20%20%20%20%20%20%20%20%20%20%5B-22.966471836602683%2C%20-43.18743054810058%5D%2C%0A%20%20%20%20%20%20%20%20%20%20%20%20%7B%0A%20%20%20%20%20%20%20%20%20%20%20%20%20%20%20%20icon%3A%20new%20L.Icon.Default%28%29%2C%0A%20%20%20%20%20%20%20%20%20%20%20%20%20%20%20%20%7D%0A%20%20%20%20%20%20%20%20%20%20%20%20%29.addTo%28map_bc409e4ab39546f9aa70f02923a75071%29%3B%0A%20%20%20%20%20%20%20%20%0A%20%20%20%20%0A%20%20%20%20%20%20%20%20%20%20%20%20var%20popup_b985635058f547e384b446ad32f3e141%20%3D%20L.popup%28%7BmaxWidth%3A%20%27100%25%27%0A%20%20%20%20%20%20%20%20%20%20%20%20%0A%20%20%20%20%20%20%20%20%20%20%20%20%7D%29%3B%0A%0A%20%20%20%20%20%20%20%20%20%20%20%20%0A%20%20%20%20%20%20%20%20%20%20%20%20%20%20%20%20var%20html_b1bd6658389545a38731aa38ce3cd0a6%20%3D%20%24%28%60%3Cdiv%20id%3D%22html_b1bd6658389545a38731aa38ce3cd0a6%22%20style%3D%22width%3A%20100.0%25%3B%20height%3A%20100.0%25%3B%22%3ESMS_JoaBarros%3C/div%3E%60%29%5B0%5D%3B%0A%20%20%20%20%20%20%20%20%20%20%20%20%20%20%20%20popup_b985635058f547e384b446ad32f3e141.setContent%28html_b1bd6658389545a38731aa38ce3cd0a6%29%3B%0A%20%20%20%20%20%20%20%20%20%20%20%20%0A%0A%20%20%20%20%20%20%20%20%20%20%20%20marker_fe88b0fc59394f7cb7f7ae387b4561a3.bindPopup%28popup_b985635058f547e384b446ad32f3e141%29%0A%20%20%20%20%20%20%20%20%20%20%20%20%3B%0A%0A%20%20%20%20%20%20%20%20%20%20%20%20%0A%20%20%20%20%20%20%20%20%0A%20%20%20%20%0A%20%20%20%20%20%20%20%20marker_fe88b0fc59394f7cb7f7ae387b4561a3.bindTooltip%28%0A%20%20%20%20%20%20%20%20%20%20%20%20%60%3Cdiv%3E%60%0A%20%20%20%20%20%20%20%20%20%20%20%20%2B%20%60Click%20here%20to%20see%20Popup%60%20%2B%20%60%3C/div%3E%60%2C%0A%20%20%20%20%20%20%20%20%20%20%20%20%7B%22sticky%22%3A%20true%7D%0A%20%20%20%20%20%20%20%20%29%3B%0A%20%20%20%20%20%20%20%20%0A%20%20%20%20%0A%20%20%20%20%20%20%20%20var%20marker_6fe932a9919941cabcb34f5f8cda640e%20%3D%20L.marker%28%0A%20%20%20%20%20%20%20%20%20%20%20%20%5B-22.9580946963788%2C%20-43.17163770179098%5D%2C%0A%20%20%20%20%20%20%20%20%20%20%20%20%7B%0A%20%20%20%20%20%20%20%20%20%20%20%20%20%20%20%20icon%3A%20new%20L.Icon.Default%28%29%2C%0A%20%20%20%20%20%20%20%20%20%20%20%20%20%20%20%20%7D%0A%20%20%20%20%20%20%20%20%20%20%20%20%29.addTo%28map_bc409e4ab39546f9aa70f02923a75071%29%3B%0A%20%20%20%20%20%20%20%20%0A%20%20%20%20%0A%20%20%20%20%20%20%20%20%20%20%20%20var%20popup_a9809c9278e44a05bf6c5130aa8c16ac%20%3D%20L.popup%28%7BmaxWidth%3A%20%27100%25%27%0A%20%20%20%20%20%20%20%20%20%20%20%20%0A%20%20%20%20%20%20%20%20%20%20%20%20%7D%29%3B%0A%0A%20%20%20%20%20%20%20%20%20%20%20%20%0A%20%20%20%20%20%20%20%20%20%20%20%20%20%20%20%20var%20html_025621a1d72e4122ad6f687e09436374%20%3D%20%24%28%60%3Cdiv%20id%3D%22html_025621a1d72e4122ad6f687e09436374%22%20style%3D%22width%3A%20100.0%25%3B%20height%3A%20100.0%25%3B%22%3ESMS_ChapeuMang%3C/div%3E%60%29%5B0%5D%3B%0A%20%20%20%20%20%20%20%20%20%20%20%20%20%20%20%20popup_a9809c9278e44a05bf6c5130aa8c16ac.setContent%28html_025621a1d72e4122ad6f687e09436374%29%3B%0A%20%20%20%20%20%20%20%20%20%20%20%20%0A%0A%20%20%20%20%20%20%20%20%20%20%20%20marker_6fe932a9919941cabcb34f5f8cda640e.bindPopup%28popup_a9809c9278e44a05bf6c5130aa8c16ac%29%0A%20%20%20%20%20%20%20%20%20%20%20%20%3B%0A%0A%20%20%20%20%20%20%20%20%20%20%20%20%0A%20%20%20%20%20%20%20%20%0A%20%20%20%20%0A%20%20%20%20%20%20%20%20marker_6fe932a9919941cabcb34f5f8cda640e.bindTooltip%28%0A%20%20%20%20%20%20%20%20%20%20%20%20%60%3Cdiv%3E%60%0A%20%20%20%20%20%20%20%20%20%20%20%20%2B%20%60Click%20here%20to%20see%20Popup%60%20%2B%20%60%3C/div%3E%60%2C%0A%20%20%20%20%20%20%20%20%20%20%20%20%7B%22sticky%22%3A%20true%7D%0A%20%20%20%20%20%20%20%20%29%3B%0A%20%20%20%20%20%20%20%20%0A%20%20%20%20%0A%20%20%20%20%20%20%20%20var%20marker_e624a0ab48b742808ed5c83caddd6dda%20%3D%20L.marker%28%0A%20%20%20%20%20%20%20%20%20%20%20%20%5B-22.961615032735804%2C%20-43.16969176144102%5D%2C%0A%20%20%20%20%20%20%20%20%20%20%20%20%7B%0A%20%20%20%20%20%20%20%20%20%20%20%20%20%20%20%20icon%3A%20new%20L.Icon.Default%28%29%2C%0A%20%20%20%20%20%20%20%20%20%20%20%20%20%20%20%20%7D%0A%20%20%20%20%20%20%20%20%20%20%20%20%29.addTo%28map_bc409e4ab39546f9aa70f02923a75071%29%3B%0A%20%20%20%20%20%20%20%20%0A%20%20%20%20%0A%20%20%20%20%20%20%20%20%20%20%20%20var%20popup_5faa30261c6f4976ad49f5f492959ae7%20%3D%20L.popup%28%7BmaxWidth%3A%20%27100%25%27%0A%20%20%20%20%20%20%20%20%20%20%20%20%0A%20%20%20%20%20%20%20%20%20%20%20%20%7D%29%3B%0A%0A%20%20%20%20%20%20%20%20%20%20%20%20%0A%20%20%20%20%20%20%20%20%20%20%20%20%20%20%20%20var%20html_78297b96ccac4588bcba2c0143240c1a%20%3D%20%24%28%60%3Cdiv%20id%3D%22html_78297b96ccac4588bcba2c0143240c1a%22%20style%3D%22width%3A%20100.0%25%3B%20height%3A%20100.0%25%3B%22%3EParoquia_Rosario%3C/div%3E%60%29%5B0%5D%3B%0A%20%20%20%20%20%20%20%20%20%20%20%20%20%20%20%20popup_5faa30261c6f4976ad49f5f492959ae7.setContent%28html_78297b96ccac4588bcba2c0143240c1a%29%3B%0A%20%20%20%20%20%20%20%20%20%20%20%20%0A%0A%20%20%20%20%20%20%20%20%20%20%20%20marker_e624a0ab48b742808ed5c83caddd6dda.bindPopup%28popup_5faa30261c6f4976ad49f5f492959ae7%29%0A%20%20%20%20%20%20%20%20%20%20%20%20%3B%0A%0A%20%20%20%20%20%20%20%20%20%20%20%20%0A%20%20%20%20%20%20%20%20%0A%20%20%20%20%0A%20%20%20%20%20%20%20%20marker_e624a0ab48b742808ed5c83caddd6dda.bindTooltip%28%0A%20%20%20%20%20%20%20%20%20%20%20%20%60%3Cdiv%3E%60%0A%20%20%20%20%20%20%20%20%20%20%20%20%2B%20%60Click%20here%20to%20see%20Popup%60%20%2B%20%60%3C/div%3E%60%2C%0A%20%20%20%20%20%20%20%20%20%20%20%20%7B%22sticky%22%3A%20true%7D%0A%20%20%20%20%20%20%20%20%29%3B%0A%20%20%20%20%20%20%20%20%0A%20%20%20%20%0A%20%20%20%20%20%20%20%20var%20marker_90518d841ff7457e86cb7c45ec4fc0f2%20%3D%20L.marker%28%0A%20%20%20%20%20%20%20%20%20%20%20%20%5B-22.956908837230625%2C%20-43.19922559314023%5D%2C%0A%20%20%20%20%20%20%20%20%20%20%20%20%7B%0A%20%20%20%20%20%20%20%20%20%20%20%20%20%20%20%20icon%3A%20new%20L.Icon.Default%28%29%2C%0A%20%20%20%20%20%20%20%20%20%20%20%20%20%20%20%20%7D%0A%20%20%20%20%20%20%20%20%20%20%20%20%29.addTo%28map_bc409e4ab39546f9aa70f02923a75071%29%3B%0A%20%20%20%20%20%20%20%20%0A%20%20%20%20%0A%20%20%20%20%20%20%20%20%20%20%20%20var%20popup_a1188287b1b446c9b1af3912fd41be87%20%3D%20L.popup%28%7BmaxWidth%3A%20%27100%25%27%0A%20%20%20%20%20%20%20%20%20%20%20%20%0A%20%20%20%20%20%20%20%20%20%20%20%20%7D%29%3B%0A%0A%20%20%20%20%20%20%20%20%20%20%20%20%0A%20%20%20%20%20%20%20%20%20%20%20%20%20%20%20%20var%20html_d4671245f08f462c87f784015a69894f%20%3D%20%24%28%60%3Cdiv%20id%3D%22html_d4671245f08f462c87f784015a69894f%22%20style%3D%22width%3A%20100.0%25%3B%20height%3A%20100.0%25%3B%22%3EBombeiro_Humaita%3C/div%3E%60%29%5B0%5D%3B%0A%20%20%20%20%20%20%20%20%20%20%20%20%20%20%20%20popup_a1188287b1b446c9b1af3912fd41be87.setContent%28html_d4671245f08f462c87f784015a69894f%29%3B%0A%20%20%20%20%20%20%20%20%20%20%20%20%0A%0A%20%20%20%20%20%20%20%20%20%20%20%20marker_90518d841ff7457e86cb7c45ec4fc0f2.bindPopup%28popup_a1188287b1b446c9b1af3912fd41be87%29%0A%20%20%20%20%20%20%20%20%20%20%20%20%3B%0A%0A%20%20%20%20%20%20%20%20%20%20%20%20%0A%20%20%20%20%20%20%20%20%0A%20%20%20%20%0A%20%20%20%20%20%20%20%20marker_90518d841ff7457e86cb7c45ec4fc0f2.bindTooltip%28%0A%20%20%20%20%20%20%20%20%20%20%20%20%60%3Cdiv%3E%60%0A%20%20%20%20%20%20%20%20%20%20%20%20%2B%20%60Click%20here%20to%20see%20Popup%60%20%2B%20%60%3C/div%3E%60%2C%0A%20%20%20%20%20%20%20%20%20%20%20%20%7B%22sticky%22%3A%20true%7D%0A%20%20%20%20%20%20%20%20%29%3B%0A%20%20%20%20%20%20%20%20%0A%20%20%20%20%0A%20%20%20%20%20%20%20%20var%20marker_642d3c54d2b745a0b5714c6939a1aed2%20%3D%20L.marker%28%0A%20%20%20%20%20%20%20%20%20%20%20%20%5B-22.949163404648825%2C%20-43.192959953005364%5D%2C%0A%20%20%20%20%20%20%20%20%20%20%20%20%7B%0A%20%20%20%20%20%20%20%20%20%20%20%20%20%20%20%20icon%3A%20new%20L.Icon.Default%28%29%2C%0A%20%20%20%20%20%20%20%20%20%20%20%20%20%20%20%20%7D%0A%20%20%20%20%20%20%20%20%20%20%20%20%29.addTo%28map_bc409e4ab39546f9aa70f02923a75071%29%3B%0A%20%20%20%20%20%20%20%20%0A%20%20%20%20%0A%20%20%20%20%20%20%20%20%20%20%20%20var%20popup_ac9d779612dd4cffb6b06397a602ba76%20%3D%20L.popup%28%7BmaxWidth%3A%20%27100%25%27%0A%20%20%20%20%20%20%20%20%20%20%20%20%0A%20%20%20%20%20%20%20%20%20%20%20%20%7D%29%3B%0A%0A%20%20%20%20%20%20%20%20%20%20%20%20%0A%20%20%20%20%20%20%20%20%20%20%20%20%20%20%20%20var%20html_f13bbee6c235404e882b48448aded750%20%3D%20%24%28%60%3Cdiv%20id%3D%22html_f13bbee6c235404e882b48448aded750%22%20style%3D%22width%3A%20100.0%25%3B%20height%3A%20100.0%25%3B%22%3ESMS_DonaMarta%3C/div%3E%60%29%5B0%5D%3B%0A%20%20%20%20%20%20%20%20%20%20%20%20%20%20%20%20popup_ac9d779612dd4cffb6b06397a602ba76.setContent%28html_f13bbee6c235404e882b48448aded750%29%3B%0A%20%20%20%20%20%20%20%20%20%20%20%20%0A%0A%20%20%20%20%20%20%20%20%20%20%20%20marker_642d3c54d2b745a0b5714c6939a1aed2.bindPopup%28popup_ac9d779612dd4cffb6b06397a602ba76%29%0A%20%20%20%20%20%20%20%20%20%20%20%20%3B%0A%0A%20%20%20%20%20%20%20%20%20%20%20%20%0A%20%20%20%20%20%20%20%20%0A%20%20%20%20%0A%20%20%20%20%20%20%20%20marker_642d3c54d2b745a0b5714c6939a1aed2.bindTooltip%28%0A%20%20%20%20%20%20%20%20%20%20%20%20%60%3Cdiv%3E%60%0A%20%20%20%20%20%20%20%20%20%20%20%20%2B%20%60Click%20here%20to%20see%20Popup%60%20%2B%20%60%3C/div%3E%60%2C%0A%20%20%20%20%20%20%20%20%20%20%20%20%7B%22sticky%22%3A%20true%7D%0A%20%20%20%20%20%20%20%20%29%3B%0A%20%20%20%20%20%20%20%20%0A%20%20%20%20%0A%20%20%20%20%20%20%20%20var%20marker_60be5b9f8731439caa00c7769b56fb34%20%3D%20L.marker%28%0A%20%20%20%20%20%20%20%20%20%20%20%20%5B-22.951060286280853%2C%20-43.18635099012338%5D%2C%0A%20%20%20%20%20%20%20%20%20%20%20%20%7B%0A%20%20%20%20%20%20%20%20%20%20%20%20%20%20%20%20icon%3A%20new%20L.Icon.Default%28%29%2C%0A%20%20%20%20%20%20%20%20%20%20%20%20%20%20%20%20%7D%0A%20%20%20%20%20%20%20%20%20%20%20%20%29.addTo%28map_bc409e4ab39546f9aa70f02923a75071%29%3B%0A%20%20%20%20%20%20%20%20%0A%20%20%20%20%0A%20%20%20%20%20%20%20%20%20%20%20%20var%20popup_10506c6b6a474370b1073c3ab092b2e0%20%3D%20L.popup%28%7BmaxWidth%3A%20%27100%25%27%0A%20%20%20%20%20%20%20%20%20%20%20%20%0A%20%20%20%20%20%20%20%20%20%20%20%20%7D%29%3B%0A%0A%20%20%20%20%20%20%20%20%20%20%20%20%0A%20%20%20%20%20%20%20%20%20%20%20%20%20%20%20%20var%20html_09fc6960ad53481898941820a255b3af%20%3D%20%24%28%60%3Cdiv%20id%3D%22html_09fc6960ad53481898941820a255b3af%22%20style%3D%22width%3A%20100.0%25%3B%20height%3A%20100.0%25%3B%22%3ESMS_DomHelter%3C/div%3E%60%29%5B0%5D%3B%0A%20%20%20%20%20%20%20%20%20%20%20%20%20%20%20%20popup_10506c6b6a474370b1073c3ab092b2e0.setContent%28html_09fc6960ad53481898941820a255b3af%29%3B%0A%20%20%20%20%20%20%20%20%20%20%20%20%0A%0A%20%20%20%20%20%20%20%20%20%20%20%20marker_60be5b9f8731439caa00c7769b56fb34.bindPopup%28popup_10506c6b6a474370b1073c3ab092b2e0%29%0A%20%20%20%20%20%20%20%20%20%20%20%20%3B%0A%0A%20%20%20%20%20%20%20%20%20%20%20%20%0A%20%20%20%20%20%20%20%20%0A%20%20%20%20%0A%20%20%20%20%20%20%20%20marker_60be5b9f8731439caa00c7769b56fb34.bindTooltip%28%0A%20%20%20%20%20%20%20%20%20%20%20%20%60%3Cdiv%3E%60%0A%20%20%20%20%20%20%20%20%20%20%20%20%2B%20%60Click%20here%20to%20see%20Popup%60%20%2B%20%60%3C/div%3E%60%2C%0A%20%20%20%20%20%20%20%20%20%20%20%20%7B%22sticky%22%3A%20true%7D%0A%20%20%20%20%20%20%20%20%29%3B%0A%20%20%20%20%20%20%20%20%0A%20%20%20%20%0A%20%20%20%20%20%20%20%20var%20marker_c936e5df4a3b4c8f894aca787640254f%20%3D%20L.marker%28%0A%20%20%20%20%20%20%20%20%20%20%20%20%5B-22.949479553434184%2C%20-43.189269233473865%5D%2C%0A%20%20%20%20%20%20%20%20%20%20%20%20%7B%0A%20%20%20%20%20%20%20%20%20%20%20%20%20%20%20%20icon%3A%20new%20L.Icon.Default%28%29%2C%0A%20%20%20%20%20%20%20%20%20%20%20%20%20%20%20%20%7D%0A%20%20%20%20%20%20%20%20%20%20%20%20%29.addTo%28map_bc409e4ab39546f9aa70f02923a75071%29%3B%0A%20%20%20%20%20%20%20%20%0A%20%20%20%20%0A%20%20%20%20%20%20%20%20%20%20%20%20var%20popup_02fc5bbfba454bfcabccd2e0d1264767%20%3D%20L.popup%28%7BmaxWidth%3A%20%27100%25%27%0A%20%20%20%20%20%20%20%20%20%20%20%20%0A%20%20%20%20%20%20%20%20%20%20%20%20%7D%29%3B%0A%0A%20%20%20%20%20%20%20%20%20%20%20%20%0A%20%20%20%20%20%20%20%20%20%20%20%20%20%20%20%20var%20html_701c0fb3168648db8036d99b9555d839%20%3D%20%24%28%60%3Cdiv%20id%3D%22html_701c0fb3168648db8036d99b9555d839%22%20style%3D%22width%3A%20100.0%25%3B%20height%3A%20100.0%25%3B%22%3ECasa_Firjan%3C/div%3E%60%29%5B0%5D%3B%0A%20%20%20%20%20%20%20%20%20%20%20%20%20%20%20%20popup_02fc5bbfba454bfcabccd2e0d1264767.setContent%28html_701c0fb3168648db8036d99b9555d839%29%3B%0A%20%20%20%20%20%20%20%20%20%20%20%20%0A%0A%20%20%20%20%20%20%20%20%20%20%20%20marker_c936e5df4a3b4c8f894aca787640254f.bindPopup%28popup_02fc5bbfba454bfcabccd2e0d1264767%29%0A%20%20%20%20%20%20%20%20%20%20%20%20%3B%0A%0A%20%20%20%20%20%20%20%20%20%20%20%20%0A%20%20%20%20%20%20%20%20%0A%20%20%20%20%0A%20%20%20%20%20%20%20%20marker_c936e5df4a3b4c8f894aca787640254f.bindTooltip%28%0A%20%20%20%20%20%20%20%20%20%20%20%20%60%3Cdiv%3E%60%0A%20%20%20%20%20%20%20%20%20%20%20%20%2B%20%60Click%20here%20to%20see%20Popup%60%20%2B%20%60%3C/div%3E%60%2C%0A%20%20%20%20%20%20%20%20%20%20%20%20%7B%22sticky%22%3A%20true%7D%0A%20%20%20%20%20%20%20%20%29%3B%0A%20%20%20%20%20%20%20%20%0A%20%20%20%20%0A%20%20%20%20%20%20%20%20var%20marker_0e501e4be33b482c984dda18bc657475%20%3D%20L.marker%28%0A%20%20%20%20%20%20%20%20%20%20%20%20%5B-22.952482930053158%2C%20-43.17218892680484%5D%2C%0A%20%20%20%20%20%20%20%20%20%20%20%20%7B%0A%20%20%20%20%20%20%20%20%20%20%20%20%20%20%20%20icon%3A%20new%20L.Icon.Default%28%29%2C%0A%20%20%20%20%20%20%20%20%20%20%20%20%20%20%20%20%7D%0A%20%20%20%20%20%20%20%20%20%20%20%20%29.addTo%28map_bc409e4ab39546f9aa70f02923a75071%29%3B%0A%20%20%20%20%20%20%20%20%0A%20%20%20%20%0A%20%20%20%20%20%20%20%20%20%20%20%20var%20popup_f02a75bbe3f04acbb76962a7b0233327%20%3D%20L.popup%28%7BmaxWidth%3A%20%27100%25%27%0A%20%20%20%20%20%20%20%20%20%20%20%20%0A%20%20%20%20%20%20%20%20%20%20%20%20%7D%29%3B%0A%0A%20%20%20%20%20%20%20%20%20%20%20%20%0A%20%20%20%20%20%20%20%20%20%20%20%20%20%20%20%20var%20html_ad4af3831bde41bd8d56fd4c8aba6ce8%20%3D%20%24%28%60%3Cdiv%20id%3D%22html_ad4af3831bde41bd8d56fd4c8aba6ce8%22%20style%3D%22width%3A%20100.0%25%3B%20height%3A%20100.0%25%3B%22%3EInst_Benjamin%3C/div%3E%60%29%5B0%5D%3B%0A%20%20%20%20%20%20%20%20%20%20%20%20%20%20%20%20popup_f02a75bbe3f04acbb76962a7b0233327.setContent%28html_ad4af3831bde41bd8d56fd4c8aba6ce8%29%3B%0A%20%20%20%20%20%20%20%20%20%20%20%20%0A%0A%20%20%20%20%20%20%20%20%20%20%20%20marker_0e501e4be33b482c984dda18bc657475.bindPopup%28popup_f02a75bbe3f04acbb76962a7b0233327%29%0A%20%20%20%20%20%20%20%20%20%20%20%20%3B%0A%0A%20%20%20%20%20%20%20%20%20%20%20%20%0A%20%20%20%20%20%20%20%20%0A%20%20%20%20%0A%20%20%20%20%20%20%20%20marker_0e501e4be33b482c984dda18bc657475.bindTooltip%28%0A%20%20%20%20%20%20%20%20%20%20%20%20%60%3Cdiv%3E%60%0A%20%20%20%20%20%20%20%20%20%20%20%20%2B%20%60Click%20here%20to%20see%20Popup%60%20%2B%20%60%3C/div%3E%60%2C%0A%20%20%20%20%20%20%20%20%20%20%20%20%7B%22sticky%22%3A%20true%7D%0A%20%20%20%20%20%20%20%20%29%3B%0A%20%20%20%20%20%20%20%20%0A%20%20%20%20%0A%20%20%20%20%20%20%20%20var%20marker_c1f206efd149445b8b2f3f5406fc0f6e%20%3D%20L.marker%28%0A%20%20%20%20%20%20%20%20%20%20%20%20%5B-22.9252634072209%2C%20-43.17883808757883%5D%2C%0A%20%20%20%20%20%20%20%20%20%20%20%20%7B%0A%20%20%20%20%20%20%20%20%20%20%20%20%20%20%20%20icon%3A%20new%20L.Icon.Default%28%29%2C%0A%20%20%20%20%20%20%20%20%20%20%20%20%20%20%20%20%7D%0A%20%20%20%20%20%20%20%20%20%20%20%20%29.addTo%28map_bc409e4ab39546f9aa70f02923a75071%29%3B%0A%20%20%20%20%20%20%20%20%0A%20%20%20%20%0A%20%20%20%20%20%20%20%20%20%20%20%20var%20popup_b3099e5130b647d39461d7881ed3e1fb%20%3D%20L.popup%28%7BmaxWidth%3A%20%27100%25%27%0A%20%20%20%20%20%20%20%20%20%20%20%20%0A%20%20%20%20%20%20%20%20%20%20%20%20%7D%29%3B%0A%0A%20%20%20%20%20%20%20%20%20%20%20%20%0A%20%20%20%20%20%20%20%20%20%20%20%20%20%20%20%20var%20html_16c702764c1741b7a2973946ea548135%20%3D%20%24%28%60%3Cdiv%20id%3D%22html_16c702764c1741b7a2973946ea548135%22%20style%3D%22width%3A%20100.0%25%3B%20height%3A%20100.0%25%3B%22%3ESMS_Manoel%3C/div%3E%60%29%5B0%5D%3B%0A%20%20%20%20%20%20%20%20%20%20%20%20%20%20%20%20popup_b3099e5130b647d39461d7881ed3e1fb.setContent%28html_16c702764c1741b7a2973946ea548135%29%3B%0A%20%20%20%20%20%20%20%20%20%20%20%20%0A%0A%20%20%20%20%20%20%20%20%20%20%20%20marker_c1f206efd149445b8b2f3f5406fc0f6e.bindPopup%28popup_b3099e5130b647d39461d7881ed3e1fb%29%0A%20%20%20%20%20%20%20%20%20%20%20%20%3B%0A%0A%20%20%20%20%20%20%20%20%20%20%20%20%0A%20%20%20%20%20%20%20%20%0A%20%20%20%20%0A%20%20%20%20%20%20%20%20marker_c1f206efd149445b8b2f3f5406fc0f6e.bindTooltip%28%0A%20%20%20%20%20%20%20%20%20%20%20%20%60%3Cdiv%3E%60%0A%20%20%20%20%20%20%20%20%20%20%20%20%2B%20%60Click%20here%20to%20see%20Popup%60%20%2B%20%60%3C/div%3E%60%2C%0A%20%20%20%20%20%20%20%20%20%20%20%20%7B%22sticky%22%3A%20true%7D%0A%20%20%20%20%20%20%20%20%29%3B%0A%20%20%20%20%20%20%20%20%0A%20%20%20%20%0A%20%20%20%20%20%20%20%20var%20marker_653f9548aa4a4452ad26db6aed20a515%20%3D%20L.marker%28%0A%20%20%20%20%20%20%20%20%20%20%20%20%5B-22.92558945200113%2C%20-43.17631717131938%5D%2C%0A%20%20%20%20%20%20%20%20%20%20%20%20%7B%0A%20%20%20%20%20%20%20%20%20%20%20%20%20%20%20%20icon%3A%20new%20L.Icon.Default%28%29%2C%0A%20%20%20%20%20%20%20%20%20%20%20%20%20%20%20%20%7D%0A%20%20%20%20%20%20%20%20%20%20%20%20%29.addTo%28map_bc409e4ab39546f9aa70f02923a75071%29%3B%0A%20%20%20%20%20%20%20%20%0A%20%20%20%20%0A%20%20%20%20%20%20%20%20%20%20%20%20var%20popup_e61dfa34a4054e17a1477f4ef0f14284%20%3D%20L.popup%28%7BmaxWidth%3A%20%27100%25%27%0A%20%20%20%20%20%20%20%20%20%20%20%20%0A%20%20%20%20%20%20%20%20%20%20%20%20%7D%29%3B%0A%0A%20%20%20%20%20%20%20%20%20%20%20%20%0A%20%20%20%20%20%20%20%20%20%20%20%20%20%20%20%20var%20html_751070d96cef43459a79d82a42f68660%20%3D%20%24%28%60%3Cdiv%20id%3D%22html_751070d96cef43459a79d82a42f68660%22%20style%3D%22width%3A%20100.0%25%3B%20height%3A%20100.0%25%3B%22%3EMuseu_Republica%3C/div%3E%60%29%5B0%5D%3B%0A%20%20%20%20%20%20%20%20%20%20%20%20%20%20%20%20popup_e61dfa34a4054e17a1477f4ef0f14284.setContent%28html_751070d96cef43459a79d82a42f68660%29%3B%0A%20%20%20%20%20%20%20%20%20%20%20%20%0A%0A%20%20%20%20%20%20%20%20%20%20%20%20marker_653f9548aa4a4452ad26db6aed20a515.bindPopup%28popup_e61dfa34a4054e17a1477f4ef0f14284%29%0A%20%20%20%20%20%20%20%20%20%20%20%20%3B%0A%0A%20%20%20%20%20%20%20%20%20%20%20%20%0A%20%20%20%20%20%20%20%20%0A%20%20%20%20%0A%20%20%20%20%20%20%20%20marker_653f9548aa4a4452ad26db6aed20a515.bindTooltip%28%0A%20%20%20%20%20%20%20%20%20%20%20%20%60%3Cdiv%3E%60%0A%20%20%20%20%20%20%20%20%20%20%20%20%2B%20%60Click%20here%20to%20see%20Popup%60%20%2B%20%60%3C/div%3E%60%2C%0A%20%20%20%20%20%20%20%20%20%20%20%20%7B%22sticky%22%3A%20true%7D%0A%20%20%20%20%20%20%20%20%29%3B%0A%20%20%20%20%20%20%20%20%0A%20%20%20%20%0A%20%20%20%20%20%20%20%20var%20marker_4542049ee04b41a1ad4122d8ba75dd61%20%3D%20L.marker%28%0A%20%20%20%20%20%20%20%20%20%20%20%20%5B-22.952991968665895%2C%20-43.17672013096345%5D%2C%0A%20%20%20%20%20%20%20%20%20%20%20%20%7B%0A%20%20%20%20%20%20%20%20%20%20%20%20%20%20%20%20icon%3A%20new%20L.Icon.Default%28%29%2C%0A%20%20%20%20%20%20%20%20%20%20%20%20%20%20%20%20%7D%0A%20%20%20%20%20%20%20%20%20%20%20%20%29.addTo%28map_bc409e4ab39546f9aa70f02923a75071%29%3B%0A%20%20%20%20%20%20%20%20%0A%20%20%20%20%0A%20%20%20%20%20%20%20%20%20%20%20%20var%20popup_304e903b47f74d3491b90f7b7ea089d5%20%3D%20L.popup%28%7BmaxWidth%3A%20%27100%25%27%0A%20%20%20%20%20%20%20%20%20%20%20%20%0A%20%20%20%20%20%20%20%20%20%20%20%20%7D%29%3B%0A%0A%20%20%20%20%20%20%20%20%20%20%20%20%0A%20%20%20%20%20%20%20%20%20%20%20%20%20%20%20%20var%20html_f26923b437f44e3c97e173e42278a1be%20%3D%20%24%28%60%3Cdiv%20id%3D%22html_f26923b437f44e3c97e173e42278a1be%22%20style%3D%22width%3A%20100.0%25%3B%20height%3A%20100.0%25%3B%22%3ERochaMaia%3C/div%3E%60%29%5B0%5D%3B%0A%20%20%20%20%20%20%20%20%20%20%20%20%20%20%20%20popup_304e903b47f74d3491b90f7b7ea089d5.setContent%28html_f26923b437f44e3c97e173e42278a1be%29%3B%0A%20%20%20%20%20%20%20%20%20%20%20%20%0A%0A%20%20%20%20%20%20%20%20%20%20%20%20marker_4542049ee04b41a1ad4122d8ba75dd61.bindPopup%28popup_304e903b47f74d3491b90f7b7ea089d5%29%0A%20%20%20%20%20%20%20%20%20%20%20%20%3B%0A%0A%20%20%20%20%20%20%20%20%20%20%20%20%0A%20%20%20%20%20%20%20%20%0A%20%20%20%20%0A%20%20%20%20%20%20%20%20marker_4542049ee04b41a1ad4122d8ba75dd61.bindTooltip%28%0A%20%20%20%20%20%20%20%20%20%20%20%20%60%3Cdiv%3E%60%0A%20%20%20%20%20%20%20%20%20%20%20%20%2B%20%60Click%20here%20to%20see%20Popup%60%20%2B%20%60%3C/div%3E%60%2C%0A%20%20%20%20%20%20%20%20%20%20%20%20%7B%22sticky%22%3A%20true%7D%0A%20%20%20%20%20%20%20%20%29%3B%0A%20%20%20%20%20%20%20%20%0A%20%20%20%20%0A%20%20%20%20%20%20%20%20var%20marker_99a68c4993004e83aa1e94659ef938b7%20%3D%20L.marker%28%0A%20%20%20%20%20%20%20%20%20%20%20%20%5B-22.972828312011444%2C%20-43.22298287113733%5D%2C%0A%20%20%20%20%20%20%20%20%20%20%20%20%7B%0A%20%20%20%20%20%20%20%20%20%20%20%20%20%20%20%20icon%3A%20new%20L.Icon.Default%28%29%2C%0A%20%20%20%20%20%20%20%20%20%20%20%20%20%20%20%20%7D%0A%20%20%20%20%20%20%20%20%20%20%20%20%29.addTo%28map_bc409e4ab39546f9aa70f02923a75071%29%3B%0A%20%20%20%20%20%20%20%20%0A%20%20%20%20%0A%20%20%20%20%20%20%20%20%20%20%20%20var%20popup_2e27b5e38a3f4534af91bce6ac1b74dc%20%3D%20L.popup%28%7BmaxWidth%3A%20%27100%25%27%0A%20%20%20%20%20%20%20%20%20%20%20%20%0A%20%20%20%20%20%20%20%20%20%20%20%20%7D%29%3B%0A%0A%20%20%20%20%20%20%20%20%20%20%20%20%0A%20%20%20%20%20%20%20%20%20%20%20%20%20%20%20%20var%20html_8ce977e0a1e843d587d8625725dc1822%20%3D%20%24%28%60%3Cdiv%20id%3D%22html_8ce977e0a1e843d587d8625725dc1822%22%20style%3D%22width%3A%20100.0%25%3B%20height%3A%20100.0%25%3B%22%3EJockey%3C/div%3E%60%29%5B0%5D%3B%0A%20%20%20%20%20%20%20%20%20%20%20%20%20%20%20%20popup_2e27b5e38a3f4534af91bce6ac1b74dc.setContent%28html_8ce977e0a1e843d587d8625725dc1822%29%3B%0A%20%20%20%20%20%20%20%20%20%20%20%20%0A%0A%20%20%20%20%20%20%20%20%20%20%20%20marker_99a68c4993004e83aa1e94659ef938b7.bindPopup%28popup_2e27b5e38a3f4534af91bce6ac1b74dc%29%0A%20%20%20%20%20%20%20%20%20%20%20%20%3B%0A%0A%20%20%20%20%20%20%20%20%20%20%20%20%0A%20%20%20%20%20%20%20%20%0A%20%20%20%20%0A%20%20%20%20%20%20%20%20marker_99a68c4993004e83aa1e94659ef938b7.bindTooltip%28%0A%20%20%20%20%20%20%20%20%20%20%20%20%60%3Cdiv%3E%60%0A%20%20%20%20%20%20%20%20%20%20%20%20%2B%20%60Click%20here%20to%20see%20Popup%60%20%2B%20%60%3C/div%3E%60%2C%0A%20%20%20%20%20%20%20%20%20%20%20%20%7B%22sticky%22%3A%20true%7D%0A%20%20%20%20%20%20%20%20%29%3B%0A%20%20%20%20%20%20%20%20%0A%20%20%20%20%0A%20%20%20%20%20%20%20%20var%20marker_443c0211453d4ebd85f2dfa6dd3b6738%20%3D%20L.marker%28%0A%20%20%20%20%20%20%20%20%20%20%20%20%5B-22.993072809149222%2C%20-43.24392819385125%5D%2C%0A%20%20%20%20%20%20%20%20%20%20%20%20%7B%0A%20%20%20%20%20%20%20%20%20%20%20%20%20%20%20%20icon%3A%20new%20L.Icon.Default%28%29%2C%0A%20%20%20%20%20%20%20%20%20%20%20%20%20%20%20%20%7D%0A%20%20%20%20%20%20%20%20%20%20%20%20%29.addTo%28map_bc409e4ab39546f9aa70f02923a75071%29%3B%0A%20%20%20%20%20%20%20%20%0A%20%20%20%20%0A%20%20%20%20%20%20%20%20%20%20%20%20var%20popup_831884a989864b06b0234e2c2bb7bdbc%20%3D%20L.popup%28%7BmaxWidth%3A%20%27100%25%27%0A%20%20%20%20%20%20%20%20%20%20%20%20%0A%20%20%20%20%20%20%20%20%20%20%20%20%7D%29%3B%0A%0A%20%20%20%20%20%20%20%20%20%20%20%20%0A%20%20%20%20%20%20%20%20%20%20%20%20%20%20%20%20var%20html_32658083978f4879ba6f78bfe1bcbf2c%20%3D%20%24%28%60%3Cdiv%20id%3D%22html_32658083978f4879ba6f78bfe1bcbf2c%22%20style%3D%22width%3A%20100.0%25%3B%20height%3A%20100.0%25%3B%22%3ESMS_Rinaldo%3C/div%3E%60%29%5B0%5D%3B%0A%20%20%20%20%20%20%20%20%20%20%20%20%20%20%20%20popup_831884a989864b06b0234e2c2bb7bdbc.setContent%28html_32658083978f4879ba6f78bfe1bcbf2c%29%3B%0A%20%20%20%20%20%20%20%20%20%20%20%20%0A%0A%20%20%20%20%20%20%20%20%20%20%20%20marker_443c0211453d4ebd85f2dfa6dd3b6738.bindPopup%28popup_831884a989864b06b0234e2c2bb7bdbc%29%0A%20%20%20%20%20%20%20%20%20%20%20%20%3B%0A%0A%20%20%20%20%20%20%20%20%20%20%20%20%0A%20%20%20%20%20%20%20%20%0A%20%20%20%20%0A%20%20%20%20%20%20%20%20marker_443c0211453d4ebd85f2dfa6dd3b6738.bindTooltip%28%0A%20%20%20%20%20%20%20%20%20%20%20%20%60%3Cdiv%3E%60%0A%20%20%20%20%20%20%20%20%20%20%20%20%2B%20%60Click%20here%20to%20see%20Popup%60%20%2B%20%60%3C/div%3E%60%2C%0A%20%20%20%20%20%20%20%20%20%20%20%20%7B%22sticky%22%3A%20true%7D%0A%20%20%20%20%20%20%20%20%29%3B%0A%20%20%20%20%20%20%20%20%0A%20%20%20%20%0A%20%20%20%20%20%20%20%20%20%20%20%20%20%20%20%20var%20poly_line_1c7afbb504394b69b89c3184099d5d0e%20%3D%20L.polyline%28%0A%20%20%20%20%20%20%20%20%20%20%20%20%20%20%20%20%20%20%20%20%5B%5B-22.90984609532672%2C%20-43.16453481901272%5D%2C%20%5B-22.952991968665895%2C%20-43.17672013096345%5D%2C%20%5B-22.952482930053158%2C%20-43.17218892680484%5D%2C%20%5B-22.9580946963788%2C%20-43.17163770179098%5D%2C%20%5B-22.961615032735804%2C%20-43.16969176144102%5D%2C%20%5B-22.966471836602683%2C%20-43.18743054810058%5D%2C%20%5B-22.982878611270564%2C%20-43.18999059077894%5D%2C%20%5B-22.980824138520926%2C%20-43.196170400227025%5D%2C%20%5B-22.982878611270564%2C%20-43.18999059077894%5D%2C%20%5B-22.993072809149222%2C%20-43.24392819385125%5D%2C%20%5B-22.97453236829065%2C%20-43.23068921451901%5D%2C%20%5B-22.976046350999486%2C%20-43.222677436582906%5D%2C%20%5B-22.972828312011444%2C%20-43.22298287113733%5D%2C%20%5B-22.961542179910733%2C%20-43.21865804016312%5D%2C%20%5B-22.956908837230625%2C%20-43.19922559314023%5D%2C%20%5B-22.949163404648825%2C%20-43.192959953005364%5D%2C%20%5B-22.949479553434184%2C%20-43.189269233473865%5D%2C%20%5B-22.951060286280853%2C%20-43.18635099012338%5D%2C%20%5B-22.9252634072209%2C%20-43.17883808757883%5D%2C%20%5B-22.92558945200113%2C%20-43.17631717131938%5D%2C%20%5B-22.90984609532672%2C%20-43.16453481901272%5D%5D%2C%0A%20%20%20%20%20%20%20%20%20%20%20%20%20%20%20%20%20%20%20%20%7B%0A%20%20%22bubblingMouseEvents%22%3A%20true%2C%0A%20%20%22color%22%3A%20%22red%22%2C%0A%20%20%22dashArray%22%3A%20null%2C%0A%20%20%22dashOffset%22%3A%20null%2C%0A%20%20%22fill%22%3A%20false%2C%0A%20%20%22fillColor%22%3A%20%22red%22%2C%0A%20%20%22fillOpacity%22%3A%200.2%2C%0A%20%20%22fillRule%22%3A%20%22evenodd%22%2C%0A%20%20%22lineCap%22%3A%20%22round%22%2C%0A%20%20%22lineJoin%22%3A%20%22round%22%2C%0A%20%20%22noClip%22%3A%20false%2C%0A%20%20%22opacity%22%3A%200.3%2C%0A%20%20%22smoothFactor%22%3A%201.0%2C%0A%20%20%22stroke%22%3A%20true%2C%0A%20%20%22weight%22%3A%202%0A%7D%0A%20%20%20%20%20%20%20%20%20%20%20%20%20%20%20%20%20%20%20%20%29%0A%20%20%20%20%20%20%20%20%20%20%20%20%20%20%20%20%20%20%20%20.addTo%28map_bc409e4ab39546f9aa70f02923a75071%29%3B%0A%20%20%20%20%20%20%20%20%20%20%20%20%0A%20%20%20%20%0A%20%20%20%20%20%20%20%20%20%20%20%20%20%20%20%20var%20poly_line_228f51924dca4399b540f69e800f9c88%20%3D%20L.polyline%28%0A%20%20%20%20%20%20%20%20%20%20%20%20%20%20%20%20%20%20%20%20%5B%5B-22.90984609532672%2C%20-43.16453481901272%5D%2C%20%5B-22.952991968665895%2C%20-43.17672013096345%5D%2C%20%5B-22.952482930053158%2C%20-43.17218892680484%5D%2C%20%5B-22.9580946963788%2C%20-43.17163770179098%5D%2C%20%5B-22.961615032735804%2C%20-43.16969176144102%5D%2C%20%5B-22.966471836602683%2C%20-43.18743054810058%5D%2C%20%5B-22.982878611270564%2C%20-43.18999059077894%5D%2C%20%5B-22.980824138520926%2C%20-43.196170400227025%5D%2C%20%5B-22.982878611270564%2C%20-43.18999059077894%5D%2C%20%5B-22.993072809149222%2C%20-43.24392819385125%5D%2C%20%5B-22.97453236829065%2C%20-43.23068921451901%5D%2C%20%5B-22.976046350999486%2C%20-43.222677436582906%5D%2C%20%5B-22.972828312011444%2C%20-43.22298287113733%5D%2C%20%5B-22.961542179910733%2C%20-43.21865804016312%5D%2C%20%5B-22.956908837230625%2C%20-43.19922559314023%5D%2C%20%5B-22.949163404648825%2C%20-43.192959953005364%5D%2C%20%5B-22.949479553434184%2C%20-43.189269233473865%5D%2C%20%5B-22.951060286280853%2C%20-43.18635099012338%5D%2C%20%5B-22.9252634072209%2C%20-43.17883808757883%5D%2C%20%5B-22.92558945200113%2C%20-43.17631717131938%5D%2C%20%5B-22.90984609532672%2C%20-43.16453481901272%5D%5D%2C%0A%20%20%20%20%20%20%20%20%20%20%20%20%20%20%20%20%20%20%20%20%7B%0A%20%20%22bubblingMouseEvents%22%3A%20true%2C%0A%20%20%22color%22%3A%20%22red%22%2C%0A%20%20%22dashArray%22%3A%20null%2C%0A%20%20%22dashOffset%22%3A%20null%2C%0A%20%20%22fill%22%3A%20false%2C%0A%20%20%22fillColor%22%3A%20%22red%22%2C%0A%20%20%22fillOpacity%22%3A%200.2%2C%0A%20%20%22fillRule%22%3A%20%22evenodd%22%2C%0A%20%20%22lineCap%22%3A%20%22round%22%2C%0A%20%20%22lineJoin%22%3A%20%22round%22%2C%0A%20%20%22noClip%22%3A%20false%2C%0A%20%20%22opacity%22%3A%200.3%2C%0A%20%20%22smoothFactor%22%3A%201.0%2C%0A%20%20%22stroke%22%3A%20true%2C%0A%20%20%22weight%22%3A%205%0A%7D%0A%20%20%20%20%20%20%20%20%20%20%20%20%20%20%20%20%20%20%20%20%29%0A%20%20%20%20%20%20%20%20%20%20%20%20%20%20%20%20%20%20%20%20.addTo%28map_bc409e4ab39546f9aa70f02923a75071%29%3B%0A%20%20%20%20%20%20%20%20%20%20%20%20%0A%3C/script%3E onload=\"this.contentDocument.open();this.contentDocument.write(    decodeURIComponent(this.getAttribute('data-html')));this.contentDocument.close();\" \"allowfullscreen\" \"webkitallowfullscreen\" \"mozallowfullscreen\"></iframe>"
            ],
            "text/plain": [
              "<folium.folium.Map at 0x7fca77fb9cd0>"
            ]
          },
          "metadata": {
            "tags": []
          },
          "execution_count": 116
        }
      ]
    },
    {
      "cell_type": "code",
      "metadata": {
        "id": "ZIGnsLaS-r_4"
      },
      "source": [
        ""
      ],
      "execution_count": null,
      "outputs": []
    }
  ]
}